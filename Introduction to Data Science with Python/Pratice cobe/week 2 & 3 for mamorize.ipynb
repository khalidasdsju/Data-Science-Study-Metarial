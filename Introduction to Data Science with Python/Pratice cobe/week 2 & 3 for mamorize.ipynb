{
 "cells": [
  {
   "cell_type": "code",
   "execution_count": null,
   "id": "a976dcdf",
   "metadata": {},
   "outputs": [],
   "source": [
    "#b) Create a dataframe from the dictionary in part a)\n",
    "import pandas as pd\n",
    "df_1 = pd.DataFrame(data)\n",
    "df_1"
   ]
  },
  {
   "cell_type": "code",
   "execution_count": null,
   "id": "75a86bae",
   "metadata": {},
   "outputs": [],
   "source": [
    "# c) Extract the column Processor and Hard Disk\n",
    "df_1[['Processor','Hard Disk']]"
   ]
  },
  {
   "cell_type": "code",
   "execution_count": null,
   "id": "6e3808fb",
   "metadata": {},
   "outputs": [],
   "source": [
    "# d) Retrieve row number 3, 4, 5 and all the columns from the database.\n",
    "df_1.iloc[2:5]"
   ]
  },
  {
   "cell_type": "code",
   "execution_count": null,
   "id": "b431d583",
   "metadata": {},
   "outputs": [],
   "source": [
    "# f) Add a new row with the following data\n",
    "df_2 = {'Processor': 'Intel Core i5', 'RAM':'4GB','Hard Disk':'256GB','Screen Size':'14 inches','Price':50200}\n",
    "df_append=df_1.append(df_2,ignore_index=True)\n",
    "print(df_append)"
   ]
  },
  {
   "cell_type": "code",
   "execution_count": null,
   "id": "cf18702b",
   "metadata": {},
   "outputs": [],
   "source": [
    "# g) Add a new column named Graphics Card with the following data\n",
    "Graphics_card = ['Redeon vega','Inter graphics card','UHD graphics','Redeon vega','NVIDIA graphics','*']\n",
    "df_1['Graphics card'] = Graphics_card\n",
    "df_1"
   ]
  },
  {
   "cell_type": "code",
   "execution_count": null,
   "id": "8120f324",
   "metadata": {},
   "outputs": [],
   "source": [
    "# b) Assign row index as C1, C2, C3, C4, and C5.\n",
    "df1 = pd.DataFrame(data, index=['C1', 'C2', 'C3', 'C4', 'C5'])\n",
    "df1"
   ]
  },
  {
   "cell_type": "code",
   "execution_count": null,
   "id": "cc455f94",
   "metadata": {},
   "outputs": [],
   "source": [
    "# c) Select two columns Customer Name and Room Type to send it to reception.\n",
    "reception_data = df1[['Customers Name', 'Room type']]\n",
    "print(reception_data)"
   ]
  },
  {
   "cell_type": "code",
   "execution_count": null,
   "id": "156c2221",
   "metadata": {},
   "outputs": [],
   "source": [
    "# d) Select two rows C3 and C4 and two columns Length of Stay and Type of Visit using.loc.\n",
    "selected_data = df1.loc[['C3', 'C4'], ['Length of stay', 'Type of Visits']]\n",
    "print(selected_data)"
   ]
  },
  {
   "cell_type": "code",
   "execution_count": null,
   "id": "47e1cbfa",
   "metadata": {},
   "outputs": [],
   "source": [
    "# e) Using .iloc select the first three rows and the first three columns.\n",
    "selected_data = df1.iloc[:3, :3]\n",
    "print(selected_data)"
   ]
  },
  {
   "cell_type": "code",
   "execution_count": null,
   "id": "8f8a0dd6",
   "metadata": {},
   "outputs": [],
   "source": [
    "# f) Add a new column Transport Service with the data Yes, No, No, Yes, Yes, Yes using the insert command.\n",
    "transport_data = ['Yes', 'No', 'No', 'Yes', 'Yes']\n",
    "df1.insert(len(df1.columns), 'Transport Service', transport_data)\n",
    "print(df1)"
   ]
  },
  {
   "cell_type": "code",
   "execution_count": null,
   "id": "191a7ff5",
   "metadata": {},
   "outputs": [],
   "source": [
    "# g) Drop a row C4 from the dataset.\n",
    "df1 = df1.drop('C4')\n",
    "# Display the updated DataFrame\n",
    "print(df1)\n"
   ]
  },
  {
   "cell_type": "code",
   "execution_count": null,
   "id": "1880604d",
   "metadata": {},
   "outputs": [],
   "source": [
    "# h) Sort the dataframe by the Length of Stay.\n",
    "# Convert the 'Length of stay' column to a numerical format for sorting\n",
    "df1['Length of stay'] = df1['Length of stay'].str.extract('(\\d+)').astype(int)\n",
    "# Sort the DataFrame by the 'Length of stay' column\n",
    "df1 = df1.sort_values(by='Length of stay')\n",
    "# Reset the index to maintain order\n",
    "df1 = df1.reset_index(drop=True)\n",
    "# Display the sorted DataFrame\n",
    "print(df1)"
   ]
  },
  {
   "cell_type": "code",
   "execution_count": null,
   "id": "a2c28a25",
   "metadata": {},
   "outputs": [],
   "source": [
    "# i) Group the data by the Type of Visit and Room.\n",
    "grouped_df = df1.groupby(['Type of Visits', 'Room type']).size().reset_index(name='Count')\n",
    "print(grouped_df)"
   ]
  },
  {
   "cell_type": "code",
   "execution_count": null,
   "id": "aa1b8817",
   "metadata": {},
   "outputs": [],
   "source": [
    "import pandas as pd\n",
    "# Load the dataset from the CSV file\n",
    "df = pd.read_csv('bollywood.csv')"
   ]
  },
  {
   "cell_type": "code",
   "execution_count": null,
   "id": "26339b93",
   "metadata": {},
   "outputs": [],
   "source": [
    "# 1. How many records are present in the dataset? Print the metadata information of the dataset.\n",
    "# Get the number of records\n",
    "num_records = len(df)\n",
    "# Print the metadata information\n",
    "print(f\"Number of Records: {num_records}\")\n",
    "print(\"Metadata Information:\")\n",
    "print(df.info())"
   ]
  },
  {
   "cell_type": "code",
   "execution_count": null,
   "id": "12a5fde2",
   "metadata": {},
   "outputs": [],
   "source": [
    "# 2. How many movies got released in each genre? Which genre had highest number of releases? Sort\n",
    "# number of releases in each genre in descending order.\n",
    "df = pd.read_csv('bollywood.csv')\n",
    "genre_counts = df['Genre'].value_counts()\n",
    "print(\"Number of Movies Released in Each Genre:\")\n",
    "print(genre_counts)\n",
    "highest_release_genre = genre_counts.idxmax()\n",
    "highest_release_count = genre_counts.max()\n",
    "print(f\"\\nGenre with the Highest Number of Releases: {highest_release_genre}\")\n",
    "print(f\"Number of Releases in {highest_release_genre}: {highest_release_count}\")\n",
    "sorted_genre_counts = genre_counts.sort_values(ascending=False)\n",
    "print(\"\\nSorted Genre Counts in Descending Order:\")\n",
    "print(sorted_genre_counts)\n"
   ]
  },
  {
   "cell_type": "code",
   "execution_count": null,
   "id": "630d037f",
   "metadata": {},
   "outputs": [],
   "source": [
    "#3. How many movies in each genre got released in different release times like long weekend, festive\n",
    "# season, etc. (Note: Do a cross tabulation between Genre and ReleaseTime.)\n",
    "df = pd.read_csv('bollywood.csv')\n",
    "genre_release_cross_tab = pd.crosstab(df['Genre'], df['ReleaseTime'])\n",
    "print(\"Cross-Tabulation Between Genre and ReleaseTime:\")\n",
    "print(genre_release_cross_tab)\n"
   ]
  },
  {
   "cell_type": "code",
   "execution_count": null,
   "id": "710c5945",
   "metadata": {},
   "outputs": [],
   "source": [
    "# 4. Which month of the year, maximum number movie releases are seen? (Note: Extract a new column\n",
    "# called month from ReleaseDate column.)\n",
    "\n",
    "df['Release Date'] = pd.to_datetime(df['Release Date'])\n",
    "\n",
    "df['Release Month'] = df['Release Date'].dt.month\n",
    "\n",
    "month_counts = df['Release Month'].value_counts()\n",
    "\n",
    "max_release_month = month_counts.idxmax()\n",
    "\n",
    "max_release_count = month_counts.max()\n",
    "\n",
    "print(f\"The month with the Maximum Number of Movie Releases: {max_release_month}\")\n",
    "print(f\"Number of Movie Releases in {max_release_month}: {max_release_count}\")"
   ]
  },
  {
   "cell_type": "code",
   "execution_count": null,
   "id": "1a75bfc6",
   "metadata": {},
   "outputs": [],
   "source": [
    "# Convert the 'Release Date' column to a datetime data type\n",
    "df['Release Date'] = pd.to_datetime(df['Release Date'])\n",
    "\n",
    "# Extract the month from the 'Release Date' and create a new column 'Month'\n",
    "df['Month'] = df['Release Date'].dt.month\n",
    "\n",
    "# Print the DataFrame with the new 'Month' column\n",
    "print(df)"
   ]
  },
  {
   "cell_type": "code",
   "execution_count": null,
   "id": "8793ae11",
   "metadata": {},
   "outputs": [],
   "source": [
    "# 5. Which month of the year typically sees most releases of high budgeted movies, that is, movies with\n",
    "# budget of 25 crore or more?\n",
    "\n",
    "df['Release Date'] = pd.to_datetime(df['Release Date'])\n",
    "\n",
    "high_budget_movies = df[df['Budget'] >= 25]\n",
    "\n",
    "high_budget_movies['Release Month'] = high_budget_movies['Release Date'].dt.month\n",
    "\n",
    "month_counts = high_budget_movies['Release Month'].value_counts()\n",
    "max_release_month = month_counts.idxmax()\n",
    "max_release_count = month_counts.max()\n",
    "\n",
    "print(f\"The month with the Most Releases of High-Budget Movies: {max_release_month}\")\n",
    "print(f\"Number of High-Budget Movie Releases in {max_release_month}: {max_release_count}\")"
   ]
  },
  {
   "cell_type": "code",
   "execution_count": null,
   "id": "23fae158",
   "metadata": {},
   "outputs": [],
   "source": [
    "# 6. Which are the top 10 movies with maximum return on investment (ROI)?\n",
    "#Calculate return on investment (ROI) as (BoxOfficeCollection – Budget) / Budget.\n",
    "\n",
    "df['ROI'] = (df['BoxOfficeCollection'] - df['Budget']) / df['Budget']\n",
    "\n",
    "top_10_movies_by_roi = df.sort_values(by='ROI', ascending=False).head(10)\n",
    "\n",
    "print(\"Top 10 Movies with Maximum Return on Investment (ROI):\")\n",
    "print(top_10_movies_by_roi[['MovieName', 'ROI']])\n",
    "\n",
    "# Calculate ROI (Return on Investment) for each movie and add it as a new column\n",
    "df['ROI'] = (df['BoxOfficeCollection'] - df['Budget']) / df['Budget']\n",
    "\n",
    "print(df[['MovieName', 'BoxOfficeCollection', 'Budget', 'ROI']])"
   ]
  },
  {
   "cell_type": "code",
   "execution_count": null,
   "id": "f259a60e",
   "metadata": {},
   "outputs": [],
   "source": [
    "# 7. Do the movies have higher ROI if they get released on festive seasons or long weekend? \n",
    "#Calculate the average ROI for different release times.\n",
    "\n",
    "df['ROI'] = (df['BoxOfficeCollection'] - df['Budget']) / df['Budget']\n",
    "average_roi_by_release_time = df.groupby('ReleaseTime')['ROI'].mean()\n",
    "print(\"Average ROI by Release Time:\")\n",
    "print(average_roi_by_release_time)\n",
    "\n",
    "festive_season_roi = average_roi_by_release_time['FS']\n",
    "long_weekend_roi = average_roi_by_release_time['LW']\n",
    "normal_roi = average_roi_by_release_time['N']\n",
    "\n",
    "# Compare ROI for festive seasons, long weekends, and normal releases\n",
    "if festive_season_roi > normal_roi:\n",
    "    print(\"Movies released during Festive Seasons have a higher ROI.\")\n",
    "else:\n",
    "    print(\"Movies released during Normal times have a higher ROI.\")\n",
    "\n",
    "if long_weekend_roi > normal_roi:\n",
    "    print(\"Movies released during Long Weekends have a higher ROI.\")\n",
    "else:\n",
    "    print(\"Movies released during Normal times have a higher ROI.\")\n",
    "\n",
    "#Calculate the average ROI for different release times.\n",
    "  \n",
    "df['ROI'] = (df['BoxOfficeCollection'] - df['Budget']) / df['Budget']\n",
    "average_roi_by_release_time = df.groupby('ReleaseTime')['ROI'].mean()\n",
    "print(\"Average ROI for Different Release Times:\")\n",
    "print(average_roi_by_release_time)"
   ]
  },
  {
   "cell_type": "code",
   "execution_count": null,
   "id": "e9bd6e8e",
   "metadata": {},
   "outputs": [],
   "source": [
    "# 8. Draw a histogram and a distribution plot to find out the distribution of movie budgets. Interpret the plot\n",
    "# to conclude if the most movies are high or low budgeted movies.\n",
    "import seaborn as sns\n",
    "import matplotlib.pyplot as plt\n",
    "\n",
    "# Create a histogram for movie budgets\n",
    "plt.figure(figsize=(10, 6))\n",
    "sns.histplot(data=df, x='Budget', bins=20, kde=True)\n",
    "plt.title('Distribution of Movie Budgets')\n",
    "plt.xlabel('Budget (in Crores)')\n",
    "plt.ylabel('Frequency')\n",
    "plt.show()"
   ]
  },
  {
   "cell_type": "code",
   "execution_count": null,
   "id": "80cc8c8d",
   "metadata": {},
   "outputs": [],
   "source": [
    "#9. Compare the distribution of ROIs between movies with comedy genre and drama. Which genre typically sees higher ROIs?\n",
    "\n",
    "df['ROI'] = (df['BoxOfficeCollection'] - df['Budget']) / df['Budget']\n",
    "comedy_movies = df[df['Genre'] == 'Comedy']\n",
    "drama_movies = df[df['Genre'] == 'Drama']\n",
    "# Create distribution plots for ROI of Comedy and Drama movies\n",
    "plt.figure(figsize=(12, 6))\n",
    "sns.histplot(data=comedy_movies, x='ROI', label='Comedy', bins=20, kde=True)\n",
    "sns.histplot(data=drama_movies, x='ROI', label='Drama', bins=20, kde=True)\n",
    "plt.title('Distribution of ROIs for Comedy and Drama Movies')\n",
    "plt.xlabel('ROI')\n",
    "plt.ylabel('Frequency')\n",
    "plt.legend()\n",
    "plt.show()"
   ]
  },
  {
   "cell_type": "code",
   "execution_count": null,
   "id": "b49f9f73",
   "metadata": {},
   "outputs": [],
   "source": [
    "# 10. Is there a correlation between box office collection and YouTube likes? Is the correlation positive or negative?\n",
    "correlation = df['BoxOfficeCollection'].corr(df['YoutubeLikes'])\n",
    "\n",
    "# Determine if the correlation is positive, negative, or close to zero\n",
    "if correlation > 0:\n",
    "    correlation_type = 'positive'\n",
    "elif correlation < 0:\n",
    "    correlation_type = 'negative'\n",
    "else:\n",
    "    correlation_type = 'no'\n",
    "print(f\"Correlation Coefficient: {correlation}\")\n",
    "print(f\"Correlation is {correlation_type}.\")"
   ]
  },
  {
   "cell_type": "code",
   "execution_count": null,
   "id": "542bbd98",
   "metadata": {},
   "outputs": [],
   "source": [
    "# 11. Which genre of movies typically sees more YouTube likes? Draw boxplots for each genre of movies to compare.\n",
    "# Create a boxplot to compare YouTube likes by genre\n",
    "plt.figure(figsize=(12, 6))\n",
    "sns.boxplot(data=df, x='Genre', y='YoutubeLikes')\n",
    "plt.title('Comparison of YouTube Likes by Movie Genre')\n",
    "plt.xlabel('Genre')\n",
    "plt.ylabel('YouTube Likes')\n",
    "plt.xticks(rotation=45)  # Rotate genre labels for better readability\n",
    "plt.show()"
   ]
  },
  {
   "cell_type": "code",
   "execution_count": null,
   "id": "c80ac53e",
   "metadata": {},
   "outputs": [],
   "source": [
    "# 12. Which of the variables among Budget, BoxOfficeCollection, YoutubeView, YoutubeLikes,\n",
    "# YoutubeDislikes are highly correlated? Note: Draw pair plot or heatmap.\n",
    "\n",
    "# Select the columns of interest for correlation analysis\n",
    "columns_of_interest = ['Budget', 'BoxOfficeCollection', 'YoutubeViews', 'YoutubeLikes', 'YoutubeDislikes']\n",
    "subset_df = df[columns_of_interest]\n",
    "\n",
    "# Calculate the correlation matrix\n",
    "correlation_matrix = subset_df.corr()\n",
    "\n",
    "# Create a heatmap to visualize the correlation matrix\n",
    "plt.figure(figsize=(10, 6))\n",
    "sns.heatmap(correlation_matrix, annot=True, cmap='coolwarm', fmt=\".2f\", linewidths=0.5)\n",
    "plt.title('Correlation Heatmap')\n",
    "plt.show()"
   ]
  },
  {
   "cell_type": "code",
   "execution_count": null,
   "id": "f1d42e13",
   "metadata": {},
   "outputs": [],
   "source": [
    "# 12. Which of the variables among Budget, BoxOfficeCollection, YoutubeView, YoutubeLikes,\n",
    "# YoutubeDislikes are highly correlated? Note: Draw pair plot or heatmap.\n",
    "\n",
    "# Select the columns of interest for correlation analysis\n",
    "columns_of_interest = ['Budget', 'BoxOfficeCollection', 'YoutubeViews', 'YoutubeLikes', 'YoutubeDislikes']\n",
    "subset_df = df[columns_of_interest]\n",
    "\n",
    "# Calculate the correlation matrix\n",
    "correlation_matrix = subset_df.corr()\n",
    "\n",
    "# Create a heatmap to visualize the correlation matrix\n",
    "plt.figure(figsize=(10, 6))\n",
    "sns.heatmap(correlation_matrix, annot=True, cmap='coolwarm', fmt=\".2f\", linewidths=0.5)\n",
    "plt.title('Correlation Heatmap')\n",
    "plt.show()"
   ]
  },
  {
   "cell_type": "code",
   "execution_count": null,
   "id": "4d276c31",
   "metadata": {},
   "outputs": [],
   "source": [
    " # 14. Draw a bar plot to show the number of persons having CHD or not in comparison to they having\n",
    "# family history of the disease or not.\n",
    "import pandas as pd\n",
    "import matplotlib.pyplot as plt\n",
    "\n",
    "chd_famhist_counts = df.groupby(['chd', 'famhist']).size().unstack()\n",
    "ax = chd_famhist_counts.plot(kind='bar', stacked=True, figsize=(8, 6))\n",
    "plt.xlabel('Family History of Heart Disease (famhist)')\n",
    "plt.ylabel('Number of Persons')\n",
    "plt.title('Number of Persons with CHD vs. Family History')\n",
    "plt.legend(title='CHD', labels=['No CHD', 'CHD'], loc='upper right')\n",
    "plt.show()"
   ]
  },
  {
   "cell_type": "code",
   "execution_count": null,
   "id": "1c6b42a3",
   "metadata": {},
   "outputs": [],
   "source": [
    "# 15. Does age have any correlation with sbp? Choose appropriate plot to show the relationship.\n",
    "plt.figure(figsize=(8, 6))\n",
    "plt.scatter(df['age'], df['sbp'], alpha=0.5)\n",
    "plt.title('Scatter Plot: Age vs. Systolic Blood Pressure (sbp)')\n",
    "plt.xlabel('Age')\n",
    "plt.ylabel('Systolic Blood Pressure (sbp)')\n",
    "plt.grid(True)\n",
    "# Show the plot\n",
    "plt.show()"
   ]
  },
  {
   "cell_type": "code",
   "execution_count": null,
   "id": "5345e3b1",
   "metadata": {},
   "outputs": [],
   "source": [
    "#17. How are the parameters sbp, obesity, age and ldl correlated? Choose the right plot to show the\n",
    "# relationships.\n",
    "import seaborn as sns\n",
    "selected_columns = ['sbp', 'obesity', 'age', 'ldl']\n",
    "sns.pairplot(df[selected_columns], diag_kind='kde', markers='o', hue=None)\n",
    "plt.suptitle('Pair Plot of sbp, obesity, age, and ldl')\n",
    "plt.show()"
   ]
  },
  {
   "cell_type": "code",
   "execution_count": null,
   "id": "5c400243",
   "metadata": {},
   "outputs": [],
   "source": [
    "# 17. How are the parameters sbp, obesity, age and ldl correlated? Choose the right plot to show the\n",
    " # relationships.\n",
    "\n",
    "selected_columns = ['sbp', 'obesity', 'age', 'ldl']\n",
    "correlation_matrix = df[selected_columns].corr()\n",
    "plt.figure(figsize=(8, 6))\n",
    "sns.heatmap(correlation_matrix, annot=True, cmap='coolwarm', fmt=\".2f\", linewidths=0.5)\n",
    "plt.title('Correlation Heatmap: sbp, obesity, age, and ldl')\n",
    "plt.show()"
   ]
  },
  {
   "cell_type": "code",
   "execution_count": null,
   "id": "7aa5976a",
   "metadata": {},
   "outputs": [],
   "source": [
    "#18. Derive a new column called agegroup from age column where persons falling in different age ranges\n",
    "#are categorized as below.\n",
    "#(0–15): young\n",
    "#(15–35): adults\n",
    "#(35–55): mid\n",
    "#(55–): old\n",
    "# Define a function to categorize age into age groups\n",
    "def categorize_age(age):\n",
    "    if age <= 15:\n",
    "        return 'young'\n",
    "    elif 15 < age <= 35:\n",
    "        return 'adults'\n",
    "    elif 35 < age <= 55:\n",
    "        return 'mid'\n",
    "    else:\n",
    "        return 'old'\n",
    "\n",
    "df['agegroup'] = df['age'].apply(categorize_age)\n",
    "\n",
    "print(df[['age', 'agegroup']])"
   ]
  },
  {
   "cell_type": "code",
   "execution_count": null,
   "id": "e3b52576",
   "metadata": {},
   "outputs": [],
   "source": [
    "# 19. Find out the number of CHD cases in different age categories. Do a barplot and sort them in the order\n",
    "# of age groups.\n",
    "\n",
    "def categorize_age(age):\n",
    "    if age <= 15:\n",
    "        return 'young'\n",
    "    elif 15 < age <= 35:\n",
    "        return 'adults'\n",
    "    elif 35 < age <= 55:\n",
    "        return 'mid'\n",
    "    else:\n",
    "        return 'old'\n",
    "    \n",
    "df['agegroup'] = df['age'].apply(categorize_age)\n",
    "\n",
    "chd_age_counts = df.groupby(['agegroup', 'chd']).size().unstack()\n",
    "\n",
    "ax = chd_age_counts.plot(kind='bar', stacked=True, figsize=(8, 6))\n",
    "\n",
    "# Set plot labels and title\n",
    "plt.xlabel('Age Group')\n",
    "plt.ylabel('Number of CHD Cases')\n",
    "plt.title('Number of CHD Cases in Different Age Categories')\n",
    "plt.xticks(rotation=0)  # Keep age group labels horizontal\n",
    "\n",
    "# Add a legend\n",
    "plt.legend(title='CHD', labels=['No CHD', 'CHD'], loc='upper right')\n",
    "\n",
    "# Show the plot\n",
    "plt.show()"
   ]
  },
  {
   "cell_type": "code",
   "execution_count": null,
   "id": "4c2cadc0",
   "metadata": {},
   "outputs": [],
   "source": [
    "# 20. Draw a box plot to compare distributions of ldl for different age groups.\n",
    "\n",
    "def categorize_age(age):\n",
    "    if age <= 15:\n",
    "        return 'young'\n",
    "    elif 15 < age <= 35:\n",
    "        return 'adults'\n",
    "    elif 35 < age <= 55:\n",
    "        return 'mid'\n",
    "    else:\n",
    "        return 'old'\n",
    "\n",
    "# Apply the categorization function to create the 'agegroup' column\n",
    "df['agegroup'] = df['age'].apply(categorize_age)\n",
    "\n",
    "# Create a box plot to compare distributions of ldl for different age groups\n",
    "plt.figure(figsize=(8, 6))\n",
    "sns.boxplot(data=df, x='agegroup', y='ldl', order=['young', 'adults', 'mid', 'old'])\n",
    "plt.title('Box Plot: Distribution of LDL for Different Age Groups')\n",
    "plt.xlabel('Age Group')\n",
    "plt.ylabel('LDL (Low Density Lipoprotein Cholesterol)')\n",
    "\n",
    "# Show the plot\n",
    "plt.show()"
   ]
  },
  {
   "cell_type": "code",
   "execution_count": null,
   "id": "fa9fa14f",
   "metadata": {},
   "outputs": [],
   "source": []
  }
 ],
 "metadata": {
  "kernelspec": {
   "display_name": "Python 3 (ipykernel)",
   "language": "python",
   "name": "python3"
  },
  "language_info": {
   "codemirror_mode": {
    "name": "ipython",
    "version": 3
   },
   "file_extension": ".py",
   "mimetype": "text/x-python",
   "name": "python",
   "nbconvert_exporter": "python",
   "pygments_lexer": "ipython3",
   "version": "3.11.4"
  }
 },
 "nbformat": 4,
 "nbformat_minor": 5
}
