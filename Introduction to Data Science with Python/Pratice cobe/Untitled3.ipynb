{
 "cells": [
  {
   "cell_type": "code",
   "execution_count": null,
   "id": "dbe010b4",
   "metadata": {},
   "outputs": [],
   "source": [
    "import pandas as pd \n",
    "df1=pd.DataFrame(data)\n",
    "df1"
   ]
  },
  {
   "cell_type": "code",
   "execution_count": null,
   "id": "ad2e2d8a",
   "metadata": {},
   "outputs": [],
   "source": [
    "df1['mean']=df1[['course1','course2','course3']].mean(axis=1)\n",
    "df1"
   ]
  },
  {
   "cell_type": "code",
   "execution_count": null,
   "id": "1e8fd72f",
   "metadata": {},
   "outputs": [],
   "source": [
    "tip=pd.read_csv('bollywood.csv')\n",
    "tip"
   ]
  },
  {
   "cell_type": "code",
   "execution_count": null,
   "id": "1b5eaf11",
   "metadata": {},
   "outputs": [],
   "source": [
    " tip.head(3)"
   ]
  },
  {
   "cell_type": "code",
   "execution_count": null,
   "id": "92371123",
   "metadata": {},
   "outputs": [],
   "source": [
    "tip.info()"
   ]
  },
  {
   "cell_type": "code",
   "execution_count": null,
   "id": "0e06ab1e",
   "metadata": {},
   "outputs": [],
   "source": [
    "num_features = tip.shape[1]\n",
    "num_features"
   ]
  },
  {
   "cell_type": "code",
   "execution_count": null,
   "id": "147dfc3d",
   "metadata": {},
   "outputs": [],
   "source": [
    "features=tip.columns.tolist()\n",
    "features"
   ]
  },
  {
   "cell_type": "code",
   "execution_count": null,
   "id": "fcfc8320",
   "metadata": {},
   "outputs": [],
   "source": [
    "column_dtypes = tip.dtypes\n",
    "column_dtypes"
   ]
  },
  {
   "cell_type": "code",
   "execution_count": null,
   "id": "a1a0a976",
   "metadata": {},
   "outputs": [],
   "source": [
    "num_Ca_vari=len(tip.dtypes[tip.dtypes=='object'])\n",
    "num_Ca_vari"
   ]
  },
  {
   "cell_type": "code",
   "execution_count": null,
   "id": "f6c7d600",
   "metadata": {},
   "outputs": [],
   "source": [
    "categorical_df=tip.select_dtypes(include=['object'])\n",
    "for column in categorical_df.columns:\n",
    "    unique_values=categorical_df[column].unique()\n",
    "unique_values"
   ]
  },
  {
   "cell_type": "code",
   "execution_count": null,
   "id": "58ae8393",
   "metadata": {},
   "outputs": [],
   "source": [
    "num_rows = tip.shape[0]\n",
    "num_rows"
   ]
  },
  {
   "cell_type": "code",
   "execution_count": null,
   "id": "d3d9c0b6",
   "metadata": {},
   "outputs": [],
   "source": [
    "import pandas as pd\n",
    "# Load the CSV file into a DataFrame\n",
    "tip = pd.read_csv('bollywood.csv')\n",
    "# Save the DataFrame as a CSV file without including the index column\n",
    "tip.to_csv('bollywood_dataset.csv', index=False)"
   ]
  },
  {
   "cell_type": "code",
   "execution_count": null,
   "id": "107b8f4a",
   "metadata": {},
   "outputs": [],
   "source": [
    "summary=tip.describe(include='all')\n",
    "summary"
   ]
  },
  {
   "cell_type": "code",
   "execution_count": null,
   "id": "2d5480ba",
   "metadata": {},
   "outputs": [],
   "source": [
    "from matplotlib import pyplot as plt\n",
    "student_perfarmence=['excelent','good','avarge','poor']\n",
    "student_values=[15,25,12,8]\n",
    "plt.pie(student_values,labels=student_perfarmence,autopct='%2.1f%%')\n",
    "plt.show"
   ]
  },
  {
   "cell_type": "code",
   "execution_count": null,
   "id": "50f939bc",
   "metadata": {},
   "outputs": [],
   "source": [
    "# h) Sort the dataframe by the Length of Stay.\n",
    "# Convert the 'Length of stay' column to a numerical format for sorting\n",
    "df1['Length of stay'] = df1['Length of stay'].str.extract('(\\d+)').astype(int)\n",
    "# Sort the DataFrame by the 'Length of stay' column\n",
    "df1 = df1.sort_values(by='Length of stay')\n",
    "# Reset the index to maintain order\n",
    "df1 = df1.reset_index(drop=True)\n",
    "# Display the sorted DataFrame\n",
    "print(df1)"
   ]
  },
  {
   "cell_type": "code",
   "execution_count": null,
   "id": "b5ee91ef",
   "metadata": {},
   "outputs": [],
   "source": [
    "# i) Group the data by the Type of Visit and Room.\n",
    "grouped_df = df1.groupby(['Type of Visits', 'Room type']).size().reset_index\n",
    "(name='Count')\n",
    "print(grouped_df)"
   ]
  },
  {
   "cell_type": "code",
   "execution_count": null,
   "id": "03dade13",
   "metadata": {},
   "outputs": [],
   "source": [
    "import matplotlib.pyplot as plt\n",
    "categories = ['Category A', 'Category B', 'Category C', 'Category D']\n",
    "values = [10, 24, 17, 30]\n",
    "plt.bar(categories, values)\n",
    "plt.xlabel('Categories')\n",
    "plt.ylabel('Values')\n",
    "plt.title('Bar Plot Example')\n",
    "plt.show()"
   ]
  }
 ],
 "metadata": {
  "kernelspec": {
   "display_name": "Python 3 (ipykernel)",
   "language": "python",
   "name": "python3"
  },
  "language_info": {
   "codemirror_mode": {
    "name": "ipython",
    "version": 3
   },
   "file_extension": ".py",
   "mimetype": "text/x-python",
   "name": "python",
   "nbconvert_exporter": "python",
   "pygments_lexer": "ipython3",
   "version": "3.11.4"
  }
 },
 "nbformat": 4,
 "nbformat_minor": 5
}
