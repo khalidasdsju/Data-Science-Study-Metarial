{
 "cells": [
  {
   "cell_type": "markdown",
   "id": "d2fb7e50",
   "metadata": {},
   "source": [
    "# Week#02: Python Libraries (Part I)\n",
    "**Course:** WMASDS04-Introduction to Data Science with Python\n",
    "<br>**Instructor:** Farhana Afrin Duti, Department of Statistics, JU\n",
    "\n",
    "<br>**Objectives:** \n",
    "- Numpy\n",
    "- Pandas\n",
    "- Matplotlib\n",
    "- Seaborn"
   ]
  },
  {
   "cell_type": "markdown",
   "id": "2037b6a8",
   "metadata": {},
   "source": [
    "#### Ndarray\n",
    "- Random Number Generation\n",
    "- Vector representation of data\n",
    "- Matrix representation of data\n",
    "- Statistical Function\n",
    "- Slicing\n",
    "\n",
    "#### DataFrame\n",
    "- Creating dataframe from list, dictionary\n",
    "- Extracting subset of dataframe\n",
    "- Adding row or column\n",
    "- Dropping row or column\n",
    "- Sorting data\n",
    "- Grouping data"
   ]
  },
  {
   "cell_type": "markdown",
   "id": "d024e9fd",
   "metadata": {},
   "source": [
    "### Numpy Library\n",
    "Numpy stands for Numerical Python"
   ]
  },
  {
   "cell_type": "markdown",
   "id": "71c2c1fb",
   "metadata": {},
   "source": [
    "- Importing Numpy"
   ]
  },
  {
   "cell_type": "code",
   "execution_count": 1,
   "id": "81256b93",
   "metadata": {},
   "outputs": [
    {
     "name": "stdout",
     "output_type": "stream",
     "text": [
      "[1 2 3]\n",
      "<class 'numpy.ndarray'>\n"
     ]
    }
   ],
   "source": [
    "# Import numpy\n",
    "import numpy as np \n",
    "ar1 = np.array([1,2,3])\n",
    "print(ar1)\n",
    "print(type(ar1))"
   ]
  },
  {
   "cell_type": "markdown",
   "id": "dc63d519",
   "metadata": {},
   "source": [
    "- Generating Random Numbers in Numpy"
   ]
  },
  {
   "cell_type": "code",
   "execution_count": 2,
   "id": "42e9f838",
   "metadata": {},
   "outputs": [
    {
     "name": "stdout",
     "output_type": "stream",
     "text": [
      "[42 24  3  8  0 21 19]\n",
      "<class 'numpy.ndarray'>\n"
     ]
    }
   ],
   "source": [
    " #set the seed and generate 7 random numbers between 1 and 50\n",
    "np.random.seed(3)            \n",
    "rn = np.random.randint(0,50,7)\n",
    "print(rn)\n",
    "print(type(rn))"
   ]
  },
  {
   "cell_type": "code",
   "execution_count": null,
   "id": "beb2beb5",
   "metadata": {},
   "outputs": [],
   "source": []
  },
  {
   "cell_type": "markdown",
   "id": "9730051c",
   "metadata": {},
   "source": [
    "- Vector Creation"
   ]
  },
  {
   "cell_type": "code",
   "execution_count": 3,
   "id": "3d6260f0",
   "metadata": {},
   "outputs": [
    {
     "name": "stdout",
     "output_type": "stream",
     "text": [
      "[1 2 3 4 5 6]\n",
      "[[1]\n",
      " [2]\n",
      " [3]\n",
      " [4]\n",
      " [5]\n",
      " [6]]\n"
     ]
    }
   ],
   "source": [
    "v1 = np.array([1,2,3,4,5,6])         #verctor in a row\n",
    "print(v1)\n",
    "\n",
    "v2 = np.array([[1],[2],[3],[4],[5],[6]])    #vector as a column\n",
    "print(v2)"
   ]
  },
  {
   "cell_type": "code",
   "execution_count": null,
   "id": "33a9e6de",
   "metadata": {},
   "outputs": [],
   "source": []
  },
  {
   "cell_type": "markdown",
   "id": "618abcd2",
   "metadata": {},
   "source": [
    "- Extracting elements from vector"
   ]
  },
  {
   "cell_type": "code",
   "execution_count": 4,
   "id": "9e44c386",
   "metadata": {},
   "outputs": [
    {
     "data": {
      "text/plain": [
       "3"
      ]
     },
     "execution_count": 4,
     "metadata": {},
     "output_type": "execute_result"
    }
   ],
   "source": [
    "v1[2]"
   ]
  },
  {
   "cell_type": "code",
   "execution_count": 5,
   "id": "557d5457",
   "metadata": {},
   "outputs": [
    {
     "data": {
      "text/plain": [
       "array([3, 4])"
      ]
     },
     "execution_count": 5,
     "metadata": {},
     "output_type": "execute_result"
    }
   ],
   "source": [
    "v1[2:4]"
   ]
  },
  {
   "cell_type": "code",
   "execution_count": 6,
   "id": "f66b5ac6",
   "metadata": {},
   "outputs": [
    {
     "name": "stdout",
     "output_type": "stream",
     "text": [
      "[1 2 3]\n",
      "[4 5 6]\n",
      "6\n"
     ]
    }
   ],
   "source": [
    "print(v1[:3])\n",
    "print(v1[3:])\n",
    "print(v1[-1])"
   ]
  },
  {
   "cell_type": "code",
   "execution_count": 7,
   "id": "42db3812",
   "metadata": {},
   "outputs": [
    {
     "data": {
      "text/plain": [
       "array([[2],\n",
       "       [3],\n",
       "       [4],\n",
       "       [5]])"
      ]
     },
     "execution_count": 7,
     "metadata": {},
     "output_type": "execute_result"
    }
   ],
   "source": [
    "v2[1:5]"
   ]
  },
  {
   "cell_type": "code",
   "execution_count": null,
   "id": "c09bdd13",
   "metadata": {},
   "outputs": [],
   "source": []
  },
  {
   "cell_type": "markdown",
   "id": "62702b5f",
   "metadata": {},
   "source": [
    "- **Matrix in Numpy**"
   ]
  },
  {
   "cell_type": "code",
   "execution_count": 8,
   "id": "89ba851f",
   "metadata": {},
   "outputs": [
    {
     "name": "stdout",
     "output_type": "stream",
     "text": [
      "[[1 2 3]\n",
      " [4 5 6]]\n"
     ]
    }
   ],
   "source": [
    "m1= np.array([[1,2,3],[4,5,6]])\n",
    "print(m1)"
   ]
  },
  {
   "cell_type": "code",
   "execution_count": 9,
   "id": "3ebaad60",
   "metadata": {},
   "outputs": [
    {
     "data": {
      "text/plain": [
       "array([[1, 4],\n",
       "       [2, 5],\n",
       "       [3, 6]])"
      ]
     },
     "execution_count": 9,
     "metadata": {},
     "output_type": "execute_result"
    }
   ],
   "source": [
    "m1.ndim         #dimension of matrix\n",
    "m1.shape        # number of rows/columns\n",
    "m1.dtype        # provide the data type of a matrix\n",
    "m1.size         # number of elements\n",
    "m1.reshape(3,2) #reshape the matrix based on given dimension\n",
    "m1.T            #Transpose"
   ]
  },
  {
   "cell_type": "code",
   "execution_count": 10,
   "id": "0f7bdfd7",
   "metadata": {},
   "outputs": [
    {
     "name": "stdout",
     "output_type": "stream",
     "text": [
      "matrix dimension:  2\n",
      "shape of the matrix:  (2, 3)\n",
      "data type of matrix:  int32\n"
     ]
    }
   ],
   "source": [
    "print('matrix dimension: ',m1.ndim)\n",
    "print('shape of the matrix: ',m1.shape)\n",
    "print('data type of matrix: ', m1.dtype)"
   ]
  },
  {
   "cell_type": "markdown",
   "id": "f5c9cd93",
   "metadata": {},
   "source": [
    "- **Statistical Functions**"
   ]
  },
  {
   "cell_type": "code",
   "execution_count": 11,
   "id": "95c0463a",
   "metadata": {},
   "outputs": [
    {
     "data": {
      "text/plain": [
       "array([[1.        , 1.41421356, 1.73205081],\n",
       "       [2.        , 2.23606798, 2.44948974]])"
      ]
     },
     "execution_count": 11,
     "metadata": {},
     "output_type": "execute_result"
    }
   ],
   "source": [
    "np.max(m1)                     #print maximum value of a matrix\n",
    "np.min(m1)                     #print minimu \n",
    "np.max(m1,axis = 0)            #Print the maximum value for each column, set axis = 0\n",
    "np.min(m1,axis = 0)            #Print the maximum value for each column\n",
    "np.max(m1,axis = 1)            #Print the maximum value for each row\n",
    "np.min(m1,axis = 1)            #Print the maximum value for each row, set axis = 1\n",
    "np.mean(m1)\n",
    "np.var(m1)\n",
    "np.std(m1)\n",
    "np.sqrt(m1)                    # print square root of all values of a matrix"
   ]
  },
  {
   "cell_type": "code",
   "execution_count": null,
   "id": "67a78522",
   "metadata": {},
   "outputs": [],
   "source": []
  },
  {
   "cell_type": "markdown",
   "id": "58b1e774",
   "metadata": {},
   "source": [
    "- **slicing operations**"
   ]
  },
  {
   "cell_type": "code",
   "execution_count": 12,
   "id": "1a29edca",
   "metadata": {},
   "outputs": [
    {
     "data": {
      "text/plain": [
       "array([2, 5])"
      ]
     },
     "execution_count": 12,
     "metadata": {},
     "output_type": "execute_result"
    }
   ],
   "source": [
    "m1[0,2]                     #extracts the element in the first row and third column\n",
    "m1[0,:]\n",
    "m1[:,1]"
   ]
  },
  {
   "cell_type": "code",
   "execution_count": null,
   "id": "dd4039c0",
   "metadata": {},
   "outputs": [],
   "source": []
  },
  {
   "cell_type": "markdown",
   "id": "686b25f8",
   "metadata": {},
   "source": [
    "## Pandas Library\n",
    "Python library for data analysis\n"
   ]
  },
  {
   "cell_type": "code",
   "execution_count": 13,
   "id": "dddabde0",
   "metadata": {},
   "outputs": [],
   "source": [
    "import pandas as pd"
   ]
  },
  {
   "cell_type": "code",
   "execution_count": 1,
   "id": "18ecd5f2",
   "metadata": {},
   "outputs": [
    {
     "ename": "NameError",
     "evalue": "name 'pd' is not defined",
     "output_type": "error",
     "traceback": [
      "\u001b[1;31m---------------------------------------------------------------------------\u001b[0m",
      "\u001b[1;31mNameError\u001b[0m                                 Traceback (most recent call last)",
      "Cell \u001b[1;32mIn[1], line 1\u001b[0m\n\u001b[1;32m----> 1\u001b[0m pd\u001b[38;5;241m.\u001b[39mSeries()\n",
      "\u001b[1;31mNameError\u001b[0m: name 'pd' is not defined"
     ]
    }
   ],
   "source": [
    "pd.Series()"
   ]
  },
  {
   "cell_type": "code",
   "execution_count": null,
   "id": "8aab3fa6",
   "metadata": {},
   "outputs": [],
   "source": []
  },
  {
   "cell_type": "markdown",
   "id": "e7169fd3",
   "metadata": {},
   "source": [
    "### DataFrame in Pandas"
   ]
  },
  {
   "cell_type": "markdown",
   "id": "8af0a463",
   "metadata": {},
   "source": [
    "- A dataframe is a two dimensional, heterogenous tabular data structure in Pandas. \n",
    "- Each column has varied data types\n",
    "- The dataframe object has two axex: axis 0 [rows] and axis 1 [columns]\n",
    "- Both axes are labeled\n",
    "- If the index is not mentioned explicitly, it is set automatically starting from 0."
   ]
  },
  {
   "cell_type": "markdown",
   "id": "b2033c6c",
   "metadata": {},
   "source": [
    "### Creating DataFrame from List"
   ]
  },
  {
   "cell_type": "code",
   "execution_count": 15,
   "id": "3d6d5649",
   "metadata": {},
   "outputs": [
    {
     "data": {
      "text/html": [
       "<div>\n",
       "<style scoped>\n",
       "    .dataframe tbody tr th:only-of-type {\n",
       "        vertical-align: middle;\n",
       "    }\n",
       "\n",
       "    .dataframe tbody tr th {\n",
       "        vertical-align: top;\n",
       "    }\n",
       "\n",
       "    .dataframe thead th {\n",
       "        text-align: right;\n",
       "    }\n",
       "</style>\n",
       "<table border=\"1\" class=\"dataframe\">\n",
       "  <thead>\n",
       "    <tr style=\"text-align: right;\">\n",
       "      <th></th>\n",
       "      <th>0</th>\n",
       "    </tr>\n",
       "  </thead>\n",
       "  <tbody>\n",
       "    <tr>\n",
       "      <th>0</th>\n",
       "      <td>John</td>\n",
       "    </tr>\n",
       "    <tr>\n",
       "      <th>1</th>\n",
       "      <td>Henry</td>\n",
       "    </tr>\n",
       "    <tr>\n",
       "      <th>2</th>\n",
       "      <td>Jack</td>\n",
       "    </tr>\n",
       "    <tr>\n",
       "      <th>3</th>\n",
       "      <td>Mary</td>\n",
       "    </tr>\n",
       "    <tr>\n",
       "      <th>4</th>\n",
       "      <td>Lucy</td>\n",
       "    </tr>\n",
       "    <tr>\n",
       "      <th>5</th>\n",
       "      <td>Angel</td>\n",
       "    </tr>\n",
       "    <tr>\n",
       "      <th>6</th>\n",
       "      <td>Santa</td>\n",
       "    </tr>\n",
       "  </tbody>\n",
       "</table>\n",
       "</div>"
      ],
      "text/plain": [
       "       0\n",
       "0   John\n",
       "1  Henry\n",
       "2   Jack\n",
       "3   Mary\n",
       "4   Lucy\n",
       "5  Angel\n",
       "6  Santa"
      ]
     },
     "execution_count": 15,
     "metadata": {},
     "output_type": "execute_result"
    }
   ],
   "source": [
    "import pandas as pd\n",
    "# list of strings\n",
    "list_str = ['John', 'Henry', 'Jack', 'Mary', 'Lucy','Angel', 'Santa']\n",
    "# Creating dataframe from list\n",
    "df_1 = pd.DataFrame(list_str)\n",
    "# displaying dataframe\n",
    "df_1"
   ]
  },
  {
   "cell_type": "code",
   "execution_count": null,
   "id": "59ffa32c",
   "metadata": {},
   "outputs": [],
   "source": []
  },
  {
   "cell_type": "markdown",
   "id": "7a82ee76",
   "metadata": {},
   "source": [
    "***Assigning Row Index and Column Names***"
   ]
  },
  {
   "cell_type": "code",
   "execution_count": 16,
   "id": "c1439367",
   "metadata": {},
   "outputs": [
    {
     "data": {
      "text/html": [
       "<div>\n",
       "<style scoped>\n",
       "    .dataframe tbody tr th:only-of-type {\n",
       "        vertical-align: middle;\n",
       "    }\n",
       "\n",
       "    .dataframe tbody tr th {\n",
       "        vertical-align: top;\n",
       "    }\n",
       "\n",
       "    .dataframe thead th {\n",
       "        text-align: right;\n",
       "    }\n",
       "</style>\n",
       "<table border=\"1\" class=\"dataframe\">\n",
       "  <thead>\n",
       "    <tr style=\"text-align: right;\">\n",
       "      <th></th>\n",
       "      <th>Names</th>\n",
       "    </tr>\n",
       "  </thead>\n",
       "  <tbody>\n",
       "    <tr>\n",
       "      <th>a</th>\n",
       "      <td>John</td>\n",
       "    </tr>\n",
       "    <tr>\n",
       "      <th>b</th>\n",
       "      <td>Henry</td>\n",
       "    </tr>\n",
       "    <tr>\n",
       "      <th>c</th>\n",
       "      <td>Jack</td>\n",
       "    </tr>\n",
       "    <tr>\n",
       "      <th>d</th>\n",
       "      <td>Mary</td>\n",
       "    </tr>\n",
       "    <tr>\n",
       "      <th>e</th>\n",
       "      <td>Lucy</td>\n",
       "    </tr>\n",
       "    <tr>\n",
       "      <th>f</th>\n",
       "      <td>Angel</td>\n",
       "    </tr>\n",
       "    <tr>\n",
       "      <th>g</th>\n",
       "      <td>Santa</td>\n",
       "    </tr>\n",
       "  </tbody>\n",
       "</table>\n",
       "</div>"
      ],
      "text/plain": [
       "   Names\n",
       "a   John\n",
       "b  Henry\n",
       "c   Jack\n",
       "d   Mary\n",
       "e   Lucy\n",
       "f  Angel\n",
       "g  Santa"
      ]
     },
     "execution_count": 16,
     "metadata": {},
     "output_type": "execute_result"
    }
   ],
   "source": [
    "df_1 = pd.DataFrame(list_str, index = ['a','b','c','d','e','f','g'], columns = ['Names'])\n",
    "df_1"
   ]
  },
  {
   "cell_type": "code",
   "execution_count": null,
   "id": "2ab91fe4",
   "metadata": {},
   "outputs": [],
   "source": []
  },
  {
   "cell_type": "markdown",
   "id": "a7f13df7",
   "metadata": {},
   "source": [
    "***Creating dataframe from multidimensional list***"
   ]
  },
  {
   "cell_type": "code",
   "execution_count": 17,
   "id": "b6ea0263",
   "metadata": {},
   "outputs": [
    {
     "data": {
      "text/html": [
       "<div>\n",
       "<style scoped>\n",
       "    .dataframe tbody tr th:only-of-type {\n",
       "        vertical-align: middle;\n",
       "    }\n",
       "\n",
       "    .dataframe tbody tr th {\n",
       "        vertical-align: top;\n",
       "    }\n",
       "\n",
       "    .dataframe thead th {\n",
       "        text-align: right;\n",
       "    }\n",
       "</style>\n",
       "<table border=\"1\" class=\"dataframe\">\n",
       "  <thead>\n",
       "    <tr style=\"text-align: right;\">\n",
       "      <th></th>\n",
       "      <th>Name</th>\n",
       "      <th>Age</th>\n",
       "    </tr>\n",
       "  </thead>\n",
       "  <tbody>\n",
       "    <tr>\n",
       "      <th>a</th>\n",
       "      <td>John</td>\n",
       "      <td>25</td>\n",
       "    </tr>\n",
       "    <tr>\n",
       "      <th>b</th>\n",
       "      <td>Henry</td>\n",
       "      <td>30</td>\n",
       "    </tr>\n",
       "    <tr>\n",
       "      <th>c</th>\n",
       "      <td>Jack</td>\n",
       "      <td>26</td>\n",
       "    </tr>\n",
       "    <tr>\n",
       "      <th>d</th>\n",
       "      <td>Mary</td>\n",
       "      <td>22</td>\n",
       "    </tr>\n",
       "  </tbody>\n",
       "</table>\n",
       "</div>"
      ],
      "text/plain": [
       "    Name  Age\n",
       "a   John   25\n",
       "b  Henry   30\n",
       "c   Jack   26\n",
       "d   Mary   22"
      ]
     },
     "execution_count": 17,
     "metadata": {},
     "output_type": "execute_result"
    }
   ],
   "source": [
    "list_multi = [['John',25],[ 'Henry',30], ['Jack',26], ['Mary',22]]\n",
    "df_1 = pd.DataFrame(list_multi, index = ['a','b','c','d'], columns = ['Name', 'Age'])\n",
    "df_1"
   ]
  },
  {
   "cell_type": "code",
   "execution_count": null,
   "id": "59f78ca0",
   "metadata": {},
   "outputs": [],
   "source": []
  },
  {
   "cell_type": "markdown",
   "id": "bf663ea8",
   "metadata": {},
   "source": [
    "### Creating DataFrame from Dictionary"
   ]
  },
  {
   "cell_type": "code",
   "execution_count": 1,
   "id": "c631127d",
   "metadata": {},
   "outputs": [
    {
     "ename": "NameError",
     "evalue": "name 'pd' is not defined",
     "output_type": "error",
     "traceback": [
      "\u001b[1;31m---------------------------------------------------------------------------\u001b[0m",
      "\u001b[1;31mNameError\u001b[0m                                 Traceback (most recent call last)",
      "Cell \u001b[1;32mIn[1], line 5\u001b[0m\n\u001b[0;32m      1\u001b[0m data \u001b[38;5;241m=\u001b[39m {\u001b[38;5;124m'\u001b[39m\u001b[38;5;124mName\u001b[39m\u001b[38;5;124m'\u001b[39m:[\u001b[38;5;124m'\u001b[39m\u001b[38;5;124mJohn\u001b[39m\u001b[38;5;124m'\u001b[39m, \u001b[38;5;124m'\u001b[39m\u001b[38;5;124mHenry\u001b[39m\u001b[38;5;124m'\u001b[39m, \u001b[38;5;124m'\u001b[39m\u001b[38;5;124mJack\u001b[39m\u001b[38;5;124m'\u001b[39m, \u001b[38;5;124m'\u001b[39m\u001b[38;5;124mMary\u001b[39m\u001b[38;5;124m'\u001b[39m],\n\u001b[0;32m      2\u001b[0m         \u001b[38;5;124m'\u001b[39m\u001b[38;5;124mAge\u001b[39m\u001b[38;5;124m'\u001b[39m: [\u001b[38;5;241m27\u001b[39m, \u001b[38;5;241m26\u001b[39m, \u001b[38;5;241m24\u001b[39m, \u001b[38;5;241m32\u001b[39m],\n\u001b[0;32m      3\u001b[0m         \u001b[38;5;124m'\u001b[39m\u001b[38;5;124mAddress\u001b[39m\u001b[38;5;124m'\u001b[39m:[\u001b[38;5;124m'\u001b[39m\u001b[38;5;124mNY\u001b[39m\u001b[38;5;124m'\u001b[39m,\u001b[38;5;124m'\u001b[39m\u001b[38;5;124mCA\u001b[39m\u001b[38;5;124m'\u001b[39m,\u001b[38;5;124m'\u001b[39m\u001b[38;5;124mTX\u001b[39m\u001b[38;5;124m'\u001b[39m,\u001b[38;5;124m'\u001b[39m\u001b[38;5;124mFL\u001b[39m\u001b[38;5;124m'\u001b[39m],\n\u001b[0;32m      4\u001b[0m         \u001b[38;5;124m'\u001b[39m\u001b[38;5;124mDegree\u001b[39m\u001b[38;5;124m'\u001b[39m:[\u001b[38;5;124m'\u001b[39m\u001b[38;5;124mMS\u001b[39m\u001b[38;5;124m'\u001b[39m,\u001b[38;5;124m'\u001b[39m\u001b[38;5;124mMBA\u001b[39m\u001b[38;5;124m'\u001b[39m,\u001b[38;5;124m'\u001b[39m\u001b[38;5;124mBSc\u001b[39m\u001b[38;5;124m'\u001b[39m,\u001b[38;5;124m'\u001b[39m\u001b[38;5;124mPhd\u001b[39m\u001b[38;5;124m'\u001b[39m]}\n\u001b[1;32m----> 5\u001b[0m df_2 \u001b[38;5;241m=\u001b[39m pd\u001b[38;5;241m.\u001b[39mDataFrame(data)\n",
      "\u001b[1;31mNameError\u001b[0m: name 'pd' is not defined"
     ]
    }
   ],
   "source": [
    "data = {'Name':['John', 'Henry', 'Jack', 'Mary'],\n",
    "        'Age': [27, 26, 24, 32],\n",
    "        'Address':['NY','CA','TX','FL'],\n",
    "        'Degree':['MS','MBA','BSc','Phd']}\n",
    "df_2 = pd.DataFrame(data)"
   ]
  },
  {
   "cell_type": "code",
   "execution_count": 19,
   "id": "c5957825",
   "metadata": {},
   "outputs": [
    {
     "data": {
      "text/html": [
       "<div>\n",
       "<style scoped>\n",
       "    .dataframe tbody tr th:only-of-type {\n",
       "        vertical-align: middle;\n",
       "    }\n",
       "\n",
       "    .dataframe tbody tr th {\n",
       "        vertical-align: top;\n",
       "    }\n",
       "\n",
       "    .dataframe thead th {\n",
       "        text-align: right;\n",
       "    }\n",
       "</style>\n",
       "<table border=\"1\" class=\"dataframe\">\n",
       "  <thead>\n",
       "    <tr style=\"text-align: right;\">\n",
       "      <th></th>\n",
       "      <th>Name</th>\n",
       "      <th>Age</th>\n",
       "      <th>Address</th>\n",
       "      <th>Degree</th>\n",
       "    </tr>\n",
       "  </thead>\n",
       "  <tbody>\n",
       "    <tr>\n",
       "      <th>0</th>\n",
       "      <td>John</td>\n",
       "      <td>27</td>\n",
       "      <td>NY</td>\n",
       "      <td>MS</td>\n",
       "    </tr>\n",
       "    <tr>\n",
       "      <th>1</th>\n",
       "      <td>Henry</td>\n",
       "      <td>26</td>\n",
       "      <td>CA</td>\n",
       "      <td>MBA</td>\n",
       "    </tr>\n",
       "    <tr>\n",
       "      <th>2</th>\n",
       "      <td>Jack</td>\n",
       "      <td>24</td>\n",
       "      <td>TX</td>\n",
       "      <td>BSc</td>\n",
       "    </tr>\n",
       "    <tr>\n",
       "      <th>3</th>\n",
       "      <td>Mary</td>\n",
       "      <td>32</td>\n",
       "      <td>FL</td>\n",
       "      <td>Phd</td>\n",
       "    </tr>\n",
       "  </tbody>\n",
       "</table>\n",
       "</div>"
      ],
      "text/plain": [
       "    Name  Age Address Degree\n",
       "0   John   27      NY     MS\n",
       "1  Henry   26      CA    MBA\n",
       "2   Jack   24      TX    BSc\n",
       "3   Mary   32      FL    Phd"
      ]
     },
     "execution_count": 19,
     "metadata": {},
     "output_type": "execute_result"
    }
   ],
   "source": [
    "df_2"
   ]
  },
  {
   "cell_type": "code",
   "execution_count": 6,
   "id": "e5afdf71",
   "metadata": {},
   "outputs": [
    {
     "ename": "SyntaxError",
     "evalue": "'[' was never closed (942506923.py, line 2)",
     "output_type": "error",
     "traceback": [
      "\u001b[1;36m  Cell \u001b[1;32mIn[6], line 2\u001b[1;36m\u001b[0m\n\u001b[1;33m    df_2[['Name','Degree']\u001b[0m\n\u001b[1;37m        ^\u001b[0m\n\u001b[1;31mSyntaxError\u001b[0m\u001b[1;31m:\u001b[0m '[' was never closed\n"
     ]
    }
   ],
   "source": [
    "#selecting two columns\n",
    "df_2[['Name','Degree']\n",
    "df_2"
   ]
  },
  {
   "cell_type": "markdown",
   "id": "837bd305",
   "metadata": {},
   "source": [
    "***Selecting column using index***"
   ]
  },
  {
   "cell_type": "code",
   "execution_count": 21,
   "id": "dd4e4902",
   "metadata": {},
   "outputs": [
    {
     "data": {
      "text/html": [
       "<div>\n",
       "<style scoped>\n",
       "    .dataframe tbody tr th:only-of-type {\n",
       "        vertical-align: middle;\n",
       "    }\n",
       "\n",
       "    .dataframe tbody tr th {\n",
       "        vertical-align: top;\n",
       "    }\n",
       "\n",
       "    .dataframe thead th {\n",
       "        text-align: right;\n",
       "    }\n",
       "</style>\n",
       "<table border=\"1\" class=\"dataframe\">\n",
       "  <thead>\n",
       "    <tr style=\"text-align: right;\">\n",
       "      <th></th>\n",
       "      <th>Age</th>\n",
       "      <th>Address</th>\n",
       "      <th>Degree</th>\n",
       "    </tr>\n",
       "  </thead>\n",
       "  <tbody>\n",
       "    <tr>\n",
       "      <th>0</th>\n",
       "      <td>27</td>\n",
       "      <td>NY</td>\n",
       "      <td>MS</td>\n",
       "    </tr>\n",
       "    <tr>\n",
       "      <th>1</th>\n",
       "      <td>26</td>\n",
       "      <td>CA</td>\n",
       "      <td>MBA</td>\n",
       "    </tr>\n",
       "    <tr>\n",
       "      <th>2</th>\n",
       "      <td>24</td>\n",
       "      <td>TX</td>\n",
       "      <td>BSc</td>\n",
       "    </tr>\n",
       "    <tr>\n",
       "      <th>3</th>\n",
       "      <td>32</td>\n",
       "      <td>FL</td>\n",
       "      <td>Phd</td>\n",
       "    </tr>\n",
       "  </tbody>\n",
       "</table>\n",
       "</div>"
      ],
      "text/plain": [
       "   Age Address Degree\n",
       "0   27      NY     MS\n",
       "1   26      CA    MBA\n",
       "2   24      TX    BSc\n",
       "3   32      FL    Phd"
      ]
     },
     "execution_count": 21,
     "metadata": {},
     "output_type": "execute_result"
    }
   ],
   "source": [
    "df_2[df_2.columns[1:4]]"
   ]
  },
  {
   "cell_type": "code",
   "execution_count": null,
   "id": "95422cb3",
   "metadata": {},
   "outputs": [],
   "source": []
  },
  {
   "cell_type": "markdown",
   "id": "321e352b",
   "metadata": {},
   "source": [
    "#### Extracting with .loc"
   ]
  },
  {
   "cell_type": "code",
   "execution_count": 2,
   "id": "62ef546d",
   "metadata": {},
   "outputs": [
    {
     "ename": "NameError",
     "evalue": "name 'pd' is not defined",
     "output_type": "error",
     "traceback": [
      "\u001b[1;31m---------------------------------------------------------------------------\u001b[0m",
      "\u001b[1;31mNameError\u001b[0m                                 Traceback (most recent call last)",
      "Cell \u001b[1;32mIn[2], line 12\u001b[0m\n\u001b[0;32m      9\u001b[0m data_dict\n\u001b[0;32m     11\u001b[0m \u001b[38;5;66;03m#Creating dataframe from dictionary\u001b[39;00m\n\u001b[1;32m---> 12\u001b[0m df_2 \u001b[38;5;241m=\u001b[39m pd\u001b[38;5;241m.\u001b[39mDataFrame(data_dict,index \u001b[38;5;241m=\u001b[39m [\u001b[38;5;124m'\u001b[39m\u001b[38;5;124mID01\u001b[39m\u001b[38;5;124m'\u001b[39m,\u001b[38;5;124m'\u001b[39m\u001b[38;5;124mID02\u001b[39m\u001b[38;5;124m'\u001b[39m,\u001b[38;5;124m'\u001b[39m\u001b[38;5;124mID03\u001b[39m\u001b[38;5;124m'\u001b[39m, \u001b[38;5;124m'\u001b[39m\u001b[38;5;124mID04\u001b[39m\u001b[38;5;124m'\u001b[39m])\n\u001b[0;32m     13\u001b[0m df_2\n",
      "\u001b[1;31mNameError\u001b[0m: name 'pd' is not defined"
     ]
    }
   ],
   "source": [
    "#Creating lists of data\n",
    "name = ['John', 'Henry', 'Jack', 'Mary']\n",
    "age =  [27, 26, 24, 32]\n",
    "address = ['NY','CA','TX','FL']\n",
    "marks = [90,40,80,98]\n",
    "Qualification = ['MS','MBA','BSc','Phd']\n",
    "#Creating dictionary from lists\n",
    "data_dict = {'Name':name, 'Age':age, 'Address':address,'Marks':marks, 'Degree':Qualification}\n",
    "data_dict\n",
    "\n",
    "#Creating dataframe from dictionary\n",
    "df_2 = pd.DataFrame(data_dict,index = ['ID01','ID02','ID03', 'ID04'])\n",
    "df_2"
   ]
  },
  {
   "cell_type": "code",
   "execution_count": 3,
   "id": "c95dfab7",
   "metadata": {},
   "outputs": [
    {
     "ename": "NameError",
     "evalue": "name 'df_2' is not defined",
     "output_type": "error",
     "traceback": [
      "\u001b[1;31m---------------------------------------------------------------------------\u001b[0m",
      "\u001b[1;31mNameError\u001b[0m                                 Traceback (most recent call last)",
      "Cell \u001b[1;32mIn[3], line 1\u001b[0m\n\u001b[1;32m----> 1\u001b[0m df_2\u001b[38;5;241m.\u001b[39mloc[\u001b[38;5;124m'\u001b[39m\u001b[38;5;124mID01\u001b[39m\u001b[38;5;124m'\u001b[39m:\u001b[38;5;124m'\u001b[39m\u001b[38;5;124mID02\u001b[39m\u001b[38;5;124m'\u001b[39m,\u001b[38;5;124m'\u001b[39m\u001b[38;5;124mName\u001b[39m\u001b[38;5;124m'\u001b[39m:\u001b[38;5;124m'\u001b[39m\u001b[38;5;124mMarks\u001b[39m\u001b[38;5;124m'\u001b[39m]\n",
      "\u001b[1;31mNameError\u001b[0m: name 'df_2' is not defined"
     ]
    }
   ],
   "source": [
    "df_2.loc['ID01':'ID02','Name':'Marks']"
   ]
  },
  {
   "cell_type": "code",
   "execution_count": 24,
   "id": "2c0c5a3d",
   "metadata": {},
   "outputs": [
    {
     "data": {
      "text/plain": [
       "Name       Jack\n",
       "Age          24\n",
       "Address      TX\n",
       "Marks        80\n",
       "Degree      BSc\n",
       "Name: ID03, dtype: object"
      ]
     },
     "execution_count": 24,
     "metadata": {},
     "output_type": "execute_result"
    }
   ],
   "source": [
    "df_2.loc['ID03',:]"
   ]
  },
  {
   "cell_type": "code",
   "execution_count": null,
   "id": "5662dcac",
   "metadata": {},
   "outputs": [],
   "source": []
  },
  {
   "cell_type": "markdown",
   "id": "d23a49df",
   "metadata": {},
   "source": [
    "***Extracting using .iloc***"
   ]
  },
  {
   "cell_type": "code",
   "execution_count": 25,
   "id": "cfd62688",
   "metadata": {},
   "outputs": [
    {
     "data": {
      "text/html": [
       "<div>\n",
       "<style scoped>\n",
       "    .dataframe tbody tr th:only-of-type {\n",
       "        vertical-align: middle;\n",
       "    }\n",
       "\n",
       "    .dataframe tbody tr th {\n",
       "        vertical-align: top;\n",
       "    }\n",
       "\n",
       "    .dataframe thead th {\n",
       "        text-align: right;\n",
       "    }\n",
       "</style>\n",
       "<table border=\"1\" class=\"dataframe\">\n",
       "  <thead>\n",
       "    <tr style=\"text-align: right;\">\n",
       "      <th></th>\n",
       "      <th>Name</th>\n",
       "      <th>Age</th>\n",
       "      <th>Address</th>\n",
       "      <th>Marks</th>\n",
       "      <th>Degree</th>\n",
       "    </tr>\n",
       "  </thead>\n",
       "  <tbody>\n",
       "    <tr>\n",
       "      <th>ID01</th>\n",
       "      <td>John</td>\n",
       "      <td>27</td>\n",
       "      <td>NY</td>\n",
       "      <td>90</td>\n",
       "      <td>MS</td>\n",
       "    </tr>\n",
       "    <tr>\n",
       "      <th>ID02</th>\n",
       "      <td>Henry</td>\n",
       "      <td>26</td>\n",
       "      <td>CA</td>\n",
       "      <td>40</td>\n",
       "      <td>MBA</td>\n",
       "    </tr>\n",
       "  </tbody>\n",
       "</table>\n",
       "</div>"
      ],
      "text/plain": [
       "       Name  Age Address  Marks Degree\n",
       "ID01   John   27      NY     90     MS\n",
       "ID02  Henry   26      CA     40    MBA"
      ]
     },
     "execution_count": 25,
     "metadata": {},
     "output_type": "execute_result"
    }
   ],
   "source": [
    "df_2.iloc[0:2,:]"
   ]
  },
  {
   "cell_type": "code",
   "execution_count": 26,
   "id": "8b800f68",
   "metadata": {},
   "outputs": [
    {
     "data": {
      "text/html": [
       "<div>\n",
       "<style scoped>\n",
       "    .dataframe tbody tr th:only-of-type {\n",
       "        vertical-align: middle;\n",
       "    }\n",
       "\n",
       "    .dataframe tbody tr th {\n",
       "        vertical-align: top;\n",
       "    }\n",
       "\n",
       "    .dataframe thead th {\n",
       "        text-align: right;\n",
       "    }\n",
       "</style>\n",
       "<table border=\"1\" class=\"dataframe\">\n",
       "  <thead>\n",
       "    <tr style=\"text-align: right;\">\n",
       "      <th></th>\n",
       "      <th>Age</th>\n",
       "      <th>Address</th>\n",
       "    </tr>\n",
       "  </thead>\n",
       "  <tbody>\n",
       "    <tr>\n",
       "      <th>ID01</th>\n",
       "      <td>27</td>\n",
       "      <td>NY</td>\n",
       "    </tr>\n",
       "    <tr>\n",
       "      <th>ID02</th>\n",
       "      <td>26</td>\n",
       "      <td>CA</td>\n",
       "    </tr>\n",
       "  </tbody>\n",
       "</table>\n",
       "</div>"
      ],
      "text/plain": [
       "      Age Address\n",
       "ID01   27      NY\n",
       "ID02   26      CA"
      ]
     },
     "execution_count": 26,
     "metadata": {},
     "output_type": "execute_result"
    }
   ],
   "source": [
    "df_2.iloc[0:2,1:3]"
   ]
  },
  {
   "cell_type": "code",
   "execution_count": null,
   "id": "e484c6fa",
   "metadata": {},
   "outputs": [],
   "source": []
  },
  {
   "cell_type": "markdown",
   "id": "1b164219",
   "metadata": {},
   "source": [
    "***Adding Column to DataFrame***"
   ]
  },
  {
   "cell_type": "code",
   "execution_count": 27,
   "id": "80db374a",
   "metadata": {},
   "outputs": [
    {
     "data": {
      "text/html": [
       "<div>\n",
       "<style scoped>\n",
       "    .dataframe tbody tr th:only-of-type {\n",
       "        vertical-align: middle;\n",
       "    }\n",
       "\n",
       "    .dataframe tbody tr th {\n",
       "        vertical-align: top;\n",
       "    }\n",
       "\n",
       "    .dataframe thead th {\n",
       "        text-align: right;\n",
       "    }\n",
       "</style>\n",
       "<table border=\"1\" class=\"dataframe\">\n",
       "  <thead>\n",
       "    <tr style=\"text-align: right;\">\n",
       "      <th></th>\n",
       "      <th>Name</th>\n",
       "      <th>Age</th>\n",
       "      <th>Address</th>\n",
       "      <th>Marks</th>\n",
       "      <th>Degree</th>\n",
       "    </tr>\n",
       "  </thead>\n",
       "  <tbody>\n",
       "    <tr>\n",
       "      <th>0</th>\n",
       "      <td>John</td>\n",
       "      <td>27</td>\n",
       "      <td>NY</td>\n",
       "      <td>90</td>\n",
       "      <td>MS</td>\n",
       "    </tr>\n",
       "    <tr>\n",
       "      <th>1</th>\n",
       "      <td>Henry</td>\n",
       "      <td>26</td>\n",
       "      <td>CA</td>\n",
       "      <td>40</td>\n",
       "      <td>MBA</td>\n",
       "    </tr>\n",
       "    <tr>\n",
       "      <th>2</th>\n",
       "      <td>Jack</td>\n",
       "      <td>24</td>\n",
       "      <td>TX</td>\n",
       "      <td>80</td>\n",
       "      <td>BSc</td>\n",
       "    </tr>\n",
       "    <tr>\n",
       "      <th>3</th>\n",
       "      <td>Mary</td>\n",
       "      <td>32</td>\n",
       "      <td>FL</td>\n",
       "      <td>98</td>\n",
       "      <td>Phd</td>\n",
       "    </tr>\n",
       "  </tbody>\n",
       "</table>\n",
       "</div>"
      ],
      "text/plain": [
       "    Name  Age Address  Marks Degree\n",
       "0   John   27      NY     90     MS\n",
       "1  Henry   26      CA     40    MBA\n",
       "2   Jack   24      TX     80    BSc\n",
       "3   Mary   32      FL     98    Phd"
      ]
     },
     "execution_count": 27,
     "metadata": {},
     "output_type": "execute_result"
    }
   ],
   "source": [
    "df_2=pd.DataFrame(data_dict)\n",
    "df_2"
   ]
  },
  {
   "cell_type": "code",
   "execution_count": 28,
   "id": "ca4639bb",
   "metadata": {},
   "outputs": [
    {
     "data": {
      "text/html": [
       "<div>\n",
       "<style scoped>\n",
       "    .dataframe tbody tr th:only-of-type {\n",
       "        vertical-align: middle;\n",
       "    }\n",
       "\n",
       "    .dataframe tbody tr th {\n",
       "        vertical-align: top;\n",
       "    }\n",
       "\n",
       "    .dataframe thead th {\n",
       "        text-align: right;\n",
       "    }\n",
       "</style>\n",
       "<table border=\"1\" class=\"dataframe\">\n",
       "  <thead>\n",
       "    <tr style=\"text-align: right;\">\n",
       "      <th></th>\n",
       "      <th>Name</th>\n",
       "      <th>Age</th>\n",
       "      <th>Address</th>\n",
       "      <th>Marks</th>\n",
       "      <th>Degree</th>\n",
       "      <th>Height</th>\n",
       "    </tr>\n",
       "  </thead>\n",
       "  <tbody>\n",
       "    <tr>\n",
       "      <th>0</th>\n",
       "      <td>John</td>\n",
       "      <td>27</td>\n",
       "      <td>NY</td>\n",
       "      <td>90</td>\n",
       "      <td>MS</td>\n",
       "      <td>5.1</td>\n",
       "    </tr>\n",
       "    <tr>\n",
       "      <th>1</th>\n",
       "      <td>Henry</td>\n",
       "      <td>26</td>\n",
       "      <td>CA</td>\n",
       "      <td>40</td>\n",
       "      <td>MBA</td>\n",
       "      <td>6.2</td>\n",
       "    </tr>\n",
       "    <tr>\n",
       "      <th>2</th>\n",
       "      <td>Jack</td>\n",
       "      <td>24</td>\n",
       "      <td>TX</td>\n",
       "      <td>80</td>\n",
       "      <td>BSc</td>\n",
       "      <td>5.1</td>\n",
       "    </tr>\n",
       "    <tr>\n",
       "      <th>3</th>\n",
       "      <td>Mary</td>\n",
       "      <td>32</td>\n",
       "      <td>FL</td>\n",
       "      <td>98</td>\n",
       "      <td>Phd</td>\n",
       "      <td>5.2</td>\n",
       "    </tr>\n",
       "  </tbody>\n",
       "</table>\n",
       "</div>"
      ],
      "text/plain": [
       "    Name  Age Address  Marks Degree  Height\n",
       "0   John   27      NY     90     MS     5.1\n",
       "1  Henry   26      CA     40    MBA     6.2\n",
       "2   Jack   24      TX     80    BSc     5.1\n",
       "3   Mary   32      FL     98    Phd     5.2"
      ]
     },
     "execution_count": 28,
     "metadata": {},
     "output_type": "execute_result"
    }
   ],
   "source": [
    "height = [5.1,6.2,5.1,5.2]\n",
    "df_2['Height'] = height\n",
    "df_2"
   ]
  },
  {
   "cell_type": "code",
   "execution_count": null,
   "id": "d2805a06",
   "metadata": {},
   "outputs": [],
   "source": []
  },
  {
   "cell_type": "markdown",
   "id": "9f5e630c",
   "metadata": {},
   "source": [
    "***Adding columns using assign()***"
   ]
  },
  {
   "cell_type": "code",
   "execution_count": 29,
   "id": "8f2df65c",
   "metadata": {},
   "outputs": [
    {
     "data": {
      "text/html": [
       "<div>\n",
       "<style scoped>\n",
       "    .dataframe tbody tr th:only-of-type {\n",
       "        vertical-align: middle;\n",
       "    }\n",
       "\n",
       "    .dataframe tbody tr th {\n",
       "        vertical-align: top;\n",
       "    }\n",
       "\n",
       "    .dataframe thead th {\n",
       "        text-align: right;\n",
       "    }\n",
       "</style>\n",
       "<table border=\"1\" class=\"dataframe\">\n",
       "  <thead>\n",
       "    <tr style=\"text-align: right;\">\n",
       "      <th></th>\n",
       "      <th>Name</th>\n",
       "      <th>Age</th>\n",
       "      <th>Address</th>\n",
       "      <th>Marks</th>\n",
       "      <th>Degree</th>\n",
       "    </tr>\n",
       "  </thead>\n",
       "  <tbody>\n",
       "    <tr>\n",
       "      <th>0</th>\n",
       "      <td>John</td>\n",
       "      <td>27</td>\n",
       "      <td>NY</td>\n",
       "      <td>90</td>\n",
       "      <td>MS</td>\n",
       "    </tr>\n",
       "    <tr>\n",
       "      <th>1</th>\n",
       "      <td>Henry</td>\n",
       "      <td>26</td>\n",
       "      <td>CA</td>\n",
       "      <td>40</td>\n",
       "      <td>MBA</td>\n",
       "    </tr>\n",
       "    <tr>\n",
       "      <th>2</th>\n",
       "      <td>Jack</td>\n",
       "      <td>24</td>\n",
       "      <td>TX</td>\n",
       "      <td>80</td>\n",
       "      <td>BSc</td>\n",
       "    </tr>\n",
       "    <tr>\n",
       "      <th>3</th>\n",
       "      <td>Mary</td>\n",
       "      <td>32</td>\n",
       "      <td>FL</td>\n",
       "      <td>98</td>\n",
       "      <td>Phd</td>\n",
       "    </tr>\n",
       "  </tbody>\n",
       "</table>\n",
       "</div>"
      ],
      "text/plain": [
       "    Name  Age Address  Marks Degree\n",
       "0   John   27      NY     90     MS\n",
       "1  Henry   26      CA     40    MBA\n",
       "2   Jack   24      TX     80    BSc\n",
       "3   Mary   32      FL     98    Phd"
      ]
     },
     "execution_count": 29,
     "metadata": {},
     "output_type": "execute_result"
    }
   ],
   "source": [
    "df_2 = pd.DataFrame(data_dict)\n",
    "df_2"
   ]
  },
  {
   "cell_type": "code",
   "execution_count": 30,
   "id": "29f42b09",
   "metadata": {},
   "outputs": [
    {
     "data": {
      "text/html": [
       "<div>\n",
       "<style scoped>\n",
       "    .dataframe tbody tr th:only-of-type {\n",
       "        vertical-align: middle;\n",
       "    }\n",
       "\n",
       "    .dataframe tbody tr th {\n",
       "        vertical-align: top;\n",
       "    }\n",
       "\n",
       "    .dataframe thead th {\n",
       "        text-align: right;\n",
       "    }\n",
       "</style>\n",
       "<table border=\"1\" class=\"dataframe\">\n",
       "  <thead>\n",
       "    <tr style=\"text-align: right;\">\n",
       "      <th></th>\n",
       "      <th>Name</th>\n",
       "      <th>Age</th>\n",
       "      <th>Address</th>\n",
       "      <th>Marks</th>\n",
       "      <th>Degree</th>\n",
       "      <th>Height</th>\n",
       "    </tr>\n",
       "  </thead>\n",
       "  <tbody>\n",
       "    <tr>\n",
       "      <th>0</th>\n",
       "      <td>John</td>\n",
       "      <td>27</td>\n",
       "      <td>NY</td>\n",
       "      <td>90</td>\n",
       "      <td>MS</td>\n",
       "      <td>5.1</td>\n",
       "    </tr>\n",
       "    <tr>\n",
       "      <th>1</th>\n",
       "      <td>Henry</td>\n",
       "      <td>26</td>\n",
       "      <td>CA</td>\n",
       "      <td>40</td>\n",
       "      <td>MBA</td>\n",
       "      <td>6.2</td>\n",
       "    </tr>\n",
       "    <tr>\n",
       "      <th>2</th>\n",
       "      <td>Jack</td>\n",
       "      <td>24</td>\n",
       "      <td>TX</td>\n",
       "      <td>80</td>\n",
       "      <td>BSc</td>\n",
       "      <td>5.1</td>\n",
       "    </tr>\n",
       "    <tr>\n",
       "      <th>3</th>\n",
       "      <td>Mary</td>\n",
       "      <td>32</td>\n",
       "      <td>FL</td>\n",
       "      <td>98</td>\n",
       "      <td>Phd</td>\n",
       "      <td>5.2</td>\n",
       "    </tr>\n",
       "  </tbody>\n",
       "</table>\n",
       "</div>"
      ],
      "text/plain": [
       "    Name  Age Address  Marks Degree  Height\n",
       "0   John   27      NY     90     MS     5.1\n",
       "1  Henry   26      CA     40    MBA     6.2\n",
       "2   Jack   24      TX     80    BSc     5.1\n",
       "3   Mary   32      FL     98    Phd     5.2"
      ]
     },
     "execution_count": 30,
     "metadata": {},
     "output_type": "execute_result"
    }
   ],
   "source": [
    "df_2 = df_2.assign(Height = [5.1,6.2,5.1,5.2])\n",
    "df_2"
   ]
  },
  {
   "cell_type": "code",
   "execution_count": null,
   "id": "9b84b41b",
   "metadata": {},
   "outputs": [],
   "source": []
  },
  {
   "cell_type": "markdown",
   "id": "f1efb770",
   "metadata": {},
   "source": [
    "***Adding column using insert()***"
   ]
  },
  {
   "cell_type": "code",
   "execution_count": 31,
   "id": "38341085",
   "metadata": {},
   "outputs": [
    {
     "data": {
      "text/html": [
       "<div>\n",
       "<style scoped>\n",
       "    .dataframe tbody tr th:only-of-type {\n",
       "        vertical-align: middle;\n",
       "    }\n",
       "\n",
       "    .dataframe tbody tr th {\n",
       "        vertical-align: top;\n",
       "    }\n",
       "\n",
       "    .dataframe thead th {\n",
       "        text-align: right;\n",
       "    }\n",
       "</style>\n",
       "<table border=\"1\" class=\"dataframe\">\n",
       "  <thead>\n",
       "    <tr style=\"text-align: right;\">\n",
       "      <th></th>\n",
       "      <th>Name</th>\n",
       "      <th>Age</th>\n",
       "      <th>Address</th>\n",
       "      <th>Marks</th>\n",
       "      <th>Degree</th>\n",
       "    </tr>\n",
       "  </thead>\n",
       "  <tbody>\n",
       "    <tr>\n",
       "      <th>0</th>\n",
       "      <td>John</td>\n",
       "      <td>27</td>\n",
       "      <td>NY</td>\n",
       "      <td>90</td>\n",
       "      <td>MS</td>\n",
       "    </tr>\n",
       "    <tr>\n",
       "      <th>1</th>\n",
       "      <td>Henry</td>\n",
       "      <td>26</td>\n",
       "      <td>CA</td>\n",
       "      <td>40</td>\n",
       "      <td>MBA</td>\n",
       "    </tr>\n",
       "    <tr>\n",
       "      <th>2</th>\n",
       "      <td>Jack</td>\n",
       "      <td>24</td>\n",
       "      <td>TX</td>\n",
       "      <td>80</td>\n",
       "      <td>BSc</td>\n",
       "    </tr>\n",
       "    <tr>\n",
       "      <th>3</th>\n",
       "      <td>Mary</td>\n",
       "      <td>32</td>\n",
       "      <td>FL</td>\n",
       "      <td>98</td>\n",
       "      <td>Phd</td>\n",
       "    </tr>\n",
       "  </tbody>\n",
       "</table>\n",
       "</div>"
      ],
      "text/plain": [
       "    Name  Age Address  Marks Degree\n",
       "0   John   27      NY     90     MS\n",
       "1  Henry   26      CA     40    MBA\n",
       "2   Jack   24      TX     80    BSc\n",
       "3   Mary   32      FL     98    Phd"
      ]
     },
     "execution_count": 31,
     "metadata": {},
     "output_type": "execute_result"
    }
   ],
   "source": [
    "df_2 = pd.DataFrame(data_dict)\n",
    "df_2"
   ]
  },
  {
   "cell_type": "code",
   "execution_count": 32,
   "id": "c234f91a",
   "metadata": {},
   "outputs": [
    {
     "data": {
      "text/html": [
       "<div>\n",
       "<style scoped>\n",
       "    .dataframe tbody tr th:only-of-type {\n",
       "        vertical-align: middle;\n",
       "    }\n",
       "\n",
       "    .dataframe tbody tr th {\n",
       "        vertical-align: top;\n",
       "    }\n",
       "\n",
       "    .dataframe thead th {\n",
       "        text-align: right;\n",
       "    }\n",
       "</style>\n",
       "<table border=\"1\" class=\"dataframe\">\n",
       "  <thead>\n",
       "    <tr style=\"text-align: right;\">\n",
       "      <th></th>\n",
       "      <th>Name</th>\n",
       "      <th>Age</th>\n",
       "      <th>Height</th>\n",
       "      <th>Address</th>\n",
       "      <th>Marks</th>\n",
       "      <th>Degree</th>\n",
       "    </tr>\n",
       "  </thead>\n",
       "  <tbody>\n",
       "    <tr>\n",
       "      <th>0</th>\n",
       "      <td>John</td>\n",
       "      <td>27</td>\n",
       "      <td>5.1</td>\n",
       "      <td>NY</td>\n",
       "      <td>90</td>\n",
       "      <td>MS</td>\n",
       "    </tr>\n",
       "    <tr>\n",
       "      <th>1</th>\n",
       "      <td>Henry</td>\n",
       "      <td>26</td>\n",
       "      <td>6.2</td>\n",
       "      <td>CA</td>\n",
       "      <td>40</td>\n",
       "      <td>MBA</td>\n",
       "    </tr>\n",
       "    <tr>\n",
       "      <th>2</th>\n",
       "      <td>Jack</td>\n",
       "      <td>24</td>\n",
       "      <td>5.1</td>\n",
       "      <td>TX</td>\n",
       "      <td>80</td>\n",
       "      <td>BSc</td>\n",
       "    </tr>\n",
       "    <tr>\n",
       "      <th>3</th>\n",
       "      <td>Mary</td>\n",
       "      <td>32</td>\n",
       "      <td>5.2</td>\n",
       "      <td>FL</td>\n",
       "      <td>98</td>\n",
       "      <td>Phd</td>\n",
       "    </tr>\n",
       "  </tbody>\n",
       "</table>\n",
       "</div>"
      ],
      "text/plain": [
       "    Name  Age  Height Address  Marks Degree\n",
       "0   John   27     5.1      NY     90     MS\n",
       "1  Henry   26     6.2      CA     40    MBA\n",
       "2   Jack   24     5.1      TX     80    BSc\n",
       "3   Mary   32     5.2      FL     98    Phd"
      ]
     },
     "execution_count": 32,
     "metadata": {},
     "output_type": "execute_result"
    }
   ],
   "source": [
    "df_2.insert(2,'Height',[5.1,6.2,5.1,5.2], allow_duplicates = True)\n",
    "df_2"
   ]
  },
  {
   "cell_type": "code",
   "execution_count": null,
   "id": "d2e8cba0",
   "metadata": {},
   "outputs": [],
   "source": []
  },
  {
   "cell_type": "markdown",
   "id": "c16fed61",
   "metadata": {},
   "source": [
    "***Adding row using append()***"
   ]
  },
  {
   "cell_type": "code",
   "execution_count": 33,
   "id": "f3850884",
   "metadata": {},
   "outputs": [
    {
     "data": {
      "text/html": [
       "<div>\n",
       "<style scoped>\n",
       "    .dataframe tbody tr th:only-of-type {\n",
       "        vertical-align: middle;\n",
       "    }\n",
       "\n",
       "    .dataframe tbody tr th {\n",
       "        vertical-align: top;\n",
       "    }\n",
       "\n",
       "    .dataframe thead th {\n",
       "        text-align: right;\n",
       "    }\n",
       "</style>\n",
       "<table border=\"1\" class=\"dataframe\">\n",
       "  <thead>\n",
       "    <tr style=\"text-align: right;\">\n",
       "      <th></th>\n",
       "      <th>Name</th>\n",
       "      <th>Age</th>\n",
       "      <th>Address</th>\n",
       "      <th>Marks</th>\n",
       "      <th>Degree</th>\n",
       "    </tr>\n",
       "  </thead>\n",
       "  <tbody>\n",
       "    <tr>\n",
       "      <th>0</th>\n",
       "      <td>John</td>\n",
       "      <td>27</td>\n",
       "      <td>NY</td>\n",
       "      <td>90</td>\n",
       "      <td>MS</td>\n",
       "    </tr>\n",
       "    <tr>\n",
       "      <th>1</th>\n",
       "      <td>Henry</td>\n",
       "      <td>26</td>\n",
       "      <td>CA</td>\n",
       "      <td>40</td>\n",
       "      <td>MBA</td>\n",
       "    </tr>\n",
       "    <tr>\n",
       "      <th>2</th>\n",
       "      <td>Jack</td>\n",
       "      <td>24</td>\n",
       "      <td>TX</td>\n",
       "      <td>80</td>\n",
       "      <td>BSc</td>\n",
       "    </tr>\n",
       "    <tr>\n",
       "      <th>3</th>\n",
       "      <td>Mary</td>\n",
       "      <td>32</td>\n",
       "      <td>FL</td>\n",
       "      <td>98</td>\n",
       "      <td>Phd</td>\n",
       "    </tr>\n",
       "  </tbody>\n",
       "</table>\n",
       "</div>"
      ],
      "text/plain": [
       "    Name  Age Address  Marks Degree\n",
       "0   John   27      NY     90     MS\n",
       "1  Henry   26      CA     40    MBA\n",
       "2   Jack   24      TX     80    BSc\n",
       "3   Mary   32      FL     98    Phd"
      ]
     },
     "execution_count": 33,
     "metadata": {},
     "output_type": "execute_result"
    }
   ],
   "source": [
    "df_3 = pd.DataFrame(data_dict)\n",
    "df_3"
   ]
  },
  {
   "cell_type": "code",
   "execution_count": 34,
   "id": "5a8593de",
   "metadata": {},
   "outputs": [
    {
     "data": {
      "text/plain": [
       "{'Name': 'Tom', 'Age': 35, 'Address': 'WA', 'Marks': 70, 'Degree': 'BA'}"
      ]
     },
     "execution_count": 34,
     "metadata": {},
     "output_type": "execute_result"
    }
   ],
   "source": [
    "new_row = {'Name':'Tom', 'Age': 35, 'Address':'WA', 'Marks': 70, 'Degree':'BA'}\n",
    "# new_row = pd.DataFrame(data = ['Tom',35,'WA',70, 'BA'], columns = ['Name','Age','Address','Marks','Degree'])\n",
    "new_row\n",
    "# df_3 = df_3.append(new_row, ignore_index = True)\n",
    "# df_3"
   ]
  },
  {
   "cell_type": "code",
   "execution_count": null,
   "id": "f8fa7bab",
   "metadata": {},
   "outputs": [],
   "source": []
  },
  {
   "cell_type": "markdown",
   "id": "be3a6329",
   "metadata": {},
   "source": [
    "***Adding rows using concate()***"
   ]
  },
  {
   "cell_type": "code",
   "execution_count": 35,
   "id": "84f1c5ec",
   "metadata": {},
   "outputs": [],
   "source": [
    "df_3 = pd.DataFrame(data_dict)\n",
    "new_rows = {'Name':['Tom','Jack'], 'Age': [35, 32], 'Address':['WA','CA'], 'Marks': [70,75], 'Degree':['BA','BSc']}\n",
    "new_rows=pd.DataFrame(new_rows)"
   ]
  },
  {
   "cell_type": "code",
   "execution_count": 36,
   "id": "2387a618",
   "metadata": {},
   "outputs": [
    {
     "data": {
      "text/html": [
       "<div>\n",
       "<style scoped>\n",
       "    .dataframe tbody tr th:only-of-type {\n",
       "        vertical-align: middle;\n",
       "    }\n",
       "\n",
       "    .dataframe tbody tr th {\n",
       "        vertical-align: top;\n",
       "    }\n",
       "\n",
       "    .dataframe thead th {\n",
       "        text-align: right;\n",
       "    }\n",
       "</style>\n",
       "<table border=\"1\" class=\"dataframe\">\n",
       "  <thead>\n",
       "    <tr style=\"text-align: right;\">\n",
       "      <th></th>\n",
       "      <th>Name</th>\n",
       "      <th>Age</th>\n",
       "      <th>Address</th>\n",
       "      <th>Marks</th>\n",
       "      <th>Degree</th>\n",
       "    </tr>\n",
       "  </thead>\n",
       "  <tbody>\n",
       "    <tr>\n",
       "      <th>0</th>\n",
       "      <td>John</td>\n",
       "      <td>27</td>\n",
       "      <td>NY</td>\n",
       "      <td>90</td>\n",
       "      <td>MS</td>\n",
       "    </tr>\n",
       "    <tr>\n",
       "      <th>1</th>\n",
       "      <td>Henry</td>\n",
       "      <td>26</td>\n",
       "      <td>CA</td>\n",
       "      <td>40</td>\n",
       "      <td>MBA</td>\n",
       "    </tr>\n",
       "    <tr>\n",
       "      <th>2</th>\n",
       "      <td>Jack</td>\n",
       "      <td>24</td>\n",
       "      <td>TX</td>\n",
       "      <td>80</td>\n",
       "      <td>BSc</td>\n",
       "    </tr>\n",
       "    <tr>\n",
       "      <th>3</th>\n",
       "      <td>Mary</td>\n",
       "      <td>32</td>\n",
       "      <td>FL</td>\n",
       "      <td>98</td>\n",
       "      <td>Phd</td>\n",
       "    </tr>\n",
       "    <tr>\n",
       "      <th>0</th>\n",
       "      <td>Tom</td>\n",
       "      <td>35</td>\n",
       "      <td>WA</td>\n",
       "      <td>70</td>\n",
       "      <td>BA</td>\n",
       "    </tr>\n",
       "    <tr>\n",
       "      <th>1</th>\n",
       "      <td>Jack</td>\n",
       "      <td>32</td>\n",
       "      <td>CA</td>\n",
       "      <td>75</td>\n",
       "      <td>BSc</td>\n",
       "    </tr>\n",
       "  </tbody>\n",
       "</table>\n",
       "</div>"
      ],
      "text/plain": [
       "    Name  Age Address  Marks Degree\n",
       "0   John   27      NY     90     MS\n",
       "1  Henry   26      CA     40    MBA\n",
       "2   Jack   24      TX     80    BSc\n",
       "3   Mary   32      FL     98    Phd\n",
       "0    Tom   35      WA     70     BA\n",
       "1   Jack   32      CA     75    BSc"
      ]
     },
     "execution_count": 36,
     "metadata": {},
     "output_type": "execute_result"
    }
   ],
   "source": [
    "# Concate by rows\n",
    "df_4 = pd.concat([df_3,new_rows],axis = 0)\n",
    "df_4"
   ]
  },
  {
   "cell_type": "code",
   "execution_count": 37,
   "id": "5f99be3c",
   "metadata": {},
   "outputs": [
    {
     "data": {
      "text/html": [
       "<div>\n",
       "<style scoped>\n",
       "    .dataframe tbody tr th:only-of-type {\n",
       "        vertical-align: middle;\n",
       "    }\n",
       "\n",
       "    .dataframe tbody tr th {\n",
       "        vertical-align: top;\n",
       "    }\n",
       "\n",
       "    .dataframe thead th {\n",
       "        text-align: right;\n",
       "    }\n",
       "</style>\n",
       "<table border=\"1\" class=\"dataframe\">\n",
       "  <thead>\n",
       "    <tr style=\"text-align: right;\">\n",
       "      <th></th>\n",
       "      <th>Name</th>\n",
       "      <th>Age</th>\n",
       "      <th>Address</th>\n",
       "      <th>Marks</th>\n",
       "      <th>Degree</th>\n",
       "      <th>Name</th>\n",
       "      <th>Age</th>\n",
       "      <th>Address</th>\n",
       "      <th>Marks</th>\n",
       "      <th>Degree</th>\n",
       "    </tr>\n",
       "  </thead>\n",
       "  <tbody>\n",
       "    <tr>\n",
       "      <th>0</th>\n",
       "      <td>John</td>\n",
       "      <td>27</td>\n",
       "      <td>NY</td>\n",
       "      <td>90</td>\n",
       "      <td>MS</td>\n",
       "      <td>Tom</td>\n",
       "      <td>35.0</td>\n",
       "      <td>WA</td>\n",
       "      <td>70.0</td>\n",
       "      <td>BA</td>\n",
       "    </tr>\n",
       "    <tr>\n",
       "      <th>1</th>\n",
       "      <td>Henry</td>\n",
       "      <td>26</td>\n",
       "      <td>CA</td>\n",
       "      <td>40</td>\n",
       "      <td>MBA</td>\n",
       "      <td>Jack</td>\n",
       "      <td>32.0</td>\n",
       "      <td>CA</td>\n",
       "      <td>75.0</td>\n",
       "      <td>BSc</td>\n",
       "    </tr>\n",
       "    <tr>\n",
       "      <th>2</th>\n",
       "      <td>Jack</td>\n",
       "      <td>24</td>\n",
       "      <td>TX</td>\n",
       "      <td>80</td>\n",
       "      <td>BSc</td>\n",
       "      <td>NaN</td>\n",
       "      <td>NaN</td>\n",
       "      <td>NaN</td>\n",
       "      <td>NaN</td>\n",
       "      <td>NaN</td>\n",
       "    </tr>\n",
       "    <tr>\n",
       "      <th>3</th>\n",
       "      <td>Mary</td>\n",
       "      <td>32</td>\n",
       "      <td>FL</td>\n",
       "      <td>98</td>\n",
       "      <td>Phd</td>\n",
       "      <td>NaN</td>\n",
       "      <td>NaN</td>\n",
       "      <td>NaN</td>\n",
       "      <td>NaN</td>\n",
       "      <td>NaN</td>\n",
       "    </tr>\n",
       "  </tbody>\n",
       "</table>\n",
       "</div>"
      ],
      "text/plain": [
       "    Name  Age Address  Marks Degree  Name   Age Address  Marks Degree\n",
       "0   John   27      NY     90     MS   Tom  35.0      WA   70.0     BA\n",
       "1  Henry   26      CA     40    MBA  Jack  32.0      CA   75.0    BSc\n",
       "2   Jack   24      TX     80    BSc   NaN   NaN     NaN    NaN    NaN\n",
       "3   Mary   32      FL     98    Phd   NaN   NaN     NaN    NaN    NaN"
      ]
     },
     "execution_count": 37,
     "metadata": {},
     "output_type": "execute_result"
    }
   ],
   "source": [
    "# Concate by columns\n",
    "df_4 = pd.concat([df_3,new_rows],axis = 1)\n",
    "df_4"
   ]
  },
  {
   "cell_type": "code",
   "execution_count": null,
   "id": "e72760f4",
   "metadata": {},
   "outputs": [],
   "source": []
  },
  {
   "cell_type": "markdown",
   "id": "a83ece57",
   "metadata": {},
   "source": [
    "***Droping rows by index Label***"
   ]
  },
  {
   "cell_type": "code",
   "execution_count": 38,
   "id": "20b18aa1",
   "metadata": {},
   "outputs": [
    {
     "data": {
      "text/html": [
       "<div>\n",
       "<style scoped>\n",
       "    .dataframe tbody tr th:only-of-type {\n",
       "        vertical-align: middle;\n",
       "    }\n",
       "\n",
       "    .dataframe tbody tr th {\n",
       "        vertical-align: top;\n",
       "    }\n",
       "\n",
       "    .dataframe thead th {\n",
       "        text-align: right;\n",
       "    }\n",
       "</style>\n",
       "<table border=\"1\" class=\"dataframe\">\n",
       "  <thead>\n",
       "    <tr style=\"text-align: right;\">\n",
       "      <th></th>\n",
       "      <th>Name</th>\n",
       "      <th>Age</th>\n",
       "      <th>Address</th>\n",
       "      <th>Marks</th>\n",
       "      <th>Degree</th>\n",
       "    </tr>\n",
       "  </thead>\n",
       "  <tbody>\n",
       "    <tr>\n",
       "      <th>0</th>\n",
       "      <td>John</td>\n",
       "      <td>27</td>\n",
       "      <td>NY</td>\n",
       "      <td>90</td>\n",
       "      <td>MS</td>\n",
       "    </tr>\n",
       "    <tr>\n",
       "      <th>1</th>\n",
       "      <td>Henry</td>\n",
       "      <td>26</td>\n",
       "      <td>CA</td>\n",
       "      <td>40</td>\n",
       "      <td>MBA</td>\n",
       "    </tr>\n",
       "    <tr>\n",
       "      <th>2</th>\n",
       "      <td>Jack</td>\n",
       "      <td>24</td>\n",
       "      <td>TX</td>\n",
       "      <td>80</td>\n",
       "      <td>BSc</td>\n",
       "    </tr>\n",
       "    <tr>\n",
       "      <th>3</th>\n",
       "      <td>Mary</td>\n",
       "      <td>32</td>\n",
       "      <td>FL</td>\n",
       "      <td>98</td>\n",
       "      <td>Phd</td>\n",
       "    </tr>\n",
       "  </tbody>\n",
       "</table>\n",
       "</div>"
      ],
      "text/plain": [
       "    Name  Age Address  Marks Degree\n",
       "0   John   27      NY     90     MS\n",
       "1  Henry   26      CA     40    MBA\n",
       "2   Jack   24      TX     80    BSc\n",
       "3   Mary   32      FL     98    Phd"
      ]
     },
     "execution_count": 38,
     "metadata": {},
     "output_type": "execute_result"
    }
   ],
   "source": [
    "df_2 = pd.DataFrame(data_dict)\n",
    "df_2\n",
    "df_5 = df_2\n",
    "df_5"
   ]
  },
  {
   "cell_type": "code",
   "execution_count": 39,
   "id": "bb7ca2f7",
   "metadata": {},
   "outputs": [
    {
     "data": {
      "text/html": [
       "<div>\n",
       "<style scoped>\n",
       "    .dataframe tbody tr th:only-of-type {\n",
       "        vertical-align: middle;\n",
       "    }\n",
       "\n",
       "    .dataframe tbody tr th {\n",
       "        vertical-align: top;\n",
       "    }\n",
       "\n",
       "    .dataframe thead th {\n",
       "        text-align: right;\n",
       "    }\n",
       "</style>\n",
       "<table border=\"1\" class=\"dataframe\">\n",
       "  <thead>\n",
       "    <tr style=\"text-align: right;\">\n",
       "      <th></th>\n",
       "      <th>Age</th>\n",
       "      <th>Address</th>\n",
       "      <th>Marks</th>\n",
       "      <th>Degree</th>\n",
       "    </tr>\n",
       "    <tr>\n",
       "      <th>Name</th>\n",
       "      <th></th>\n",
       "      <th></th>\n",
       "      <th></th>\n",
       "      <th></th>\n",
       "    </tr>\n",
       "  </thead>\n",
       "  <tbody>\n",
       "    <tr>\n",
       "      <th>John</th>\n",
       "      <td>27</td>\n",
       "      <td>NY</td>\n",
       "      <td>90</td>\n",
       "      <td>MS</td>\n",
       "    </tr>\n",
       "    <tr>\n",
       "      <th>Henry</th>\n",
       "      <td>26</td>\n",
       "      <td>CA</td>\n",
       "      <td>40</td>\n",
       "      <td>MBA</td>\n",
       "    </tr>\n",
       "    <tr>\n",
       "      <th>Jack</th>\n",
       "      <td>24</td>\n",
       "      <td>TX</td>\n",
       "      <td>80</td>\n",
       "      <td>BSc</td>\n",
       "    </tr>\n",
       "    <tr>\n",
       "      <th>Mary</th>\n",
       "      <td>32</td>\n",
       "      <td>FL</td>\n",
       "      <td>98</td>\n",
       "      <td>Phd</td>\n",
       "    </tr>\n",
       "  </tbody>\n",
       "</table>\n",
       "</div>"
      ],
      "text/plain": [
       "       Age Address  Marks Degree\n",
       "Name                            \n",
       "John    27      NY     90     MS\n",
       "Henry   26      CA     40    MBA\n",
       "Jack    24      TX     80    BSc\n",
       "Mary    32      FL     98    Phd"
      ]
     },
     "execution_count": 39,
     "metadata": {},
     "output_type": "execute_result"
    }
   ],
   "source": [
    "df_5.set_index('Name', inplace = True)\n",
    "df_5"
   ]
  },
  {
   "cell_type": "code",
   "execution_count": 40,
   "id": "c338fd02",
   "metadata": {},
   "outputs": [
    {
     "data": {
      "text/html": [
       "<div>\n",
       "<style scoped>\n",
       "    .dataframe tbody tr th:only-of-type {\n",
       "        vertical-align: middle;\n",
       "    }\n",
       "\n",
       "    .dataframe tbody tr th {\n",
       "        vertical-align: top;\n",
       "    }\n",
       "\n",
       "    .dataframe thead th {\n",
       "        text-align: right;\n",
       "    }\n",
       "</style>\n",
       "<table border=\"1\" class=\"dataframe\">\n",
       "  <thead>\n",
       "    <tr style=\"text-align: right;\">\n",
       "      <th></th>\n",
       "      <th>Age</th>\n",
       "      <th>Address</th>\n",
       "      <th>Marks</th>\n",
       "      <th>Degree</th>\n",
       "    </tr>\n",
       "    <tr>\n",
       "      <th>Name</th>\n",
       "      <th></th>\n",
       "      <th></th>\n",
       "      <th></th>\n",
       "      <th></th>\n",
       "    </tr>\n",
       "  </thead>\n",
       "  <tbody>\n",
       "    <tr>\n",
       "      <th>Henry</th>\n",
       "      <td>26</td>\n",
       "      <td>CA</td>\n",
       "      <td>40</td>\n",
       "      <td>MBA</td>\n",
       "    </tr>\n",
       "    <tr>\n",
       "      <th>Jack</th>\n",
       "      <td>24</td>\n",
       "      <td>TX</td>\n",
       "      <td>80</td>\n",
       "      <td>BSc</td>\n",
       "    </tr>\n",
       "    <tr>\n",
       "      <th>Mary</th>\n",
       "      <td>32</td>\n",
       "      <td>FL</td>\n",
       "      <td>98</td>\n",
       "      <td>Phd</td>\n",
       "    </tr>\n",
       "  </tbody>\n",
       "</table>\n",
       "</div>"
      ],
      "text/plain": [
       "       Age Address  Marks Degree\n",
       "Name                            \n",
       "Henry   26      CA     40    MBA\n",
       "Jack    24      TX     80    BSc\n",
       "Mary    32      FL     98    Phd"
      ]
     },
     "execution_count": 40,
     "metadata": {},
     "output_type": "execute_result"
    }
   ],
   "source": [
    "df_5.drop(['John'], axis = 0, inplace = True)\n",
    "df_5"
   ]
  },
  {
   "cell_type": "code",
   "execution_count": null,
   "id": "ad24d1d6",
   "metadata": {},
   "outputs": [],
   "source": []
  },
  {
   "cell_type": "markdown",
   "id": "b3a37b3d",
   "metadata": {},
   "source": [
    "***Dropping by column names***"
   ]
  },
  {
   "cell_type": "code",
   "execution_count": 41,
   "id": "37daed39",
   "metadata": {},
   "outputs": [],
   "source": [
    "df_5 = df_2"
   ]
  },
  {
   "cell_type": "code",
   "execution_count": 42,
   "id": "52c813eb",
   "metadata": {},
   "outputs": [
    {
     "data": {
      "text/html": [
       "<div>\n",
       "<style scoped>\n",
       "    .dataframe tbody tr th:only-of-type {\n",
       "        vertical-align: middle;\n",
       "    }\n",
       "\n",
       "    .dataframe tbody tr th {\n",
       "        vertical-align: top;\n",
       "    }\n",
       "\n",
       "    .dataframe thead th {\n",
       "        text-align: right;\n",
       "    }\n",
       "</style>\n",
       "<table border=\"1\" class=\"dataframe\">\n",
       "  <thead>\n",
       "    <tr style=\"text-align: right;\">\n",
       "      <th></th>\n",
       "      <th>Age</th>\n",
       "      <th>Address</th>\n",
       "      <th>Degree</th>\n",
       "    </tr>\n",
       "    <tr>\n",
       "      <th>Name</th>\n",
       "      <th></th>\n",
       "      <th></th>\n",
       "      <th></th>\n",
       "    </tr>\n",
       "  </thead>\n",
       "  <tbody>\n",
       "    <tr>\n",
       "      <th>Henry</th>\n",
       "      <td>26</td>\n",
       "      <td>CA</td>\n",
       "      <td>MBA</td>\n",
       "    </tr>\n",
       "    <tr>\n",
       "      <th>Jack</th>\n",
       "      <td>24</td>\n",
       "      <td>TX</td>\n",
       "      <td>BSc</td>\n",
       "    </tr>\n",
       "    <tr>\n",
       "      <th>Mary</th>\n",
       "      <td>32</td>\n",
       "      <td>FL</td>\n",
       "      <td>Phd</td>\n",
       "    </tr>\n",
       "  </tbody>\n",
       "</table>\n",
       "</div>"
      ],
      "text/plain": [
       "       Age Address Degree\n",
       "Name                     \n",
       "Henry   26      CA    MBA\n",
       "Jack    24      TX    BSc\n",
       "Mary    32      FL    Phd"
      ]
     },
     "execution_count": 42,
     "metadata": {},
     "output_type": "execute_result"
    }
   ],
   "source": [
    "df_5.drop('Marks',axis = 1, inplace = True)\n",
    "df_5"
   ]
  },
  {
   "cell_type": "code",
   "execution_count": null,
   "id": "3f206c06",
   "metadata": {},
   "outputs": [],
   "source": []
  },
  {
   "cell_type": "markdown",
   "id": "8c1127be",
   "metadata": {},
   "source": [
    "***Sorting the data frame***"
   ]
  },
  {
   "cell_type": "code",
   "execution_count": 43,
   "id": "400b444e",
   "metadata": {},
   "outputs": [],
   "source": [
    "df_5 = df_2"
   ]
  },
  {
   "cell_type": "code",
   "execution_count": 44,
   "id": "45779a52",
   "metadata": {},
   "outputs": [
    {
     "data": {
      "text/html": [
       "<div>\n",
       "<style scoped>\n",
       "    .dataframe tbody tr th:only-of-type {\n",
       "        vertical-align: middle;\n",
       "    }\n",
       "\n",
       "    .dataframe tbody tr th {\n",
       "        vertical-align: top;\n",
       "    }\n",
       "\n",
       "    .dataframe thead th {\n",
       "        text-align: right;\n",
       "    }\n",
       "</style>\n",
       "<table border=\"1\" class=\"dataframe\">\n",
       "  <thead>\n",
       "    <tr style=\"text-align: right;\">\n",
       "      <th></th>\n",
       "      <th>Age</th>\n",
       "      <th>Address</th>\n",
       "      <th>Degree</th>\n",
       "    </tr>\n",
       "    <tr>\n",
       "      <th>Name</th>\n",
       "      <th></th>\n",
       "      <th></th>\n",
       "      <th></th>\n",
       "    </tr>\n",
       "  </thead>\n",
       "  <tbody>\n",
       "    <tr>\n",
       "      <th>Jack</th>\n",
       "      <td>24</td>\n",
       "      <td>TX</td>\n",
       "      <td>BSc</td>\n",
       "    </tr>\n",
       "    <tr>\n",
       "      <th>Henry</th>\n",
       "      <td>26</td>\n",
       "      <td>CA</td>\n",
       "      <td>MBA</td>\n",
       "    </tr>\n",
       "    <tr>\n",
       "      <th>Mary</th>\n",
       "      <td>32</td>\n",
       "      <td>FL</td>\n",
       "      <td>Phd</td>\n",
       "    </tr>\n",
       "  </tbody>\n",
       "</table>\n",
       "</div>"
      ],
      "text/plain": [
       "       Age Address Degree\n",
       "Name                     \n",
       "Jack    24      TX    BSc\n",
       "Henry   26      CA    MBA\n",
       "Mary    32      FL    Phd"
      ]
     },
     "execution_count": 44,
     "metadata": {},
     "output_type": "execute_result"
    }
   ],
   "source": [
    "# Sorting by one column\n",
    "df_5.sort_values('Age',axis = 0, inplace = True, ascending = True, na_position = 'last')\n",
    "df_5"
   ]
  },
  {
   "cell_type": "code",
   "execution_count": 45,
   "id": "fc5788e6",
   "metadata": {},
   "outputs": [
    {
     "data": {
      "text/html": [
       "<div>\n",
       "<style scoped>\n",
       "    .dataframe tbody tr th:only-of-type {\n",
       "        vertical-align: middle;\n",
       "    }\n",
       "\n",
       "    .dataframe tbody tr th {\n",
       "        vertical-align: top;\n",
       "    }\n",
       "\n",
       "    .dataframe thead th {\n",
       "        text-align: right;\n",
       "    }\n",
       "</style>\n",
       "<table border=\"1\" class=\"dataframe\">\n",
       "  <thead>\n",
       "    <tr style=\"text-align: right;\">\n",
       "      <th></th>\n",
       "      <th>Age</th>\n",
       "      <th>Address</th>\n",
       "      <th>Degree</th>\n",
       "    </tr>\n",
       "    <tr>\n",
       "      <th>Name</th>\n",
       "      <th></th>\n",
       "      <th></th>\n",
       "      <th></th>\n",
       "    </tr>\n",
       "  </thead>\n",
       "  <tbody>\n",
       "    <tr>\n",
       "      <th>Jack</th>\n",
       "      <td>24</td>\n",
       "      <td>TX</td>\n",
       "      <td>BSc</td>\n",
       "    </tr>\n",
       "    <tr>\n",
       "      <th>Henry</th>\n",
       "      <td>26</td>\n",
       "      <td>CA</td>\n",
       "      <td>MBA</td>\n",
       "    </tr>\n",
       "    <tr>\n",
       "      <th>Mary</th>\n",
       "      <td>32</td>\n",
       "      <td>FL</td>\n",
       "      <td>Phd</td>\n",
       "    </tr>\n",
       "  </tbody>\n",
       "</table>\n",
       "</div>"
      ],
      "text/plain": [
       "       Age Address Degree\n",
       "Name                     \n",
       "Jack    24      TX    BSc\n",
       "Henry   26      CA    MBA\n",
       "Mary    32      FL    Phd"
      ]
     },
     "execution_count": 45,
     "metadata": {},
     "output_type": "execute_result"
    }
   ],
   "source": [
    "# Sorting by multiple columns\n",
    "df_5.sort_values(['Age','Name'],axis = 0, inplace = True, ascending = True, na_position = 'last')\n",
    "df_5"
   ]
  },
  {
   "cell_type": "code",
   "execution_count": null,
   "id": "9a62994e",
   "metadata": {},
   "outputs": [],
   "source": []
  },
  {
   "cell_type": "markdown",
   "id": "ccf2ba89",
   "metadata": {},
   "source": [
    "***Grouping the Data***"
   ]
  },
  {
   "cell_type": "code",
   "execution_count": 46,
   "id": "86c9c721",
   "metadata": {},
   "outputs": [
    {
     "data": {
      "text/html": [
       "<div>\n",
       "<style scoped>\n",
       "    .dataframe tbody tr th:only-of-type {\n",
       "        vertical-align: middle;\n",
       "    }\n",
       "\n",
       "    .dataframe tbody tr th {\n",
       "        vertical-align: top;\n",
       "    }\n",
       "\n",
       "    .dataframe thead th {\n",
       "        text-align: right;\n",
       "    }\n",
       "</style>\n",
       "<table border=\"1\" class=\"dataframe\">\n",
       "  <thead>\n",
       "    <tr style=\"text-align: right;\">\n",
       "      <th></th>\n",
       "      <th>Name</th>\n",
       "      <th>Age</th>\n",
       "      <th>Salary</th>\n",
       "      <th>Address</th>\n",
       "      <th>Degree</th>\n",
       "    </tr>\n",
       "  </thead>\n",
       "  <tbody>\n",
       "    <tr>\n",
       "      <th>0</th>\n",
       "      <td>John</td>\n",
       "      <td>27</td>\n",
       "      <td>10000</td>\n",
       "      <td>WA</td>\n",
       "      <td>MS</td>\n",
       "    </tr>\n",
       "    <tr>\n",
       "      <th>1</th>\n",
       "      <td>Henry</td>\n",
       "      <td>26</td>\n",
       "      <td>25000</td>\n",
       "      <td>CA</td>\n",
       "      <td>MBA</td>\n",
       "    </tr>\n",
       "    <tr>\n",
       "      <th>2</th>\n",
       "      <td>Jack</td>\n",
       "      <td>24</td>\n",
       "      <td>15000</td>\n",
       "      <td>TX</td>\n",
       "      <td>BSc</td>\n",
       "    </tr>\n",
       "    <tr>\n",
       "      <th>3</th>\n",
       "      <td>Mary</td>\n",
       "      <td>32</td>\n",
       "      <td>20000</td>\n",
       "      <td>FL</td>\n",
       "      <td>Phd</td>\n",
       "    </tr>\n",
       "    <tr>\n",
       "      <th>4</th>\n",
       "      <td>Martin</td>\n",
       "      <td>25</td>\n",
       "      <td>10000</td>\n",
       "      <td>WA</td>\n",
       "      <td>MSc</td>\n",
       "    </tr>\n",
       "    <tr>\n",
       "      <th>5</th>\n",
       "      <td>Joseph</td>\n",
       "      <td>34</td>\n",
       "      <td>23000</td>\n",
       "      <td>CA</td>\n",
       "      <td>BSc</td>\n",
       "    </tr>\n",
       "  </tbody>\n",
       "</table>\n",
       "</div>"
      ],
      "text/plain": [
       "     Name  Age  Salary Address Degree\n",
       "0    John   27   10000      WA     MS\n",
       "1   Henry   26   25000      CA    MBA\n",
       "2    Jack   24   15000      TX    BSc\n",
       "3    Mary   32   20000      FL    Phd\n",
       "4  Martin   25   10000      WA    MSc\n",
       "5  Joseph   34   23000      CA    BSc"
      ]
     },
     "execution_count": 46,
     "metadata": {},
     "output_type": "execute_result"
    }
   ],
   "source": [
    "data = {'Name':['John', 'Henry', 'Jack', 'Mary', 'Martin', 'Joseph'],\n",
    "        'Age': [27, 26, 24, 32, 25,34],\n",
    "        'Salary':[10000,25000,15000,20000,10000,23000],\n",
    "        'Address':['WA','CA','TX','FL', 'WA','CA'],\n",
    "        'Degree':['MS','MBA','BSc','Phd','MSc', 'BSc']}\n",
    "df_2 = pd.DataFrame(data)\n",
    "df_2"
   ]
  },
  {
   "cell_type": "code",
   "execution_count": 47,
   "id": "478b44c6",
   "metadata": {},
   "outputs": [
    {
     "data": {
      "text/html": [
       "<div>\n",
       "<style scoped>\n",
       "    .dataframe tbody tr th:only-of-type {\n",
       "        vertical-align: middle;\n",
       "    }\n",
       "\n",
       "    .dataframe tbody tr th {\n",
       "        vertical-align: top;\n",
       "    }\n",
       "\n",
       "    .dataframe thead th {\n",
       "        text-align: right;\n",
       "    }\n",
       "</style>\n",
       "<table border=\"1\" class=\"dataframe\">\n",
       "  <thead>\n",
       "    <tr style=\"text-align: right;\">\n",
       "      <th></th>\n",
       "      <th>Age</th>\n",
       "      <th>Salary</th>\n",
       "    </tr>\n",
       "    <tr>\n",
       "      <th>Address</th>\n",
       "      <th></th>\n",
       "      <th></th>\n",
       "    </tr>\n",
       "  </thead>\n",
       "  <tbody>\n",
       "    <tr>\n",
       "      <th>CA</th>\n",
       "      <td>30.0</td>\n",
       "      <td>24000.0</td>\n",
       "    </tr>\n",
       "    <tr>\n",
       "      <th>FL</th>\n",
       "      <td>32.0</td>\n",
       "      <td>20000.0</td>\n",
       "    </tr>\n",
       "    <tr>\n",
       "      <th>TX</th>\n",
       "      <td>24.0</td>\n",
       "      <td>15000.0</td>\n",
       "    </tr>\n",
       "    <tr>\n",
       "      <th>WA</th>\n",
       "      <td>26.0</td>\n",
       "      <td>10000.0</td>\n",
       "    </tr>\n",
       "  </tbody>\n",
       "</table>\n",
       "</div>"
      ],
      "text/plain": [
       "          Age   Salary\n",
       "Address               \n",
       "CA       30.0  24000.0\n",
       "FL       32.0  20000.0\n",
       "TX       24.0  15000.0\n",
       "WA       26.0  10000.0"
      ]
     },
     "execution_count": 47,
     "metadata": {},
     "output_type": "execute_result"
    }
   ],
   "source": [
    "# Grouping by column\n",
    "df_2.groupby('Address').mean()"
   ]
  },
  {
   "cell_type": "code",
   "execution_count": 48,
   "id": "03088236",
   "metadata": {},
   "outputs": [
    {
     "data": {
      "text/plain": [
       "Degree\n",
       "BSc    34\n",
       "MBA    26\n",
       "MS     27\n",
       "MSc    25\n",
       "Phd    32\n",
       "Name: Age, dtype: int64"
      ]
     },
     "execution_count": 48,
     "metadata": {},
     "output_type": "execute_result"
    }
   ],
   "source": [
    "age_group = df_2['Age'].groupby(df_2['Degree'])\n",
    "age_group.max()"
   ]
  },
  {
   "cell_type": "code",
   "execution_count": null,
   "id": "e1dabdbd",
   "metadata": {},
   "outputs": [],
   "source": []
  },
  {
   "cell_type": "code",
   "execution_count": null,
   "id": "ba55afe8",
   "metadata": {},
   "outputs": [],
   "source": []
  }
 ],
 "metadata": {
  "kernelspec": {
   "display_name": "Python 3 (ipykernel)",
   "language": "python",
   "name": "python3"
  },
  "language_info": {
   "codemirror_mode": {
    "name": "ipython",
    "version": 3
   },
   "file_extension": ".py",
   "mimetype": "text/x-python",
   "name": "python",
   "nbconvert_exporter": "python",
   "pygments_lexer": "ipython3",
   "version": "3.11.4"
  }
 },
 "nbformat": 4,
 "nbformat_minor": 5
}
