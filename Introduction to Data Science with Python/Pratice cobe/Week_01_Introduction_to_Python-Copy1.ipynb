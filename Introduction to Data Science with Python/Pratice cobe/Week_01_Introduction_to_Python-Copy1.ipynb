{
 "cells": [
  {
   "cell_type": "markdown",
   "id": "d6d6f79b",
   "metadata": {},
   "source": [
    "# Week_01: Introduction to Python\n",
    "**Course:** WMASDS04-Introduction to Data Science with Python\n",
    "<br>**Instructor:** Farhana Afrin Duti, Department of Statistics, JU\n",
    "\n",
    "<br>**Objectives:** \n",
    "- Writing your first program in Jupyter Notebook using Python\n",
    "- Basic data types in Python"
   ]
  },
  {
   "cell_type": "markdown",
   "id": "1a6f5af3",
   "metadata": {},
   "source": [
    "1. Declaring variables\n",
    "2. Conditional Statements\n",
    "3. Control flow statements\n",
    "4. Collections\n",
    "5. Functions\n",
    "6. Modules and packages"
   ]
  },
  {
   "cell_type": "markdown",
   "id": "732fb472",
   "metadata": {},
   "source": [
    "### First Program in Python"
   ]
  },
  {
   "cell_type": "markdown",
   "id": "86b8755d",
   "metadata": {},
   "source": [
    "**This is a comment line. This cell is known as markdown cell. \n",
    "Your first python program is in the following code cell:**"
   ]
  },
  {
   "cell_type": "code",
   "execution_count": null,
   "id": "a183526b",
   "metadata": {},
   "outputs": [],
   "source": [
    "print('Hellow World')"
   ]
  },
  {
   "cell_type": "code",
   "execution_count": null,
   "id": "610167b3",
   "metadata": {},
   "outputs": [],
   "source": [
    "# #Setting working directory\n",
    "# import os\n",
    "# os.getcwd()\n",
    "# # os.chdir('D:\\Summer2023')"
   ]
  },
  {
   "cell_type": "markdown",
   "id": "9b3e83de",
   "metadata": {},
   "source": [
    "Note: A line starting with hash (#) is a comment line in Python."
   ]
  },
  {
   "cell_type": "code",
   "execution_count": null,
   "id": "c7facc5a",
   "metadata": {},
   "outputs": [],
   "source": []
  },
  {
   "cell_type": "markdown",
   "id": "7f7dbefe",
   "metadata": {},
   "source": [
    "### 1.1 Variable Declaration "
   ]
  },
  {
   "cell_type": "code",
   "execution_count": null,
   "id": "d3e6348d",
   "metadata": {},
   "outputs": [],
   "source": [
    "var1 = 2\n",
    "var2 = 5.0\n",
    "var3 = True\n",
    "var4 = \"Data Science\"\n",
    "print(\"Value of var1 :\", var1)\n",
    "print(\"Value of var2 :\", var2)\n",
    "print(\"Value of var3 :\", var3)\n",
    "print(\"Value of var4 :\", var4)\n",
    "type( var1 )\n",
    "type( var2 )\n",
    "type(var3)\n",
    "type(var4)"
   ]
  },
  {
   "cell_type": "code",
   "execution_count": null,
   "id": "a80e6ff5",
   "metadata": {},
   "outputs": [],
   "source": [
    "a = 5\n",
    "b = 5.5\n",
    "c = \"5.5\"\n",
    "d = 5==5.5"
   ]
  },
  {
   "cell_type": "code",
   "execution_count": null,
   "id": "2f238653",
   "metadata": {},
   "outputs": [],
   "source": [
    "print(type(a),type(b),type(c),type(d))"
   ]
  },
  {
   "cell_type": "code",
   "execution_count": null,
   "id": "a04b5297",
   "metadata": {},
   "outputs": [],
   "source": [
    "display(type(a),type(b),type(c),type(d))"
   ]
  },
  {
   "cell_type": "markdown",
   "id": "f6a95c91",
   "metadata": {},
   "source": [
    "**Note:** Python supports the following variable types:\n",
    "1. int – Integer type.\n",
    "2. float – Floating point numbers.\n",
    "3. bool – Booleans are subtypes of integers and assigned value using literals True and False.\n",
    "4. str – Textual data."
   ]
  },
  {
   "cell_type": "code",
   "execution_count": null,
   "id": "8a90b181",
   "metadata": {},
   "outputs": [],
   "source": []
  },
  {
   "cell_type": "markdown",
   "id": "1f915d71",
   "metadata": {},
   "source": [
    "### 1.2 Conditional Statements"
   ]
  },
  {
   "cell_type": "code",
   "execution_count": null,
   "id": "78eebdad",
   "metadata": {},
   "outputs": [],
   "source": [
    "# Checking a condition if the variable value is more than 1\n",
    "if var1 > 1:\n",
    "    print( \"Bigger than 1\" )"
   ]
  },
  {
   "cell_type": "code",
   "execution_count": null,
   "id": "dcb257ca",
   "metadata": {},
   "outputs": [],
   "source": [
    "x = 10\n",
    "y = 12\n",
    "# if x is greater than y\n",
    "if x > y:\n",
    "    print (\"x > y\")\n",
    "# if x is lesser than y\n",
    "elif x < y:\n",
    "    print (\"x < y\")\n",
    "else:\n",
    "    print (\"x = y\")"
   ]
  },
  {
   "cell_type": "code",
   "execution_count": null,
   "id": "dbcfcd25",
   "metadata": {},
   "outputs": [],
   "source": [
    "# Initialize\n",
    "x = 5\n",
    "# Assign True if x is more than 10 or assign False using ternary operator\n",
    "isGreater = True if x > 10 else False\n",
    "isGreater"
   ]
  },
  {
   "cell_type": "code",
   "execution_count": null,
   "id": "69840b98",
   "metadata": {},
   "outputs": [],
   "source": []
  },
  {
   "cell_type": "markdown",
   "id": "fbe30aca",
   "metadata": {},
   "source": [
    "Note:\n",
    "- Python supports if-elif-else for writing conditional statements.\n",
    "- The condition should be terminated by : (colon) and the code block following that must be indented.\n",
    "- Indentation in Python is not optional. It is a syntax of Python. \n",
    "- The conditional statement need not be enclosed with a bracket."
   ]
  },
  {
   "cell_type": "code",
   "execution_count": null,
   "id": "b2f38b46",
   "metadata": {},
   "outputs": [],
   "source": []
  },
  {
   "cell_type": "markdown",
   "id": "88636f79",
   "metadata": {},
   "source": [
    "### 1.3 Generating Sequence Numbers"
   ]
  },
  {
   "cell_type": "code",
   "execution_count": null,
   "id": "260204c2",
   "metadata": {},
   "outputs": [],
   "source": [
    "# Initializing the sequence of numbers starting from 1\n",
    "# and ending (not including) with 6\n",
    "numbers = range( 1, 6 )\n",
    "numbers"
   ]
  },
  {
   "cell_type": "code",
   "execution_count": null,
   "id": "6c4eb31b",
   "metadata": {},
   "outputs": [],
   "source": [
    "range?"
   ]
  },
  {
   "cell_type": "code",
   "execution_count": null,
   "id": "e827d843",
   "metadata": {},
   "outputs": [],
   "source": [
    "list?\n",
    "len?\n",
    "type?"
   ]
  },
  {
   "cell_type": "code",
   "execution_count": null,
   "id": "94aff499",
   "metadata": {},
   "outputs": [],
   "source": []
  },
  {
   "cell_type": "markdown",
   "id": "499aa524",
   "metadata": {},
   "source": [
    "Note:\n",
    "range() function generates a sequence of numbers. It takes the following three parameters.\n",
    "1. start: Starting number of the sequence.\n",
    "2. stop: Generate numbers up to, but not including, this number.\n",
    "3. step: Difference between each number in the sequence. It is optional and default value is 1."
   ]
  },
  {
   "cell_type": "markdown",
   "id": "0f6368d4",
   "metadata": {},
   "source": []
  },
  {
   "cell_type": "markdown",
   "id": "7b316b3a",
   "metadata": {},
   "source": [
    "### 1.4 Control Flow Statements"
   ]
  },
  {
   "cell_type": "code",
   "execution_count": null,
   "id": "e4a61e3e",
   "metadata": {},
   "outputs": [],
   "source": [
    "# Iterate through the collection\n",
    "for i in numbers:\n",
    "    print (i)"
   ]
  },
  {
   "cell_type": "code",
   "execution_count": null,
   "id": "fb354213",
   "metadata": {},
   "outputs": [],
   "source": [
    "# Initialize the value of 1\n",
    "i = 1\n",
    "# check the value of i to check if the loop will be continued or not\n",
    "while i < 5: \n",
    "    print(i)\n",
    "# Increment the value of i.\n",
    "    i = i+1\n",
    "# print after the value of i\n",
    "print('Done')"
   ]
  },
  {
   "cell_type": "code",
   "execution_count": null,
   "id": "48804e23",
   "metadata": {},
   "outputs": [],
   "source": []
  },
  {
   "cell_type": "markdown",
   "id": "0b611a8c",
   "metadata": {},
   "source": [
    "Note: A while loop is used to keep executing a loop until a condition is false. In while loop, the state of i has to be managed explicitly. There is a good chance of going into an infinite loop if the state of i is not incremented."
   ]
  },
  {
   "cell_type": "code",
   "execution_count": null,
   "id": "38379c01",
   "metadata": {},
   "outputs": [],
   "source": []
  },
  {
   "cell_type": "markdown",
   "id": "4d3e7dba",
   "metadata": {},
   "source": [
    "### 1.5 Functions"
   ]
  },
  {
   "cell_type": "code",
   "execution_count": null,
   "id": "c43907d2",
   "metadata": {},
   "outputs": [],
   "source": [
    "def addElements( a, b ):\n",
    "    return a + b"
   ]
  },
  {
   "cell_type": "code",
   "execution_count": null,
   "id": "84c9a8fb",
   "metadata": {},
   "outputs": [],
   "source": [
    "result = addElements( 2, 3 )\n",
    "result"
   ]
  },
  {
   "cell_type": "code",
   "execution_count": null,
   "id": "627a651c",
   "metadata": {},
   "outputs": [],
   "source": [
    "result = addElements( 2.3, 4.5 )\n",
    "result"
   ]
  },
  {
   "cell_type": "code",
   "execution_count": null,
   "id": "26b5dc18",
   "metadata": {},
   "outputs": [],
   "source": [
    "result = addElements( \"python\", \"workshop\" )\n",
    "result"
   ]
  },
  {
   "cell_type": "code",
   "execution_count": null,
   "id": "210948b3",
   "metadata": {},
   "outputs": [],
   "source": [
    "def addElements( a, b = 4 ):\n",
    "    return a + b\n"
   ]
  },
  {
   "cell_type": "code",
   "execution_count": null,
   "id": "22774e4d",
   "metadata": {},
   "outputs": [],
   "source": [
    "addElements( 2 )"
   ]
  },
  {
   "cell_type": "code",
   "execution_count": null,
   "id": "99c1d50f",
   "metadata": {},
   "outputs": [],
   "source": [
    "addElements( 2, 5 )"
   ]
  },
  {
   "cell_type": "code",
   "execution_count": null,
   "id": "a3fc2795",
   "metadata": {},
   "outputs": [],
   "source": []
  },
  {
   "cell_type": "markdown",
   "id": "2448d664",
   "metadata": {},
   "source": [
    "**Note:** \n",
    "Functions are the most important part of a language.\n",
    "1. Functions can be created using def keyword.\n",
    "2. The function signature should contain the function name followed by the input parameters enclosed in brackets and must end with a colon (:).\n",
    "3. Parameters are optional if initialized in the definition. The code block inside the method should be indented.\n",
    "4. The function ends with a return statement. No return statement implies the function returns None"
   ]
  },
  {
   "cell_type": "code",
   "execution_count": null,
   "id": "04400e92",
   "metadata": {},
   "outputs": [],
   "source": []
  },
  {
   "cell_type": "markdown",
   "id": "2c94a50e",
   "metadata": {},
   "source": [
    "### 1.6 Working with Collections"
   ]
  },
  {
   "cell_type": "markdown",
   "id": "ed4d4b58",
   "metadata": {},
   "source": [
    "We will discuss the following collections in this section:\n",
    "1. List\n",
    "2. Tuple\n",
    "3. Set\n",
    "4. Dictionary"
   ]
  },
  {
   "cell_type": "markdown",
   "id": "fe0188f7",
   "metadata": {},
   "source": [
    "#### 1.6.1 List"
   ]
  },
  {
   "cell_type": "code",
   "execution_count": null,
   "id": "2b262c69",
   "metadata": {},
   "outputs": [],
   "source": [
    "## Create an empty list\n",
    "emptyList = []\n",
    "list1 = [1,3,5,7,9,'Data Science']\n",
    "list1[0]\n"
   ]
  },
  {
   "cell_type": "code",
   "execution_count": null,
   "id": "75f83942",
   "metadata": {},
   "outputs": [],
   "source": [
    "## Slicing an list\n",
    "list1[0:2]\n"
   ]
  },
  {
   "cell_type": "code",
   "execution_count": null,
   "id": "8a73ccc4",
   "metadata": {},
   "outputs": [],
   "source": [
    "## Accessing the last element\n",
    "list1[-1]\n"
   ]
  },
  {
   "cell_type": "code",
   "execution_count": null,
   "id": "33270569",
   "metadata": {},
   "outputs": [],
   "source": [
    "# how many elements in the list\n",
    "len( list1 )\n"
   ]
  },
  {
   "cell_type": "code",
   "execution_count": null,
   "id": "49aebfe8",
   "metadata": {},
   "outputs": [],
   "source": [
    "list2 = [0,2,4,6,8,'Python', True]\n",
    "all_list = list1 + list2\n",
    "all_list\n"
   ]
  },
  {
   "cell_type": "code",
   "execution_count": null,
   "id": "2f9adf05",
   "metadata": {},
   "outputs": [],
   "source": [
    "#Finding if an item exists in a list or not\n",
    "'Python' in list1\n"
   ]
  },
  {
   "cell_type": "code",
   "execution_count": null,
   "id": "58317c9c",
   "metadata": {},
   "outputs": [],
   "source": [
    "'Data Science' in list1\n"
   ]
  },
  {
   "cell_type": "code",
   "execution_count": null,
   "id": "235a2897",
   "metadata": {},
   "outputs": [],
   "source": [
    "#Finding the index of an item in the list.\n",
    "all_list.index( 'Python' )\n"
   ]
  },
  {
   "cell_type": "code",
   "execution_count": null,
   "id": "42055ba1",
   "metadata": {},
   "outputs": [],
   "source": [
    "# arranged in reverse order\n",
    "all_list.reverse()\n",
    "all_list"
   ]
  },
  {
   "cell_type": "code",
   "execution_count": null,
   "id": "6c3a5788",
   "metadata": {},
   "outputs": [],
   "source": [
    "# to change an element\n",
    "list2[0]='000'\n",
    "list2"
   ]
  },
  {
   "cell_type": "code",
   "execution_count": null,
   "id": "3a53697f",
   "metadata": {},
   "outputs": [],
   "source": [
    "# to remove an element\n",
    "del(list1[0])\n",
    "list1"
   ]
  },
  {
   "cell_type": "code",
   "execution_count": null,
   "id": "93a12cfc",
   "metadata": {},
   "outputs": [],
   "source": [
    "# multiply elements\n",
    "list2*3"
   ]
  },
  {
   "cell_type": "code",
   "execution_count": null,
   "id": "5c4e4f9c",
   "metadata": {},
   "outputs": [],
   "source": []
  },
  {
   "cell_type": "markdown",
   "id": "ac811380",
   "metadata": {},
   "source": [
    "Notes:\n",
    "- Lists are like arrays,\n",
    "- It can contain heterogeneous items, (integer, float, string, or objects). \n",
    "- It allows duplicate items.\n",
    "- Lists are mutable\n",
    "- items of an list are ordered (indexed)\n",
    "- initialized with a list of values specified inside square brackets or an empty list."
   ]
  },
  {
   "cell_type": "code",
   "execution_count": null,
   "id": "5a68e809",
   "metadata": {},
   "outputs": [],
   "source": []
  },
  {
   "cell_type": "markdown",
   "id": "605a425c",
   "metadata": {},
   "source": [
    "#### 1.6.2 Tuples"
   ]
  },
  {
   "cell_type": "code",
   "execution_count": null,
   "id": "96674e1e",
   "metadata": {},
   "outputs": [],
   "source": [
    "t1 = ('Data Science', 2022)\n",
    "t1"
   ]
  },
  {
   "cell_type": "code",
   "execution_count": null,
   "id": "0f59a53e",
   "metadata": {},
   "outputs": [],
   "source": [
    "t1[1]\n",
    "t1[1] = '2023'\n"
   ]
  },
  {
   "cell_type": "code",
   "execution_count": null,
   "id": "c80083b6",
   "metadata": {},
   "outputs": [],
   "source": [
    "t1.index(2022)"
   ]
  },
  {
   "cell_type": "code",
   "execution_count": null,
   "id": "06f50e92",
   "metadata": {},
   "outputs": [],
   "source": [
    "# type conversion from list to tuple\n",
    "t2 = tuple(list1)\n",
    "print(t2)"
   ]
  },
  {
   "cell_type": "code",
   "execution_count": null,
   "id": "bd3fa879",
   "metadata": {},
   "outputs": [],
   "source": []
  },
  {
   "cell_type": "markdown",
   "id": "e5f104cd",
   "metadata": {},
   "source": [
    "Tuple is also a list, but it is immutable. Once a tuple has been created it cannot be modified."
   ]
  },
  {
   "cell_type": "code",
   "execution_count": null,
   "id": "1ee714dd",
   "metadata": {},
   "outputs": [],
   "source": []
  },
  {
   "cell_type": "markdown",
   "id": "a40eb1f1",
   "metadata": {},
   "source": [
    "#### 1.6.3 Set"
   ]
  },
  {
   "cell_type": "code",
   "execution_count": null,
   "id": "ef6bb68e",
   "metadata": {},
   "outputs": [],
   "source": [
    "set1 = {6,1,1,2,4,5}\n",
    "set1\n"
   ]
  },
  {
   "cell_type": "code",
   "execution_count": null,
   "id": "35dd87d9",
   "metadata": {},
   "outputs": [],
   "source": [
    "set2 = {0, 2,4,6,8}\n",
    "\n",
    "set1.union( set2 )\n",
    "set1.intersection( set2 )\n",
    "set1.difference( set2 )\n"
   ]
  },
  {
   "cell_type": "code",
   "execution_count": null,
   "id": "5e03d65f",
   "metadata": {},
   "outputs": [],
   "source": []
  },
  {
   "cell_type": "markdown",
   "id": "c466d4b5",
   "metadata": {},
   "source": [
    "Notes: A set is a collection of unique elements, that is, the values cannot repeat. A set can be initialized with a list of items enclosed with curly brackets. The set automatically removes duplicates and contains only unique list of numbers."
   ]
  },
  {
   "cell_type": "code",
   "execution_count": null,
   "id": "0dd3b1d5",
   "metadata": {},
   "outputs": [],
   "source": []
  },
  {
   "cell_type": "markdown",
   "id": "661aecf2",
   "metadata": {},
   "source": [
    "#### 1.6.4 Dictionary"
   ]
  },
  {
   "cell_type": "code",
   "execution_count": null,
   "id": "1a9d39cf",
   "metadata": {},
   "outputs": [],
   "source": [
    "wcWinners = {1975: \"West Indies\", \n",
    "             1979: \"West Indies\", \n",
    "             1983: \"India\", \n",
    "             1987: \"Australia\", \n",
    "             1991: \"Pakistan\", \n",
    "             1996: \"Srilanka\", \n",
    "             1999: \"Australia\", \n",
    "             2003: \"Australia\", \n",
    "             2007: \"Australia\", \n",
    "             2011: \"India\"}\n"
   ]
  },
  {
   "cell_type": "code",
   "execution_count": null,
   "id": "54fd0888",
   "metadata": {},
   "outputs": [],
   "source": [
    "wcWinners[1983]\n"
   ]
  },
  {
   "cell_type": "code",
   "execution_count": null,
   "id": "4e5e861d",
   "metadata": {},
   "outputs": [],
   "source": [
    "wcWinners.values()\n"
   ]
  },
  {
   "cell_type": "code",
   "execution_count": null,
   "id": "a8646478",
   "metadata": {},
   "outputs": [],
   "source": [
    "#To find unique list of values\n",
    "set(wcWinners.values())\n"
   ]
  },
  {
   "cell_type": "code",
   "execution_count": null,
   "id": "993ddcb7",
   "metadata": {},
   "outputs": [],
   "source": [
    "#To adding a new key-value pair to the dictionary\n",
    "wcWinners[2015] = 'Australia'\n",
    "wcWinners"
   ]
  },
  {
   "cell_type": "code",
   "execution_count": null,
   "id": "292a32d5",
   "metadata": {},
   "outputs": [],
   "source": [
    "wcWinners.keys()"
   ]
  },
  {
   "cell_type": "code",
   "execution_count": null,
   "id": "173390f6",
   "metadata": {},
   "outputs": [],
   "source": []
  },
  {
   "cell_type": "markdown",
   "id": "3e605d8d",
   "metadata": {},
   "source": [
    "Dictionary is a list of key and value pairs. All the keys in a dictionary are unique. The value of a specific dictionary element can be accessed by key."
   ]
  },
  {
   "cell_type": "code",
   "execution_count": null,
   "id": "fdc3b5a4",
   "metadata": {},
   "outputs": [],
   "source": []
  },
  {
   "cell_type": "markdown",
   "id": "3bf4fc85",
   "metadata": {},
   "source": [
    "### 1.7 Dealing with Strings"
   ]
  },
  {
   "cell_type": "code",
   "execution_count": null,
   "id": "4c49dd6f",
   "metadata": {},
   "outputs": [],
   "source": [
    "string0 = 'python'\n",
    "string1 = \"machine learning\"\n",
    "string2 = \"\"\"This is a multiline string\"\"\"\n",
    "# Converting to upper case\n",
    "string0.upper()\n"
   ]
  },
  {
   "cell_type": "code",
   "execution_count": null,
   "id": "2c9edb62",
   "metadata": {},
   "outputs": [],
   "source": [
    "# Similarly string.lower() can be used to convert to lower case.\n",
    "string0.lower()\n"
   ]
  },
  {
   "cell_type": "code",
   "execution_count": null,
   "id": "0a7ee87d",
   "metadata": {},
   "outputs": [],
   "source": [
    "tokens = string1.split(' ')\n",
    "tokens"
   ]
  },
  {
   "cell_type": "code",
   "execution_count": null,
   "id": "47dc7640",
   "metadata": {},
   "outputs": [],
   "source": []
  },
  {
   "cell_type": "code",
   "execution_count": null,
   "id": "e88b8794",
   "metadata": {},
   "outputs": [],
   "source": []
  },
  {
   "cell_type": "markdown",
   "id": "1ca7c534",
   "metadata": {},
   "source": [
    "### 1.7.8 Functional Programming"
   ]
  },
  {
   "cell_type": "markdown",
   "id": "160f4368",
   "metadata": {},
   "source": [
    "####  Map"
   ]
  },
  {
   "cell_type": "code",
   "execution_count": null,
   "id": "96863693",
   "metadata": {},
   "outputs": [],
   "source": [
    "intList = [1,2,3,4,5,6,7,8,9]\n",
    "# Create an empty list.\n",
    "squareList = []\n",
    "# Loop through the intList, square every item and append to result list squareList.\n",
    "for x in intList: \n",
    "    squareList.append( pow( x, 2 ) )\n",
    "print( squareList )\n"
   ]
  },
  {
   "cell_type": "code",
   "execution_count": null,
   "id": "0adf513a",
   "metadata": {},
   "outputs": [],
   "source": [
    "def square_me( x ):\n",
    "    return x * x\n",
    "squareList = map( square_me, intList)\n",
    "list(squareList)\n"
   ]
  },
  {
   "cell_type": "code",
   "execution_count": null,
   "id": "080fbc1f",
   "metadata": {},
   "outputs": [],
   "source": [
    "squareList = map(lambda x: x*x, intList)\n",
    "list(squareList)"
   ]
  },
  {
   "cell_type": "markdown",
   "id": "e28ba9ac",
   "metadata": {},
   "source": [
    "#### Example 2: Filter"
   ]
  },
  {
   "cell_type": "code",
   "execution_count": null,
   "id": "fab3c6d8",
   "metadata": {},
   "outputs": [],
   "source": [
    "evenInts = filter( lambda x : x % 2 == 0, intList )\n",
    "list( evenInts )"
   ]
  },
  {
   "cell_type": "code",
   "execution_count": null,
   "id": "a296061e",
   "metadata": {},
   "outputs": [],
   "source": []
  },
  {
   "cell_type": "code",
   "execution_count": null,
   "id": "e3c4a0a4",
   "metadata": {},
   "outputs": [],
   "source": []
  },
  {
   "cell_type": "markdown",
   "id": "b32d49f3",
   "metadata": {},
   "source": [
    "### 1.9 Modules and Packages"
   ]
  },
  {
   "cell_type": "code",
   "execution_count": null,
   "id": "8d7c7fd2",
   "metadata": {},
   "outputs": [],
   "source": [
    "import math\n",
    "## Taking square root of a value\n",
    "math.sqrt(16)"
   ]
  },
  {
   "cell_type": "code",
   "execution_count": null,
   "id": "94b24e64",
   "metadata": {},
   "outputs": [],
   "source": [
    "from random import sample"
   ]
  },
  {
   "cell_type": "code",
   "execution_count": null,
   "id": "702482cf",
   "metadata": {},
   "outputs": [],
   "source": [
    "sample( range(0, 11), 3)\n"
   ]
  },
  {
   "cell_type": "code",
   "execution_count": null,
   "id": "bbedaff8",
   "metadata": {},
   "outputs": [],
   "source": []
  },
  {
   "cell_type": "markdown",
   "id": "96b693ec",
   "metadata": {},
   "source": [
    "**Note:** \n",
    "- In Python, a module is a file that consists of functions, classes, and variables. \n",
    "- A set of modules under a namespace (mostly a directory) is called a package. \n",
    "- The modules and packages can be imported to another module using import statement. \n",
    "- For example, to use mathematical functions, Python’s math module can be imported."
   ]
  },
  {
   "cell_type": "code",
   "execution_count": null,
   "id": "8f3770db",
   "metadata": {},
   "outputs": [],
   "source": []
  },
  {
   "cell_type": "markdown",
   "id": "d3a5ef6c",
   "metadata": {},
   "source": [
    "### 1.10 Other Features"
   ]
  },
  {
   "cell_type": "code",
   "execution_count": null,
   "id": "4f000a9d",
   "metadata": {},
   "outputs": [],
   "source": [
    "import random\n",
    "randomList = random.sample( range(0, 100), 20)\n",
    "randomList\n"
   ]
  },
  {
   "cell_type": "code",
   "execution_count": null,
   "id": "46669600",
   "metadata": {},
   "outputs": [],
   "source": [
    "from statistics import mean, median\n",
    "def getMeanAndMedian( listNum ): \n",
    "    return mean(listNum), median(listNum)\n"
   ]
  },
  {
   "cell_type": "code",
   "execution_count": null,
   "id": "f1f7ad2d",
   "metadata": {},
   "outputs": [],
   "source": [
    "mean, median = getMeanAndMedian( randomList )\n",
    "print( \"Mean: \", mean, \" Median: \", median)"
   ]
  },
  {
   "cell_type": "code",
   "execution_count": null,
   "id": "ef6a176f",
   "metadata": {},
   "outputs": [],
   "source": []
  },
  {
   "cell_type": "markdown",
   "id": "1530016d",
   "metadata": {},
   "source": [
    "### Input from user"
   ]
  },
  {
   "cell_type": "code",
   "execution_count": 3,
   "id": "23a6b77b",
   "metadata": {},
   "outputs": [
    {
     "name": "stdout",
     "output_type": "stream",
     "text": [
      "Enter a text =name\n"
     ]
    }
   ],
   "source": [
    "data = input('Enter a text =')"
   ]
  },
  {
   "cell_type": "code",
   "execution_count": 4,
   "id": "41069b91",
   "metadata": {},
   "outputs": [
    {
     "data": {
      "text/plain": [
       "'name'"
      ]
     },
     "execution_count": 4,
     "metadata": {},
     "output_type": "execute_result"
    }
   ],
   "source": [
    "data"
   ]
  },
  {
   "cell_type": "code",
   "execution_count": null,
   "id": "9bd69b65",
   "metadata": {},
   "outputs": [],
   "source": []
  },
  {
   "cell_type": "code",
   "execution_count": null,
   "id": "abf95b9b",
   "metadata": {},
   "outputs": [],
   "source": []
  },
  {
   "cell_type": "markdown",
   "id": "d439365b",
   "metadata": {},
   "source": [
    "## Guess the Number!"
   ]
  },
  {
   "cell_type": "code",
   "execution_count": null,
   "id": "7c8591c4",
   "metadata": {},
   "outputs": [],
   "source": []
  },
  {
   "cell_type": "code",
   "execution_count": null,
   "id": "ca1f17b3",
   "metadata": {},
   "outputs": [],
   "source": [
    "# guess the number until you get it right\n",
    "import random\n",
    "target_num = random.randint(1, 9)\n",
    "guess_num =  0\n",
    "print('Target = ',target_num)\n",
    "print('Guess a number between 1 and 9 until you get it right')\n",
    "while target_num != guess_num:\n",
    "    guess_num = int(input('Guess: '))\n",
    "print('\\nWell guessed!')"
   ]
  },
  {
   "cell_type": "code",
   "execution_count": null,
   "id": "96c31210",
   "metadata": {},
   "outputs": [],
   "source": []
  },
  {
   "cell_type": "code",
   "execution_count": null,
   "id": "b36779b7",
   "metadata": {},
   "outputs": [],
   "source": [
    "# Guess the number in fixed number of try\n",
    "import random\n",
    "    \n",
    "target_num=random.randint(1,9)\n",
    "print ('Target Number is = ',target_num)\n",
    "print ('Guess a number between 1 to 9\\n\\n')\n",
    "count = 1\n",
    "while count<=3:\n",
    "    guess_num = int(input('Your guess-'))\n",
    "    if guess_num == target_num: print('Congratulation!!! You won the game!'); break\n",
    "    elif guess_num<target_num: print('\\nToo small! Try again!')\n",
    "    elif guess_num>target_num: print('\\nToo large! Try again!')\n",
    "    count+=1\n",
    "if count>3: print('\\nSorry, You lost! Better luck next time!')"
   ]
  },
  {
   "cell_type": "code",
   "execution_count": null,
   "id": "482986b7",
   "metadata": {},
   "outputs": [],
   "source": []
  },
  {
   "cell_type": "code",
   "execution_count": null,
   "id": "c35370b3",
   "metadata": {},
   "outputs": [],
   "source": [
    "# Write a function that allows you to guess the integer within the given range by fixed number of try\n",
    "def guess_the_number(a,b):\n",
    "    import random\n",
    "    import math\n",
    "    target_num=random.randint(a,b)\n",
    "    print ('Target Number is', target_num)\n",
    "    print ('Guess a number between', a, 'and',b,'\\n')\n",
    "    count = 1\n",
    "    try_limit = int(math.log(b-a+1,2))\n",
    "    print('You can try',try_limit-count+1,' times:')\n",
    "    while count<=try_limit:\n",
    "        guess_num = int(input('Your guess is :'))\n",
    "        if guess_num == target_num: print('Congratulation!!! You won the game!'); break\n",
    "        elif guess_num<target_num: print('Too small!\\n')\n",
    "        elif guess_num>target_num: print('Too large!\\n')\n",
    "        count+=1\n",
    "        print('You can try',try_limit-count+1,' times:')\n",
    "        \n",
    "    if count>try_limit: print('Sorry, You lost! Better luck next time!') \n",
    "\n",
    "guess_the_number(1,20)"
   ]
  },
  {
   "cell_type": "code",
   "execution_count": null,
   "id": "471c055d",
   "metadata": {},
   "outputs": [],
   "source": []
  },
  {
   "cell_type": "code",
   "execution_count": null,
   "id": "61beb392",
   "metadata": {},
   "outputs": [],
   "source": []
  },
  {
   "cell_type": "code",
   "execution_count": null,
   "id": "6b1e2ac9",
   "metadata": {},
   "outputs": [],
   "source": []
  }
 ],
 "metadata": {
  "kernelspec": {
   "display_name": "Python 3 (ipykernel)",
   "language": "python",
   "name": "python3"
  },
  "language_info": {
   "codemirror_mode": {
    "name": "ipython",
    "version": 3
   },
   "file_extension": ".py",
   "mimetype": "text/x-python",
   "name": "python",
   "nbconvert_exporter": "python",
   "pygments_lexer": "ipython3",
   "version": "3.9.7"
  }
 },
 "nbformat": 4,
 "nbformat_minor": 5
}
