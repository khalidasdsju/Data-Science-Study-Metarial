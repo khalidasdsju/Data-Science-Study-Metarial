{
 "cells": [
  {
   "cell_type": "markdown",
   "id": "d6d6f79b",
   "metadata": {},
   "source": [
    "# Week_01: Introduction to Python\n",
    "**Course:** WMASDS04-Introduction to Data Science with Python\n",
    "<br>**Instructor:** Farhana Afrin Duti, Department of Statistics, JU\n",
    "\n",
    "<br>**Objectives:** \n",
    "- Writing your first program in Jupyter Notebook using Python\n",
    "- Basic data types in Python"
   ]
  },
  {
   "cell_type": "markdown",
   "id": "1a6f5af3",
   "metadata": {},
   "source": [
    "1. Declaring variables\n",
    "2. Conditional Statements\n",
    "3. Control flow statements\n",
    "4. Collections\n",
    "5. Functions\n",
    "6. Modules and packages"
   ]
  },
  {
   "cell_type": "markdown",
   "id": "732fb472",
   "metadata": {},
   "source": [
    "### First Program in Python"
   ]
  },
  {
   "cell_type": "markdown",
   "id": "86b8755d",
   "metadata": {},
   "source": [
    "**This is a comment line. This cell is known as markdown cell. \n",
    "Your first python program is in the following code cell:**"
   ]
  },
  {
   "cell_type": "code",
   "execution_count": 1,
   "id": "a183526b",
   "metadata": {},
   "outputs": [
    {
     "name": "stdout",
     "output_type": "stream",
     "text": [
      "Hellow World\n"
     ]
    }
   ],
   "source": [
    "print('Hellow World')"
   ]
  },
  {
   "cell_type": "code",
   "execution_count": null,
   "id": "610167b3",
   "metadata": {},
   "outputs": [],
   "source": [
    "# #Setting working directory\n",
    "# import os\n",
    "# os.getcwd()\n",
    "# # os.chdir('D:\\Summer2023')"
   ]
  },
  {
   "cell_type": "markdown",
   "id": "9b3e83de",
   "metadata": {},
   "source": [
    "Note: A line starting with hash (#) is a comment line in Python."
   ]
  },
  {
   "cell_type": "markdown",
   "id": "7f7dbefe",
   "metadata": {},
   "source": [
    "### 1.1 Variable Declaration "
   ]
  },
  {
   "cell_type": "code",
   "execution_count": 2,
   "id": "d3e6348d",
   "metadata": {},
   "outputs": [
    {
     "name": "stdout",
     "output_type": "stream",
     "text": [
      "Value of var1 : 2\n",
      "Value of var2 : 5.0\n",
      "Value of var3 : True\n",
      "Value of var4 : Data Science\n"
     ]
    },
    {
     "data": {
      "text/plain": [
       "str"
      ]
     },
     "execution_count": 2,
     "metadata": {},
     "output_type": "execute_result"
    }
   ],
   "source": [
    "var1 = 2\n",
    "var2 = 5.0\n",
    "var3 = True\n",
    "var4 = \"Data Science\"\n",
    "print(\"Value of var1 :\", var1)\n",
    "print(\"Value of var2 :\", var2)\n",
    "print(\"Value of var3 :\", var3)\n",
    "print(\"Value of var4 :\", var4)\n",
    "type( var1 )\n",
    "type( var2 )\n",
    "type(var3)\n",
    "type(var4)"
   ]
  },
  {
   "cell_type": "code",
   "execution_count": 3,
   "id": "a80e6ff5",
   "metadata": {},
   "outputs": [],
   "source": [
    "a = 5\n",
    "b = 5.5\n",
    "c = \"5.5\"\n",
    "d = 5==5.5"
   ]
  },
  {
   "cell_type": "code",
   "execution_count": 4,
   "id": "2f238653",
   "metadata": {},
   "outputs": [
    {
     "name": "stdout",
     "output_type": "stream",
     "text": [
      "<class 'int'> <class 'float'> <class 'str'> <class 'bool'>\n"
     ]
    }
   ],
   "source": [
    "print(type(a),type(b),type(c),type(d))"
   ]
  },
  {
   "cell_type": "code",
   "execution_count": 5,
   "id": "a04b5297",
   "metadata": {},
   "outputs": [
    {
     "data": {
      "text/plain": [
       "int"
      ]
     },
     "metadata": {},
     "output_type": "display_data"
    },
    {
     "data": {
      "text/plain": [
       "float"
      ]
     },
     "metadata": {},
     "output_type": "display_data"
    },
    {
     "data": {
      "text/plain": [
       "str"
      ]
     },
     "metadata": {},
     "output_type": "display_data"
    },
    {
     "data": {
      "text/plain": [
       "bool"
      ]
     },
     "metadata": {},
     "output_type": "display_data"
    }
   ],
   "source": [
    "display(type(a),type(b),type(c),type(d))"
   ]
  },
  {
   "cell_type": "markdown",
   "id": "f6a95c91",
   "metadata": {},
   "source": [
    "**Note:** Python supports the following variable types:\n",
    "1. int – Integer type.\n",
    "2. float – Floating point numbers.\n",
    "3. bool – Booleans are subtypes of integers and assigned value using literals True and False.\n",
    "4. str – Textual data."
   ]
  },
  {
   "cell_type": "markdown",
   "id": "1f915d71",
   "metadata": {},
   "source": [
    "### 1.2 Conditional Statements"
   ]
  },
  {
   "cell_type": "code",
   "execution_count": 6,
   "id": "78eebdad",
   "metadata": {},
   "outputs": [
    {
     "name": "stdout",
     "output_type": "stream",
     "text": [
      "Bigger than 1\n"
     ]
    }
   ],
   "source": [
    "# Checking a condition if the variable value is more than 1\n",
    "if var1 > 1:\n",
    "    print( \"Bigger than 1\" )"
   ]
  },
  {
   "cell_type": "code",
   "execution_count": 7,
   "id": "dcb257ca",
   "metadata": {},
   "outputs": [
    {
     "name": "stdout",
     "output_type": "stream",
     "text": [
      "x < y\n"
     ]
    }
   ],
   "source": [
    "x = 10\n",
    "y = 12\n",
    "# if x is greater than y\n",
    "if x > y:\n",
    "    print (\"x > y\")\n",
    "# if x is lesser than y\n",
    "elif x < y:\n",
    "    print (\"x < y\")\n",
    "else:\n",
    "    print (\"x = y\")"
   ]
  },
  {
   "cell_type": "code",
   "execution_count": 65,
   "id": "dbcfcd25",
   "metadata": {},
   "outputs": [
    {
     "name": "stdout",
     "output_type": "stream",
     "text": [
      "False\n"
     ]
    }
   ],
   "source": [
    "# Initialize\n",
    "x = 5\n",
    "# Assign True if x is more than 10 or assign False using ternary operator\n",
    "isGreater = True if x > 10 else False\n",
    "print(isGreater)"
   ]
  },
  {
   "cell_type": "code",
   "execution_count": null,
   "id": "69840b98",
   "metadata": {},
   "outputs": [],
   "source": []
  },
  {
   "cell_type": "markdown",
   "id": "fbe30aca",
   "metadata": {},
   "source": [
    "Note:\n",
    "- Python supports if-elif-else for writing conditional statements.\n",
    "- The condition should be terminated by : (colon) and the code block following that must be indented.\n",
    "- Indentation in Python is not optional. It is a syntax of Python. \n",
    "- The conditional statement need not be enclosed with a bracket."
   ]
  },
  {
   "cell_type": "markdown",
   "id": "88636f79",
   "metadata": {},
   "source": [
    "### 1.3 Generating Sequence Numbers"
   ]
  },
  {
   "cell_type": "code",
   "execution_count": 70,
   "id": "260204c2",
   "metadata": {},
   "outputs": [
    {
     "ename": "IndentationError",
     "evalue": "unexpected indent (3564560725.py, line 4)",
     "output_type": "error",
     "traceback": [
      "\u001b[1;36m  Cell \u001b[1;32mIn[70], line 4\u001b[1;36m\u001b[0m\n\u001b[1;33m    Print(numbers)\u001b[0m\n\u001b[1;37m    ^\u001b[0m\n\u001b[1;31mIndentationError\u001b[0m\u001b[1;31m:\u001b[0m unexpected indent\n"
     ]
    }
   ],
   "source": [
    "# Initializing the sequence of numbers starting from 1\n",
    "# and ending (not including) with 6\n",
    "numbers = range( 1, 6 )\n",
    " Print(numbers)"
   ]
  },
  {
   "cell_type": "code",
   "execution_count": 67,
   "id": "6c4eb31b",
   "metadata": {},
   "outputs": [],
   "source": [
    "range?"
   ]
  },
  {
   "cell_type": "code",
   "execution_count": null,
   "id": "e827d843",
   "metadata": {},
   "outputs": [],
   "source": [
    "list?\n",
    "len?\n",
    "type?"
   ]
  },
  {
   "cell_type": "markdown",
   "id": "499aa524",
   "metadata": {},
   "source": [
    "Note:\n",
    "range() function generates a sequence of numbers. It takes the following three parameters.\n",
    "1. start: Starting number of the sequence.\n",
    "2. stop: Generate numbers up to, but not including, this number.\n",
    "3. step: Difference between each number in the sequence. It is optional and default value is 1."
   ]
  },
  {
   "cell_type": "markdown",
   "id": "0f6368d4",
   "metadata": {},
   "source": []
  },
  {
   "cell_type": "markdown",
   "id": "7b316b3a",
   "metadata": {},
   "source": [
    "### 1.4 Control Flow Statements"
   ]
  },
  {
   "cell_type": "code",
   "execution_count": 12,
   "id": "e4a61e3e",
   "metadata": {},
   "outputs": [
    {
     "name": "stdout",
     "output_type": "stream",
     "text": [
      "1\n",
      "2\n",
      "3\n",
      "4\n",
      "5\n"
     ]
    }
   ],
   "source": [
    "# Iterate through the collection\n",
    "for i in numbers:\n",
    "    print (i)"
   ]
  },
  {
   "cell_type": "code",
   "execution_count": 13,
   "id": "fb354213",
   "metadata": {},
   "outputs": [
    {
     "name": "stdout",
     "output_type": "stream",
     "text": [
      "1\n",
      "2\n",
      "3\n",
      "4\n",
      "Done\n"
     ]
    }
   ],
   "source": [
    "# Initialize the value of 1\n",
    "i = 1\n",
    "# check the value of i to check if the loop will be continued or not\n",
    "while i < 5: \n",
    "    print(i)\n",
    "# Increment the value of i.\n",
    "    i = i+1\n",
    "# print after the value of i\n",
    "print('Done')"
   ]
  },
  {
   "cell_type": "markdown",
   "id": "0b611a8c",
   "metadata": {},
   "source": [
    "Note: A while loop is used to keep executing a loop until a condition is false. In while loop, the state of i has to be managed explicitly. There is a good chance of going into an infinite loop if the state of i is not incremented."
   ]
  },
  {
   "cell_type": "markdown",
   "id": "4d3e7dba",
   "metadata": {},
   "source": [
    "### 1.5 Functions"
   ]
  },
  {
   "cell_type": "code",
   "execution_count": 71,
   "id": "c43907d2",
   "metadata": {},
   "outputs": [],
   "source": [
    "def addElements( a, b ):\n",
    "    return a + b"
   ]
  },
  {
   "cell_type": "code",
   "execution_count": 15,
   "id": "84c9a8fb",
   "metadata": {},
   "outputs": [
    {
     "data": {
      "text/plain": [
       "5"
      ]
     },
     "execution_count": 15,
     "metadata": {},
     "output_type": "execute_result"
    }
   ],
   "source": [
    "result = addElements( 2, 3 )\n",
    "result"
   ]
  },
  {
   "cell_type": "code",
   "execution_count": 16,
   "id": "627a651c",
   "metadata": {},
   "outputs": [
    {
     "data": {
      "text/plain": [
       "6.8"
      ]
     },
     "execution_count": 16,
     "metadata": {},
     "output_type": "execute_result"
    }
   ],
   "source": [
    "result = addElements( 2.3, 4.5 )\n",
    "result"
   ]
  },
  {
   "cell_type": "code",
   "execution_count": 17,
   "id": "26b5dc18",
   "metadata": {},
   "outputs": [
    {
     "data": {
      "text/plain": [
       "'pythonworkshop'"
      ]
     },
     "execution_count": 17,
     "metadata": {},
     "output_type": "execute_result"
    }
   ],
   "source": [
    "result = addElements( \"python\", \"workshop\" )\n",
    "result"
   ]
  },
  {
   "cell_type": "code",
   "execution_count": 72,
   "id": "210948b3",
   "metadata": {},
   "outputs": [],
   "source": [
    "def addElements( a, b = 4 ):\n",
    "    return a + b\n"
   ]
  },
  {
   "cell_type": "code",
   "execution_count": 19,
   "id": "22774e4d",
   "metadata": {},
   "outputs": [
    {
     "data": {
      "text/plain": [
       "6"
      ]
     },
     "execution_count": 19,
     "metadata": {},
     "output_type": "execute_result"
    }
   ],
   "source": [
    "addElements( 2 )"
   ]
  },
  {
   "cell_type": "code",
   "execution_count": 20,
   "id": "99c1d50f",
   "metadata": {},
   "outputs": [
    {
     "data": {
      "text/plain": [
       "7"
      ]
     },
     "execution_count": 20,
     "metadata": {},
     "output_type": "execute_result"
    }
   ],
   "source": [
    "addElements( 2, 5 )"
   ]
  },
  {
   "cell_type": "markdown",
   "id": "2448d664",
   "metadata": {},
   "source": [
    "**Note:** \n",
    "Functions are the most important part of a language.\n",
    "1. Functions can be created using def keyword.\n",
    "2. The function signature should contain the function name followed by the input parameters enclosed in brackets and must end with a colon (:).\n",
    "3. Parameters are optional if initialized in the definition. The code block inside the method should be indented.\n",
    "4. The function ends with a return statement. No return statement implies the function returns None"
   ]
  },
  {
   "cell_type": "markdown",
   "id": "2c94a50e",
   "metadata": {},
   "source": [
    "### 1.6 Working with Collections"
   ]
  },
  {
   "cell_type": "markdown",
   "id": "ed4d4b58",
   "metadata": {},
   "source": [
    "We will discuss the following collections in this section:\n",
    "1. List\n",
    "2. Tuple\n",
    "3. Set\n",
    "4. Dictionary"
   ]
  },
  {
   "cell_type": "markdown",
   "id": "fe0188f7",
   "metadata": {},
   "source": [
    "#### 1.6.1 List"
   ]
  },
  {
   "cell_type": "code",
   "execution_count": 21,
   "id": "2b262c69",
   "metadata": {},
   "outputs": [
    {
     "data": {
      "text/plain": [
       "1"
      ]
     },
     "execution_count": 21,
     "metadata": {},
     "output_type": "execute_result"
    }
   ],
   "source": [
    "## Create an empty list\n",
    "emptyList = []\n",
    "list1 = [1,3,5,7,9,'Data Science']\n",
    "list1[0]\n"
   ]
  },
  {
   "cell_type": "code",
   "execution_count": 22,
   "id": "75f83942",
   "metadata": {},
   "outputs": [
    {
     "data": {
      "text/plain": [
       "[1, 3]"
      ]
     },
     "execution_count": 22,
     "metadata": {},
     "output_type": "execute_result"
    }
   ],
   "source": [
    "## Slicing an list\n",
    "list1[0:2]\n"
   ]
  },
  {
   "cell_type": "code",
   "execution_count": 23,
   "id": "8a73ccc4",
   "metadata": {},
   "outputs": [
    {
     "data": {
      "text/plain": [
       "'Data Science'"
      ]
     },
     "execution_count": 23,
     "metadata": {},
     "output_type": "execute_result"
    }
   ],
   "source": [
    "## Accessing the last element\n",
    "list1[-1]\n"
   ]
  },
  {
   "cell_type": "code",
   "execution_count": 24,
   "id": "33270569",
   "metadata": {},
   "outputs": [
    {
     "data": {
      "text/plain": [
       "6"
      ]
     },
     "execution_count": 24,
     "metadata": {},
     "output_type": "execute_result"
    }
   ],
   "source": [
    "# how many elements in the list\n",
    "len( list1 )\n"
   ]
  },
  {
   "cell_type": "code",
   "execution_count": 25,
   "id": "49aebfe8",
   "metadata": {},
   "outputs": [
    {
     "data": {
      "text/plain": [
       "[1, 3, 5, 7, 9, 'Data Science', 0, 2, 4, 6, 8, 'Python', True]"
      ]
     },
     "execution_count": 25,
     "metadata": {},
     "output_type": "execute_result"
    }
   ],
   "source": [
    "list2 = [0,2,4,6,8,'Python', True]\n",
    "all_list = list1 + list2\n",
    "all_list\n"
   ]
  },
  {
   "cell_type": "code",
   "execution_count": 26,
   "id": "2f9adf05",
   "metadata": {},
   "outputs": [
    {
     "data": {
      "text/plain": [
       "False"
      ]
     },
     "execution_count": 26,
     "metadata": {},
     "output_type": "execute_result"
    }
   ],
   "source": [
    "#Finding if an item exists in a list or not\n",
    "'Python' in list1\n"
   ]
  },
  {
   "cell_type": "code",
   "execution_count": 27,
   "id": "58317c9c",
   "metadata": {},
   "outputs": [
    {
     "data": {
      "text/plain": [
       "True"
      ]
     },
     "execution_count": 27,
     "metadata": {},
     "output_type": "execute_result"
    }
   ],
   "source": [
    "'Data Science' in list1\n"
   ]
  },
  {
   "cell_type": "code",
   "execution_count": 28,
   "id": "235a2897",
   "metadata": {},
   "outputs": [
    {
     "data": {
      "text/plain": [
       "11"
      ]
     },
     "execution_count": 28,
     "metadata": {},
     "output_type": "execute_result"
    }
   ],
   "source": [
    "#Finding the index of an item in the list.\n",
    "all_list.index( 'Python' )\n"
   ]
  },
  {
   "cell_type": "code",
   "execution_count": 29,
   "id": "42055ba1",
   "metadata": {},
   "outputs": [
    {
     "data": {
      "text/plain": [
       "[True, 'Python', 8, 6, 4, 2, 0, 'Data Science', 9, 7, 5, 3, 1]"
      ]
     },
     "execution_count": 29,
     "metadata": {},
     "output_type": "execute_result"
    }
   ],
   "source": [
    "# arranged in reverse order\n",
    "all_list.reverse()\n",
    "all_list"
   ]
  },
  {
   "cell_type": "code",
   "execution_count": 30,
   "id": "6c3a5788",
   "metadata": {},
   "outputs": [
    {
     "data": {
      "text/plain": [
       "['000', 2, 4, 6, 8, 'Python', True]"
      ]
     },
     "execution_count": 30,
     "metadata": {},
     "output_type": "execute_result"
    }
   ],
   "source": [
    "# to change an element\n",
    "list2[0]='000'\n",
    "list2"
   ]
  },
  {
   "cell_type": "code",
   "execution_count": 31,
   "id": "3a53697f",
   "metadata": {},
   "outputs": [
    {
     "data": {
      "text/plain": [
       "[3, 5, 7, 9, 'Data Science']"
      ]
     },
     "execution_count": 31,
     "metadata": {},
     "output_type": "execute_result"
    }
   ],
   "source": [
    "# to remove an element\n",
    "del(list1[0])\n",
    "list1"
   ]
  },
  {
   "cell_type": "code",
   "execution_count": 32,
   "id": "93a12cfc",
   "metadata": {},
   "outputs": [
    {
     "data": {
      "text/plain": [
       "['000',\n",
       " 2,\n",
       " 4,\n",
       " 6,\n",
       " 8,\n",
       " 'Python',\n",
       " True,\n",
       " '000',\n",
       " 2,\n",
       " 4,\n",
       " 6,\n",
       " 8,\n",
       " 'Python',\n",
       " True,\n",
       " '000',\n",
       " 2,\n",
       " 4,\n",
       " 6,\n",
       " 8,\n",
       " 'Python',\n",
       " True]"
      ]
     },
     "execution_count": 32,
     "metadata": {},
     "output_type": "execute_result"
    }
   ],
   "source": [
    "# multiply elements\n",
    "list2*3"
   ]
  },
  {
   "cell_type": "markdown",
   "id": "ac811380",
   "metadata": {},
   "source": [
    "Notes:\n",
    "- Lists are like arrays,\n",
    "- It can contain heterogeneous items, (integer, float, string, or objects). \n",
    "- It allows duplicate items.\n",
    "- Lists are mutable\n",
    "- items of an list are ordered (indexed)\n",
    "- initialized with a list of values specified inside square brackets or an empty list."
   ]
  },
  {
   "cell_type": "markdown",
   "id": "605a425c",
   "metadata": {},
   "source": [
    "#### 1.6.2 Tuples"
   ]
  },
  {
   "cell_type": "code",
   "execution_count": 78,
   "id": "96674e1e",
   "metadata": {},
   "outputs": [
    {
     "ename": "TypeError",
     "evalue": "'tuple' object does not support item assignment",
     "output_type": "error",
     "traceback": [
      "\u001b[1;31m---------------------------------------------------------------------------\u001b[0m",
      "\u001b[1;31mTypeError\u001b[0m                                 Traceback (most recent call last)",
      "Cell \u001b[1;32mIn[78], line 2\u001b[0m\n\u001b[0;32m      1\u001b[0m t1 \u001b[38;5;241m=\u001b[39m (\u001b[38;5;124m'\u001b[39m\u001b[38;5;124mData Science\u001b[39m\u001b[38;5;124m'\u001b[39m, \u001b[38;5;241m2022\u001b[39m)\n\u001b[1;32m----> 2\u001b[0m t1[\u001b[38;5;241m1\u001b[39m] \u001b[38;5;241m=\u001b[39m \u001b[38;5;124m'\u001b[39m\u001b[38;5;124m2023\u001b[39m\u001b[38;5;124m'\u001b[39m\n\u001b[0;32m      3\u001b[0m \u001b[38;5;28mprint\u001b[39m(t1[\u001b[38;5;241m1\u001b[39m])\n",
      "\u001b[1;31mTypeError\u001b[0m: 'tuple' object does not support item assignment"
     ]
    }
   ],
   "source": [
    "t1 = ('Data Science', 2022)\n",
    "t1[1] = '2023'\n",
    "print(t1[1])"
   ]
  },
  {
   "cell_type": "code",
   "execution_count": 35,
   "id": "c80083b6",
   "metadata": {},
   "outputs": [
    {
     "data": {
      "text/plain": [
       "1"
      ]
     },
     "execution_count": 35,
     "metadata": {},
     "output_type": "execute_result"
    }
   ],
   "source": [
    "t1.index(2022)"
   ]
  },
  {
   "cell_type": "code",
   "execution_count": 36,
   "id": "06f50e92",
   "metadata": {},
   "outputs": [
    {
     "name": "stdout",
     "output_type": "stream",
     "text": [
      "(3, 5, 7, 9, 'Data Science')\n"
     ]
    }
   ],
   "source": [
    "# type conversion from list to tuple\n",
    "t2 = tuple(list1)\n",
    "print(t2)"
   ]
  },
  {
   "cell_type": "markdown",
   "id": "e5f104cd",
   "metadata": {},
   "source": [
    "Tuple is also a list, but it is immutable. Once a tuple has been created it cannot be modified."
   ]
  },
  {
   "cell_type": "markdown",
   "id": "a40eb1f1",
   "metadata": {},
   "source": [
    "#### 1.6.3 Set"
   ]
  },
  {
   "cell_type": "code",
   "execution_count": 74,
   "id": "35dd87d9",
   "metadata": {},
   "outputs": [
    {
     "data": {
      "text/plain": [
       "{1, 5}"
      ]
     },
     "execution_count": 74,
     "metadata": {},
     "output_type": "execute_result"
    }
   ],
   "source": [
    "set1 = {6,1,1,2,4,5}\n",
    "set2 = {0, 2,4,6,8}\n",
    "\n",
    "set1.union( set2 )\n",
    "set1.intersection( set2 )\n",
    "set1.difference( set2 )\n"
   ]
  },
  {
   "cell_type": "markdown",
   "id": "c466d4b5",
   "metadata": {},
   "source": [
    "Notes: A set is a collection of unique elements, that is, the values cannot repeat. A set can be initialized with a list of items enclosed with curly brackets. The set automatically removes duplicates and contains only unique list of numbers."
   ]
  },
  {
   "cell_type": "markdown",
   "id": "661aecf2",
   "metadata": {},
   "source": [
    "#### 1.6.4 Dictionary"
   ]
  },
  {
   "cell_type": "code",
   "execution_count": 39,
   "id": "1a9d39cf",
   "metadata": {},
   "outputs": [],
   "source": [
    "wcWinners = {1975: \"West Indies\", \n",
    "             1979: \"West Indies\", \n",
    "             1983: \"India\", \n",
    "             1987: \"Australia\", \n",
    "             1991: \"Pakistan\", \n",
    "             1996: \"Srilanka\", \n",
    "             1999: \"Australia\", \n",
    "             2003: \"Australia\", \n",
    "             2007: \"Australia\", \n",
    "             2011: \"India\"}\n"
   ]
  },
  {
   "cell_type": "code",
   "execution_count": 40,
   "id": "54fd0888",
   "metadata": {},
   "outputs": [
    {
     "data": {
      "text/plain": [
       "'India'"
      ]
     },
     "execution_count": 40,
     "metadata": {},
     "output_type": "execute_result"
    }
   ],
   "source": [
    "wcWinners[1983]\n"
   ]
  },
  {
   "cell_type": "code",
   "execution_count": 41,
   "id": "4e5e861d",
   "metadata": {},
   "outputs": [
    {
     "data": {
      "text/plain": [
       "dict_values(['West Indies', 'West Indies', 'India', 'Australia', 'Pakistan', 'Srilanka', 'Australia', 'Australia', 'Australia', 'India'])"
      ]
     },
     "execution_count": 41,
     "metadata": {},
     "output_type": "execute_result"
    }
   ],
   "source": [
    "wcWinners.values()\n"
   ]
  },
  {
   "cell_type": "code",
   "execution_count": 42,
   "id": "a8646478",
   "metadata": {},
   "outputs": [
    {
     "data": {
      "text/plain": [
       "{'Australia', 'India', 'Pakistan', 'Srilanka', 'West Indies'}"
      ]
     },
     "execution_count": 42,
     "metadata": {},
     "output_type": "execute_result"
    }
   ],
   "source": [
    "#To find unique list of values\n",
    "set(wcWinners.values())\n"
   ]
  },
  {
   "cell_type": "code",
   "execution_count": 43,
   "id": "993ddcb7",
   "metadata": {},
   "outputs": [
    {
     "data": {
      "text/plain": [
       "{1975: 'West Indies',\n",
       " 1979: 'West Indies',\n",
       " 1983: 'India',\n",
       " 1987: 'Australia',\n",
       " 1991: 'Pakistan',\n",
       " 1996: 'Srilanka',\n",
       " 1999: 'Australia',\n",
       " 2003: 'Australia',\n",
       " 2007: 'Australia',\n",
       " 2011: 'India',\n",
       " 2015: 'Australia'}"
      ]
     },
     "execution_count": 43,
     "metadata": {},
     "output_type": "execute_result"
    }
   ],
   "source": [
    "#To adding a new key-value pair to the dictionary\n",
    "wcWinners[2015] = 'Australia'\n",
    "wcWinners"
   ]
  },
  {
   "cell_type": "code",
   "execution_count": 44,
   "id": "292a32d5",
   "metadata": {},
   "outputs": [
    {
     "data": {
      "text/plain": [
       "dict_keys([1975, 1979, 1983, 1987, 1991, 1996, 1999, 2003, 2007, 2011, 2015])"
      ]
     },
     "execution_count": 44,
     "metadata": {},
     "output_type": "execute_result"
    }
   ],
   "source": [
    "wcWinners.keys()"
   ]
  },
  {
   "cell_type": "markdown",
   "id": "3e605d8d",
   "metadata": {},
   "source": [
    "Dictionary is a list of key and value pairs. All the keys in a dictionary are unique. The value of a specific dictionary element can be accessed by key."
   ]
  },
  {
   "cell_type": "markdown",
   "id": "3bf4fc85",
   "metadata": {},
   "source": [
    "### 1.7 Dealing with Strings"
   ]
  },
  {
   "cell_type": "code",
   "execution_count": 45,
   "id": "4c49dd6f",
   "metadata": {},
   "outputs": [
    {
     "data": {
      "text/plain": [
       "'PYTHON'"
      ]
     },
     "execution_count": 45,
     "metadata": {},
     "output_type": "execute_result"
    }
   ],
   "source": [
    "string0 = 'python'\n",
    "string1 = \"machine learning\"\n",
    "string2 = \"\"\"This is a multiline string\"\"\"\n",
    "# Converting to upper case\n",
    "string0.upper()\n"
   ]
  },
  {
   "cell_type": "code",
   "execution_count": 46,
   "id": "2c9edb62",
   "metadata": {},
   "outputs": [
    {
     "data": {
      "text/plain": [
       "'python'"
      ]
     },
     "execution_count": 46,
     "metadata": {},
     "output_type": "execute_result"
    }
   ],
   "source": [
    "# Similarly string.lower() can be used to convert to lower case.\n",
    "string0.lower()\n"
   ]
  },
  {
   "cell_type": "code",
   "execution_count": 47,
   "id": "0a7ee87d",
   "metadata": {},
   "outputs": [
    {
     "data": {
      "text/plain": [
       "['machine', 'learning']"
      ]
     },
     "execution_count": 47,
     "metadata": {},
     "output_type": "execute_result"
    }
   ],
   "source": [
    "tokens = string1.split(' ')\n",
    "tokens"
   ]
  },
  {
   "cell_type": "markdown",
   "id": "1ca7c534",
   "metadata": {},
   "source": [
    "### 1.7.8 Functional Programming"
   ]
  },
  {
   "cell_type": "markdown",
   "id": "160f4368",
   "metadata": {},
   "source": [
    "####  Map"
   ]
  },
  {
   "cell_type": "code",
   "execution_count": 48,
   "id": "96863693",
   "metadata": {},
   "outputs": [
    {
     "name": "stdout",
     "output_type": "stream",
     "text": [
      "[1, 4, 9, 16, 25, 36, 49, 64, 81]\n"
     ]
    }
   ],
   "source": [
    "intList = [1,2,3,4,5,6,7,8,9]\n",
    "# Create an empty list.\n",
    "squareList = []\n",
    "# Loop through the intList, square every item and append to result list squareList.\n",
    "for x in intList: \n",
    "    squareList.append( pow( x, 2 ) )\n",
    "print( squareList )\n"
   ]
  },
  {
   "cell_type": "code",
   "execution_count": 49,
   "id": "0adf513a",
   "metadata": {},
   "outputs": [
    {
     "data": {
      "text/plain": [
       "[1, 4, 9, 16, 25, 36, 49, 64, 81]"
      ]
     },
     "execution_count": 49,
     "metadata": {},
     "output_type": "execute_result"
    }
   ],
   "source": [
    "def square_me( x ):\n",
    "    return x * x\n",
    "squareList = map( square_me, intList)\n",
    "list(squareList)\n"
   ]
  },
  {
   "cell_type": "code",
   "execution_count": 50,
   "id": "080fbc1f",
   "metadata": {},
   "outputs": [
    {
     "data": {
      "text/plain": [
       "[1, 4, 9, 16, 25, 36, 49, 64, 81]"
      ]
     },
     "execution_count": 50,
     "metadata": {},
     "output_type": "execute_result"
    }
   ],
   "source": [
    "squareList = map(lambda x: x*x, intList)\n",
    "list(squareList)"
   ]
  },
  {
   "cell_type": "markdown",
   "id": "e28ba9ac",
   "metadata": {},
   "source": [
    "#### Example 2: Filter"
   ]
  },
  {
   "cell_type": "code",
   "execution_count": 51,
   "id": "fab3c6d8",
   "metadata": {},
   "outputs": [
    {
     "data": {
      "text/plain": [
       "[2, 4, 6, 8]"
      ]
     },
     "execution_count": 51,
     "metadata": {},
     "output_type": "execute_result"
    }
   ],
   "source": [
    "evenInts = filter( lambda x : x % 2 == 0, intList )\n",
    "list( evenInts )"
   ]
  },
  {
   "cell_type": "markdown",
   "id": "b32d49f3",
   "metadata": {},
   "source": [
    "### 1.9 Modules and Packages"
   ]
  },
  {
   "cell_type": "code",
   "execution_count": 52,
   "id": "8d7c7fd2",
   "metadata": {},
   "outputs": [
    {
     "data": {
      "text/plain": [
       "4.0"
      ]
     },
     "execution_count": 52,
     "metadata": {},
     "output_type": "execute_result"
    }
   ],
   "source": [
    "import math\n",
    "## Taking square root of a value\n",
    "math.sqrt(16)"
   ]
  },
  {
   "cell_type": "code",
   "execution_count": 79,
   "id": "94b24e64",
   "metadata": {},
   "outputs": [],
   "source": [
    "from random import sample"
   ]
  },
  {
   "cell_type": "code",
   "execution_count": 54,
   "id": "702482cf",
   "metadata": {},
   "outputs": [
    {
     "data": {
      "text/plain": [
       "[8, 5, 0]"
      ]
     },
     "execution_count": 54,
     "metadata": {},
     "output_type": "execute_result"
    }
   ],
   "source": [
    "sample( range(0, 11), 3)\n"
   ]
  },
  {
   "cell_type": "markdown",
   "id": "96b693ec",
   "metadata": {},
   "source": [
    "**Note:** \n",
    "- In Python, a module is a file that consists of functions, classes, and variables. \n",
    "- A set of modules under a namespace (mostly a directory) is called a package. \n",
    "- The modules and packages can be imported to another module using import statement. \n",
    "- For example, to use mathematical functions, Python’s math module can be imported."
   ]
  },
  {
   "cell_type": "markdown",
   "id": "d3a5ef6c",
   "metadata": {},
   "source": [
    "### 1.10 Other Features"
   ]
  },
  {
   "cell_type": "code",
   "execution_count": 55,
   "id": "4f000a9d",
   "metadata": {},
   "outputs": [
    {
     "data": {
      "text/plain": [
       "[21, 54, 81, 89, 48, 87, 94, 49, 4, 65, 18, 67, 39, 16, 12, 85, 15, 68, 25, 42]"
      ]
     },
     "execution_count": 55,
     "metadata": {},
     "output_type": "execute_result"
    }
   ],
   "source": [
    "import random\n",
    "randomList = random.sample( range(0, 100), 20)\n",
    "randomList\n"
   ]
  },
  {
   "cell_type": "code",
   "execution_count": 58,
   "id": "46669600",
   "metadata": {},
   "outputs": [],
   "source": [
    "from statistics import mean, median\n",
    "def getMeanAndMedian( listNum ): \n",
    "    return mean(listNum), median(listNum)\n"
   ]
  },
  {
   "cell_type": "code",
   "execution_count": 59,
   "id": "f1f7ad2d",
   "metadata": {},
   "outputs": [
    {
     "name": "stdout",
     "output_type": "stream",
     "text": [
      "Mean:  48.95  Median:  48.5\n"
     ]
    }
   ],
   "source": [
    "mean, median = getMeanAndMedian( randomList )\n",
    "print( \"Mean: \", mean, \" Median: \", median)"
   ]
  },
  {
   "cell_type": "markdown",
   "id": "1530016d",
   "metadata": {},
   "source": [
    "### Input from user"
   ]
  },
  {
   "cell_type": "code",
   "execution_count": 60,
   "id": "23a6b77b",
   "metadata": {},
   "outputs": [
    {
     "name": "stdout",
     "output_type": "stream",
     "text": [
      "Enter a text =khalid\n"
     ]
    }
   ],
   "source": [
    "data = input('Enter a text =')"
   ]
  },
  {
   "cell_type": "code",
   "execution_count": 61,
   "id": "41069b91",
   "metadata": {},
   "outputs": [
    {
     "data": {
      "text/plain": [
       "'khalid'"
      ]
     },
     "execution_count": 61,
     "metadata": {},
     "output_type": "execute_result"
    }
   ],
   "source": [
    "data"
   ]
  },
  {
   "cell_type": "markdown",
   "id": "d439365b",
   "metadata": {},
   "source": [
    "## Guess the Number!"
   ]
  },
  {
   "cell_type": "code",
   "execution_count": 80,
   "id": "ca1f17b3",
   "metadata": {},
   "outputs": [
    {
     "name": "stdout",
     "output_type": "stream",
     "text": [
      "Target =  4\n",
      "Guess a number between 1 and 9 until you get it right\n",
      "Guess: 1\n",
      "Guess: 2\n",
      "Guess: 3\n",
      "Guess: 4\n",
      "\n",
      "Well guessed!\n"
     ]
    }
   ],
   "source": [
    "# guess the number until you get it right\n",
    "import random\n",
    "target_num = random.randint(1, 9)\n",
    "guess_num =  0\n",
    "print('Target = ',target_num)\n",
    "print('Guess a number between 1 and 9 until you get it right')\n",
    "while target_num != guess_num:\n",
    "    guess_num = int(input('Guess: '))\n",
    "print('\\nWell guessed!')"
   ]
  },
  {
   "cell_type": "code",
   "execution_count": 84,
   "id": "b36779b7",
   "metadata": {},
   "outputs": [
    {
     "name": "stdout",
     "output_type": "stream",
     "text": [
      "Target Number is =  5\n",
      "Guess a number between 1 to 9\n",
      "\n",
      "\n",
      "Your guess-3\n",
      "\n",
      "Too small! Try again!\n",
      "Your guess-4\n",
      "\n",
      "Too small! Try again!\n",
      "Your guess-5\n",
      "Congratulation!!! You won the game!\n"
     ]
    }
   ],
   "source": [
    "# Guess the number in fixed number of try\n",
    "import random\n",
    "    \n",
    "target_num=random.randint(1,9)\n",
    "print ('Target Number is = ',target_num)\n",
    "print ('Guess a number between 1 to 9\\n\\n')\n",
    "count = 1\n",
    "while count<=3:\n",
    "    guess_num = int(input('Your guess-'))\n",
    "    if guess_num == target_num: print('Congratulation!!! You won the game!'); break\n",
    "    elif guess_num<target_num: print('\\nToo small! Try again!')\n",
    "    elif guess_num>target_num: print('\\nToo large! Try again!')\n",
    "    count+=1\n",
    "if count>3: print('\\nSorry, You lost! Better luck next time!')"
   ]
  },
  {
   "cell_type": "code",
   "execution_count": 83,
   "id": "c35370b3",
   "metadata": {},
   "outputs": [
    {
     "name": "stdout",
     "output_type": "stream",
     "text": [
      "Target Number is 15\n",
      "Guess a number between 1 and 20 \n",
      "\n",
      "You can try 4  times:\n",
      "Your guess is :13\n",
      "Too small!\n",
      "\n",
      "You can try 3  times:\n",
      "Your guess is :14\n",
      "Too small!\n",
      "\n",
      "You can try 2  times:\n",
      "Your guess is :15\n",
      "Congratulation!!! You won the game!\n"
     ]
    }
   ],
   "source": [
    "# Write a function that allows you to guess the integer within the given range by fixed number of try\n",
    "def guess_the_number(a,b):\n",
    "    import random\n",
    "    import math\n",
    "    target_num=random.randint(a,b)\n",
    "    print ('Target Number is', target_num)\n",
    "    print ('Guess a number between', a, 'and',b,'\\n')\n",
    "    count = 1\n",
    "    try_limit = int(math.log(b-a+1,2))\n",
    "    print('You can try',try_limit-count+1,' times:')\n",
    "    while count<=try_limit:\n",
    "        guess_num = int(input('Your guess is :'))\n",
    "        if guess_num == target_num: print('Congratulation!!! You won the game!'); break\n",
    "        elif guess_num<target_num: print('Too small!\\n')\n",
    "        elif guess_num>target_num: print('Too large!\\n')\n",
    "        count+=1\n",
    "        print('You can try',try_limit-count+1,' times:')\n",
    "        \n",
    "    if count>try_limit: print('Sorry, You lost! Better luck next time!') \n",
    "\n",
    "guess_the_number(1,20)"
   ]
  }
 ],
 "metadata": {
  "kernelspec": {
   "display_name": "Python 3 (ipykernel)",
   "language": "python",
   "name": "python3"
  },
  "language_info": {
   "codemirror_mode": {
    "name": "ipython",
    "version": 3
   },
   "file_extension": ".py",
   "mimetype": "text/x-python",
   "name": "python",
   "nbconvert_exporter": "python",
   "pygments_lexer": "ipython3",
   "version": "3.11.4"
  }
 },
 "nbformat": 4,
 "nbformat_minor": 5
}
