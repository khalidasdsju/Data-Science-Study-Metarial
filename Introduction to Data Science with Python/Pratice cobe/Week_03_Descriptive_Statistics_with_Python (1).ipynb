{
 "cells": [
  {
   "cell_type": "markdown",
   "id": "a6c64e88",
   "metadata": {},
   "source": [
    "# Week_03: Descriptive Statistics\n",
    "Course: WMASDS-04_Introduction to Data Science with Python\n",
    "<br>Instructor: Farhana Afrin Duti, Department of Statistics, JU\n",
    "### Topics:\n",
    "- Descriptive Statistics\n",
    "- Exploratory Data Analysis\n",
    "- Data Preparation"
   ]
  },
  {
   "cell_type": "markdown",
   "id": "9602761e",
   "metadata": {},
   "source": [
    "## Used-car-price data is being used as an example\n",
    "-\tIn this dataset, we are trying to analyze the used car’s price and how EDA focuses on identifying the factors influencing the car price.\n",
    "- Data source: https://www.kaggle.com/datasets/sukhmanibedi/cars4u"
   ]
  },
  {
   "cell_type": "markdown",
   "id": "5d9e7144",
   "metadata": {},
   "source": [
    "<a id=\"contents\"></a>\n",
    "### Contents\n",
    "- [Understanding the Data](#understanding-the-data)\n",
    "    - [Data Description](#dataset_description)\n",
    "    - [Import Libraries](#import-libraries)\n",
    "    - [Loading Dataset](#Reading_Dataset)\n",
    "    - [Dimension of the Data](#dimension-of-the-data)\n",
    "    - [Features](#Features)\n",
    "    - [Data Structure](#data-structure)\n",
    "    - [Summary of the Data](#summary)\n",
    "- [Looking at the data](#looking-at-the-data)\n",
    "    - [Head, Tail, and Ramdom Sample](#head-tail-and-random-sample)\n",
    "    - [Subset of data, Slicing](#slicing)\n",
    "    - [Unique Values](#unique-values)\n",
    "    - [Groupping data](#grouping-data)\n",
    "    - [Categorical Variables](#categorical-variables)\n",
    "- [Dealing with Missing Values](#dealing-with-missing-values)\n",
    "    - [Check Missing Values](#check-missing-values)\n",
    "    - [Dropping Row/Column](#dropping-row-column)\n",
    "    - [Imputation- Mean, Median, Mode](#imputation)\n",
    "- [Feature Engineering](#feature-engineering)\n",
    "    - [Feature Extraction](#feature-extraction)\n",
    "    - [Feature Creation](#feature-creation) \n",
    "- [Data Cleaning](#data-cleaning)\n",
    "    - [Renaming variables/values](#rename-variables) \n",
    "    - [Changing data types](#changing-datatypes)\n",
    "    - [Dropping Redundant Information](#dropping-redundant-information)\n",
    "- [Feature Scaling](#feature-scaling)\n",
    "    - [Standardization](#standardization)\n",
    "    - [Normalization](#normalization)\n",
    "- [Visualizing Data](#visualization)\n",
    "    - [Histogram](#histogram)\n",
    "    - [Barplot](#barplot)\n",
    "- [Dealing with Outliers](#dealing-with-outliers)\n",
    "    - [Boxplot](#boxplot)\n",
    "    - [Treatment of Outliers](#treatment-of-outliers)"
   ]
  },
  {
   "cell_type": "markdown",
   "id": "5afd1790",
   "metadata": {},
   "source": [
    "***"
   ]
  },
  {
   "cell_type": "markdown",
   "id": "af19043b",
   "metadata": {},
   "source": [
    "<a id='understanding-the-data'></a>\n",
    "## Undrestanding the Data"
   ]
  },
  {
   "cell_type": "markdown",
   "id": "bd250d8b",
   "metadata": {},
   "source": [
    "<a id='dataset_description'></a>\n",
    "### Dataset Description\n",
    "\n",
    "    \n",
    "1. S.No. : Serial Number<br>\n",
    "    \n",
    "2. Name : Name of the car which includes Brand name and Model name<br>\n",
    "    \n",
    "3. Location : The location in which the car is being sold or is available for purchase Cities<br>\n",
    "    \n",
    "4. Year : Manufacturing year of the car<br>\n",
    "    \n",
    "5. Kilometers_driven : The total kilometers driven in the car by the previous owner(s) in KM.<br>\n",
    "    \n",
    "6. Fuel_Type : The type of fuel used by the car. (Petrol, Diesel, Electric, CNG, LPG)<br>\n",
    "    \n",
    "7. Transmission : The type of transmission used by the car. (Automatic / Manual)<br>\n",
    "    \n",
    "8. Owner : Type of ownership<br>\n",
    "    \n",
    "9. Mileage : The standard mileage offered by the car company in kmpl or km/kg<br>\n",
    "    \n",
    "10. Engine : The displacement volume of the engine in CC.<br>\n",
    "    \n",
    "11. Power : The maximum power of the engine in bhp [Break Horse Power].<br>\n",
    "    \n",
    "12. Seats : The number of seats in the car.<br>\n",
    "    \n",
    "13. New_Price : The price of a new car of the same model in INR Lakhs.(1 Lakh = 100, 000)<br>\n",
    "    \n",
    "14. Price : The price of the used car in INR Lakhs (1 Lakh = 100, 000)<br>"
   ]
  },
  {
   "cell_type": "markdown",
   "id": "21ee9ef0",
   "metadata": {},
   "source": [
    "## Questions regarding dataset\n",
    "<p style = \"font-size : 15px ; color: black;font-family:TimesNewRoman\">\n",
    "\n",
    "- Does various predicating factors effect the price of the used car .?<br>\n",
    "- What all  independent variables effect the pricing of used cars?<br>\n",
    "- Does name of a car have any effect on  pricing of car.?<br>\n",
    "- How does type of Transmission  effect  pricing?<br>\n",
    "- Does Location in which the car being sold has any effect on the price?<br>\n",
    "- Does kilometers_Driven,Year of manufacturing  have negative correlation with  price of the car?<br>\n",
    "- Does Mileage ,Engine and Power have any effect on the pricing of the car?<br>\n",
    "- How does number of seat ,Fuel type effect the pricing.?<br>\n",
    "</p>"
   ]
  },
  {
   "cell_type": "markdown",
   "id": "3717650a",
   "metadata": {},
   "source": [
    "***"
   ]
  },
  {
   "cell_type": "markdown",
   "id": "40527b87",
   "metadata": {},
   "source": [
    "<a id=\"import-libraries\"></a>\n",
    "## Import Python Libraries\n",
    "-\tPandas and Numpy- for Data Manipulation and numerical Calculations\n",
    "-\tMatplotlib and Seaborn- for Data visualizations. \n"
   ]
  },
  {
   "cell_type": "code",
   "execution_count": null,
   "id": "1eabb4fa",
   "metadata": {},
   "outputs": [],
   "source": [
    "import pandas as pd\n",
    "import numpy as np\n",
    "import matplotlib.pyplot as plt\n",
    "import seaborn as sns"
   ]
  },
  {
   "cell_type": "code",
   "execution_count": null,
   "id": "3ecfa001",
   "metadata": {},
   "outputs": [],
   "source": [
    "# #to ignore warnings\n",
    "# import warnings\n",
    "# warnings.filterwarnings('ignore')"
   ]
  },
  {
   "cell_type": "markdown",
   "id": "ea232fcf",
   "metadata": {},
   "source": [
    "***"
   ]
  },
  {
   "cell_type": "markdown",
   "id": "a2dc966e",
   "metadata": {},
   "source": [
    "<a id=\"Reading_Dataset\"></a>\n",
    "### Reading Dataset\n",
    "-\tThe Pandas library offers a wide range of possibilities for loading data into the pandas DataFrame from files like JSON, .csv, .xlsx, .sql, .pickle, .html, .txt, images etc. \n",
    "- to read csv files as dataframe:\thttps://pandas.pydata.org/docs/reference/api/pandas.read_csv.html"
   ]
  },
  {
   "cell_type": "code",
   "execution_count": null,
   "id": "ed5d3c36",
   "metadata": {},
   "outputs": [],
   "source": [
    "data = pd.read_csv(\"used_cars_data.csv\")"
   ]
  },
  {
   "cell_type": "markdown",
   "id": "db392bbb",
   "metadata": {},
   "source": [
    "***"
   ]
  },
  {
   "cell_type": "markdown",
   "id": "f29525a1",
   "metadata": {},
   "source": [
    "<a id=\"dimension-of-the-data\"></a>\n",
    "### Dimension of the data\n",
    "[back to contents](#contents)"
   ]
  },
  {
   "cell_type": "code",
   "execution_count": null,
   "id": "f9a60b6f",
   "metadata": {},
   "outputs": [],
   "source": [
    "data.ndim"
   ]
  },
  {
   "cell_type": "code",
   "execution_count": null,
   "id": "76fccc6e",
   "metadata": {},
   "outputs": [],
   "source": [
    "data.shape"
   ]
  },
  {
   "cell_type": "code",
   "execution_count": null,
   "id": "12247acb",
   "metadata": {},
   "outputs": [],
   "source": [
    "print('Number of rows or obseration in the dataset is:',data.shape[0])\n",
    "print('Number of columns or features or variables in the dataset is:',data.shape[1])"
   ]
  },
  {
   "cell_type": "markdown",
   "id": "75b87cf3",
   "metadata": {},
   "source": [
    "***"
   ]
  },
  {
   "cell_type": "markdown",
   "id": "5d7e67d4",
   "metadata": {},
   "source": [
    "<a id=\"features\"></a>\n",
    "### Features in the dataset"
   ]
  },
  {
   "cell_type": "code",
   "execution_count": null,
   "id": "121b8e12",
   "metadata": {},
   "outputs": [],
   "source": [
    "data.columns"
   ]
  },
  {
   "cell_type": "code",
   "execution_count": null,
   "id": "07981038",
   "metadata": {},
   "outputs": [],
   "source": [
    "data.dtypes"
   ]
  },
  {
   "cell_type": "markdown",
   "id": "221cc3b8",
   "metadata": {},
   "source": [
    "***"
   ]
  },
  {
   "cell_type": "markdown",
   "id": "12713f7c",
   "metadata": {},
   "source": [
    "<a id=\"data-structure\"></a>\n",
    "### Data Structures"
   ]
  },
  {
   "cell_type": "code",
   "execution_count": null,
   "id": "de83c45b",
   "metadata": {},
   "outputs": [],
   "source": [
    "data.info()"
   ]
  },
  {
   "cell_type": "markdown",
   "id": "75090428",
   "metadata": {},
   "source": [
    "<div class=\"alert alert-block alert-info\">\n",
    "<b> Note:</b> info() helps to understand the data type and information about data, including the number of records in each column, data having null or not null, Data type, the memory usage of the dataset \n",
    "    </div>\n",
    "\n",
    "* There are 7253 observations and 14 variables in our dataset \n",
    "\n",
    "* data.info() shows the variables Mileage, Engine, Power, Seats, New_Price, and Price have missing values. \n",
    "\n",
    "* Numeric variables like Mileage, Power are of datatype as  float64 and int64. \n",
    "\n",
    "* Categorical variables like Location, Fuel_Type, Transmission, and Owner Type are of object data type\n",
    "\n",
    "\n"
   ]
  },
  {
   "cell_type": "markdown",
   "id": "9bbb2181",
   "metadata": {},
   "source": [
    "***"
   ]
  },
  {
   "cell_type": "markdown",
   "id": "7d14a00e",
   "metadata": {},
   "source": [
    "<a id=\"summary\"></a>\n",
    "### Summaray of the Data"
   ]
  },
  {
   "cell_type": "code",
   "execution_count": null,
   "id": "f6f72e36",
   "metadata": {},
   "outputs": [],
   "source": [
    "data.describe()"
   ]
  },
  {
   "cell_type": "markdown",
   "id": "25e2e88c",
   "metadata": {},
   "source": [
    "#### From the statistics summary, we can infer the below findings :\n",
    "-\tYears range from 1996- 2019 and has a high in a range which shows used cars contain both latest models and old model cars.\n",
    "-\tOn average of Kilometers-driven in Used cars are ~58k KM. The range shows a huge difference between min and max as max values show 650000 KM shows the evidence of an outlier. This record can be removed.\n",
    "-\tMin value of Mileage shows 0 cars won’t be sold with 0 mileage. This sounds like a data entry issue.\n",
    "-\tIt looks like Engine and Power have outliers, and the data is right-skewed.\n",
    "-\tThe average number of seats in a car is 5. car seat is an important feature in price contribution.\n",
    "-\tThe max price of a used car is 160k which is quite weird, such a high price for used cars. There may be an outlier or data entry issue.\n"
   ]
  },
  {
   "cell_type": "code",
   "execution_count": null,
   "id": "37730ab6",
   "metadata": {},
   "outputs": [],
   "source": []
  },
  {
   "cell_type": "markdown",
   "id": "dbbf745d",
   "metadata": {},
   "source": [
    "<a id=\"looking-at-the-data\"></a>\n",
    "### Looking at the data"
   ]
  },
  {
   "cell_type": "code",
   "execution_count": null,
   "id": "b4e85f40",
   "metadata": {},
   "outputs": [],
   "source": [
    "#head() will display the top 5 observations of the dataset \n",
    "display(data.head())\n",
    "\n",
    "#tail() will display the last 5 observations of the dataset\n",
    "display(data.tail())"
   ]
  },
  {
   "cell_type": "code",
   "execution_count": null,
   "id": "352fe95f",
   "metadata": {},
   "outputs": [],
   "source": [
    "data.sample(10)"
   ]
  },
  {
   "cell_type": "code",
   "execution_count": null,
   "id": "c9bb9030",
   "metadata": {},
   "outputs": [],
   "source": []
  },
  {
   "cell_type": "markdown",
   "id": "3d1e65c1",
   "metadata": {},
   "source": [
    "<a id=\"unique-values\"></a>\n",
    "### Unique Values"
   ]
  },
  {
   "cell_type": "code",
   "execution_count": null,
   "id": "352fd390",
   "metadata": {},
   "outputs": [],
   "source": [
    "data.nunique()"
   ]
  },
  {
   "cell_type": "code",
   "execution_count": null,
   "id": "61f10bce",
   "metadata": {},
   "outputs": [],
   "source": [
    "data['Fuel_Type'].unique"
   ]
  },
  {
   "cell_type": "code",
   "execution_count": null,
   "id": "31897fd2",
   "metadata": {},
   "outputs": [],
   "source": []
  },
  {
   "cell_type": "markdown",
   "id": "76059003",
   "metadata": {},
   "source": [
    "<a id=\"slicing\"></a>\n",
    "### Subset or slicing"
   ]
  },
  {
   "cell_type": "code",
   "execution_count": null,
   "id": "6c39c138",
   "metadata": {},
   "outputs": [],
   "source": [
    "data[data['Fuel_Type']=='Diesel'].head()"
   ]
  },
  {
   "cell_type": "markdown",
   "id": "b1a37dba",
   "metadata": {},
   "source": [
    "***"
   ]
  },
  {
   "cell_type": "markdown",
   "id": "8a64c7fa",
   "metadata": {},
   "source": [
    "<a id=\"grouping-data\"></a>\n",
    "### Grouping Data\n",
    "- Groupby: https://pandas.pydata.org/docs/reference/api/pandas.DataFrame.groupby.html\n",
    "- Pivot table: https://pandas.pydata.org/docs/reference/api/pandas.pivot_table.html"
   ]
  },
  {
   "cell_type": "code",
   "execution_count": null,
   "id": "132ee8d8",
   "metadata": {},
   "outputs": [],
   "source": [
    "data.groupby([ 'Transmission', 'Fuel_Type',])['Price'].describe()"
   ]
  },
  {
   "cell_type": "code",
   "execution_count": null,
   "id": "6fd02c8a",
   "metadata": {},
   "outputs": [],
   "source": [
    "data.groupby('Fuel_Type')['Price'].describe()"
   ]
  },
  {
   "cell_type": "code",
   "execution_count": null,
   "id": "899a862c",
   "metadata": {},
   "outputs": [],
   "source": [
    "data.pivot_table??"
   ]
  },
  {
   "cell_type": "code",
   "execution_count": null,
   "id": "0d01b379",
   "metadata": {},
   "outputs": [],
   "source": [
    "data.pivot_table(values='Price',\n",
    "    index='Fuel_Type',\n",
    "    columns='Transmission',\n",
    "    aggfunc= ['count', 'mean'],\n",
    "    fill_value=None,\n",
    "    sort=True)"
   ]
  },
  {
   "cell_type": "markdown",
   "id": "31c8b806",
   "metadata": {},
   "source": [
    "<a id=\"categorical-variables\"></a>\n",
    "### Categorical Variables\n",
    "[back to contents](#contents)"
   ]
  },
  {
   "cell_type": "code",
   "execution_count": null,
   "id": "184945fb",
   "metadata": {},
   "outputs": [],
   "source": [
    "def cat_var(data):\n",
    "    print('This is about ', data)\n",
    "    print(data.value_counts())\n",
    "    print(\"#\" * 40,'\\n')\n",
    "cat_var(data['Seats'])"
   ]
  },
  {
   "cell_type": "code",
   "execution_count": null,
   "id": "b12c37be",
   "metadata": {},
   "outputs": [],
   "source": [
    "# Making a list of all categorical variables\n",
    "cat_col = [\n",
    "    \"Fuel_Type\",\n",
    "    \"Location\",\n",
    "    \"Transmission\",\n",
    "    \"Seats\",\n",
    "    \"Year\",\n",
    "    \"Owner_Type\",\n",
    "    \n",
    "]\n",
    "# Printing number of count of each unique value in each column\n",
    "for column in cat_col:\n",
    "    print('This is about ', column)\n",
    "    print(data[column].value_counts())\n",
    "    print(\"#\" * 40,'\\n')\n"
   ]
  },
  {
   "cell_type": "markdown",
   "id": "38388bba",
   "metadata": {},
   "source": [
    "<div class=\"alert alert-block alert-info\">\n",
    "<b> Notes:</b> \n",
    "    </div>\n",
    "\n",
    " - Maximum car being sold have fuel type as Diesel.\n",
    " - Mumbai has highest numbers of car availabe for purchase.\n",
    " - 5204 cars with Manual transmission are available for purchase.\n",
    " - Most of the cars are 5 seaters and First owned.\n",
    " - Years of car ranges form 1996- 2015"
   ]
  },
  {
   "cell_type": "markdown",
   "id": "e742f672",
   "metadata": {},
   "source": [
    "***"
   ]
  },
  {
   "cell_type": "markdown",
   "id": "1317f3e1",
   "metadata": {},
   "source": [
    "<a id=\"dealing-with-missing-values\"></a>\n",
    "### Dealing with Missing Values\n",
    "[back to contents](#contents)"
   ]
  },
  {
   "cell_type": "markdown",
   "id": "f6dc3f96",
   "metadata": {},
   "source": [
    "<a id=\"check-missing-values\"></a>\n",
    "#### Checking for Missing Values"
   ]
  },
  {
   "cell_type": "code",
   "execution_count": null,
   "id": "83b71d9b",
   "metadata": {},
   "outputs": [],
   "source": [
    "data.isnull().sum()"
   ]
  },
  {
   "cell_type": "code",
   "execution_count": null,
   "id": "76b3e000",
   "metadata": {},
   "outputs": [],
   "source": [
    "#The below code helps to calculate the percentage of missing values in each column\n",
    "(data.isnull().sum()/(len(data)))*100"
   ]
  },
  {
   "cell_type": "markdown",
   "id": "d245e0c9",
   "metadata": {},
   "source": [
    "<div class=\"alert alert-block alert-info\">\n",
    "<b> Comments</b>  \n",
    "    </div>\n",
    "\n",
    "-  **`New_Price`** has only 1006 values. Around 86 % values are missing\n",
    "\n",
    "-  **`Price`**, which is a Target variable 17 % missing values.This needs to be analysed further.\n",
    "\n",
    "-  **`Seats`** has only 53 values missing and number of seats can be one of key factor in deciding price.\n",
    "-  **`Power`** and **`Engine`** has 46 missing values.\n",
    "\n",
    "-  **`Mileage`** only has two values missing.\n",
    "\n",
    "-  **`Mileage`,`Power`,`Engine`,`New_Price`** we know are quantitative variables but are of object dtype here and needs to to converted to numeric."
   ]
  },
  {
   "cell_type": "markdown",
   "id": "288fb353",
   "metadata": {},
   "source": [
    "***\n"
   ]
  },
  {
   "cell_type": "markdown",
   "id": "9463be47",
   "metadata": {},
   "source": [
    "<a id=\"dropping-row-column\"></a>\n",
    "### Dropping Row or Column\n",
    "- dropna: https://pandas.pydata.org/docs/reference/api/pandas.DataFrame.dropna.html\n",
    "[back to contents](#contents)"
   ]
  },
  {
   "cell_type": "code",
   "execution_count": null,
   "id": "59a713cc",
   "metadata": {},
   "outputs": [],
   "source": [
    "## delete the column \"New_Price\"\n",
    "# data.drop('New_Price',axis = 1, inplace = True)\n",
    "# data.head()"
   ]
  },
  {
   "cell_type": "code",
   "execution_count": null,
   "id": "0dd74525",
   "metadata": {},
   "outputs": [],
   "source": [
    "# data.dropna()"
   ]
  },
  {
   "cell_type": "code",
   "execution_count": null,
   "id": "9ab90099",
   "metadata": {},
   "outputs": [],
   "source": []
  },
  {
   "cell_type": "code",
   "execution_count": null,
   "id": "d7b3e100",
   "metadata": {},
   "outputs": [],
   "source": []
  },
  {
   "cell_type": "markdown",
   "id": "7942ad10",
   "metadata": {},
   "source": [
    "<a id=\"imputation\"></a>\n",
    "### Imputation\n",
    "- mean\n",
    "- median\n",
    "- mode\n",
    "- forward\n",
    "- backward\n",
    "- Constant or zero values and \n",
    "- use advanced imputation algorithms like KNN, Regularization, etc\n",
    "\n",
    "<div class = \"alert alert-block alert-success\"><b>If we have domain knowledge, data can be imputed on assumptions.</b></div>\n",
    "\n",
    "<br>[back to contents](#contents)"
   ]
  },
  {
   "cell_type": "code",
   "execution_count": null,
   "id": "7fed5865",
   "metadata": {},
   "outputs": [],
   "source": [
    "data['Mileage'][5]"
   ]
  },
  {
   "cell_type": "code",
   "execution_count": null,
   "id": "80371403",
   "metadata": {},
   "outputs": [],
   "source": [
    "data.info()"
   ]
  },
  {
   "cell_type": "code",
   "execution_count": null,
   "id": "6636cf52",
   "metadata": {},
   "outputs": [],
   "source": [
    "data.loc[data[\"Mileage\"]==0.0,'Mileage']=np.nan\n",
    "data.Mileage.isnull().sum()\n",
    "# data['Mileage'].fillna(value=np.mean(data['Mileage']),inplace=True)"
   ]
  },
  {
   "cell_type": "markdown",
   "id": "32547d91",
   "metadata": {},
   "source": [
    "-\tSimilarly, imputation for Seats. As we mentioned earlier, we need to know common insights about the data.\n",
    "\n",
    "**Let’s assume some cars brand and Models have features like Engine, Mileage, Power, and Number of seats that are nearly the same. Let’s impute those missing values with the existing data:**\n",
    "\n"
   ]
  },
  {
   "cell_type": "code",
   "execution_count": null,
   "id": "3609e78a",
   "metadata": {},
   "outputs": [],
   "source": [
    "data.Seats.isnull().sum()\n",
    "data['Seats'].fillna(value=np.nan,inplace=True)\n",
    "data['Seats']=data.groupby(['Model','Brand'])['Seats'].apply(lambda x:x.fillna(x.median()))\n",
    "data['Engine']=data.groupby(['Brand','Model'])['Engine'].apply(lambda x:x.fillna(x.median()))\n",
    "data['Power']=data.groupby(['Brand','Model'])['Power'].apply(lambda x:x.fillna(x.median()))"
   ]
  },
  {
   "cell_type": "markdown",
   "id": "be4cd8e3",
   "metadata": {},
   "source": [
    "-\tIn general, there are no defined or perfect rules for imputing missing values in a dataset. Each method can perform better for some datasets but may perform even worse. Only practice and experiments give the knowledge which works better.\n"
   ]
  },
  {
   "cell_type": "code",
   "execution_count": null,
   "id": "ab4b65ba",
   "metadata": {},
   "outputs": [],
   "source": []
  },
  {
   "cell_type": "code",
   "execution_count": null,
   "id": "31e25320",
   "metadata": {},
   "outputs": [],
   "source": []
  },
  {
   "cell_type": "code",
   "execution_count": null,
   "id": "a60352f4",
   "metadata": {},
   "outputs": [],
   "source": []
  },
  {
   "cell_type": "markdown",
   "id": "9c25acc4",
   "metadata": {},
   "source": [
    "***\n",
    "\n",
    "<div class=\"alert alert-block alert-success\">\n",
    "    </div>\n",
    "\n",
    "***"
   ]
  },
  {
   "cell_type": "markdown",
   "id": "cb17a7a6",
   "metadata": {},
   "source": [
    "<a id = \"feature-engineering\" ></a>\n",
    "### Feature Engineering\n",
    "- Feature Extraction\n",
    "- Creating New Feature\n",
    "<br> [back to contents](#contents)"
   ]
  },
  {
   "cell_type": "markdown",
   "id": "1b0542fd",
   "metadata": {},
   "source": [
    "<a id = \"feature-extraction\"></a>\n",
    "### Feature Extraction\n",
    "[back to contents](#contents)"
   ]
  },
  {
   "cell_type": "markdown",
   "id": "046e6f6f",
   "metadata": {},
   "source": [
    "- Processing **Engine**,**Power**, and **Mileage** columns"
   ]
  },
  {
   "cell_type": "code",
   "execution_count": null,
   "id": "a8a3b2aa",
   "metadata": {},
   "outputs": [],
   "source": [
    "np.random.seed(9)\n",
    "data[['Engine','Power','Mileage']].sample(10)"
   ]
  },
  {
   "cell_type": "code",
   "execution_count": null,
   "id": "b5676355",
   "metadata": {},
   "outputs": [],
   "source": [
    "typeoffuel=['CNG','LPG']\n",
    "data.loc[data.Fuel_Type.isin(typeoffuel)].head(10)"
   ]
  },
  {
   "cell_type": "markdown",
   "id": "81ef1256",
   "metadata": {},
   "source": [
    "<div class = \"alert alert-block alert-info\"><b> Comments</b>  </div>\n",
    "\n",
    " \n",
    "- Power has some values as \"null, bhp\" .\n",
    "- Mileage also has some observations as 0. For fuel type and CNG and LPG mileage is measured in km/kg where as for other type it is measured in kmpl. \n",
    "- Since  those units are in  km for both of them no need of conversion . "
   ]
  },
  {
   "cell_type": "markdown",
   "id": "8d1b2f38",
   "metadata": {},
   "source": [
    "### Remove units from mileages,Engine and Power\n",
    "***"
   ]
  },
  {
   "cell_type": "markdown",
   "id": "243cc43a",
   "metadata": {},
   "source": [
    "#### Mileage"
   ]
  },
  {
   "cell_type": "code",
   "execution_count": null,
   "id": "cef000fb",
   "metadata": {},
   "outputs": [],
   "source": [
    "data[data.Mileage.isnull()==True]"
   ]
  },
  {
   "cell_type": "code",
   "execution_count": null,
   "id": "860ef5b3",
   "metadata": {},
   "outputs": [],
   "source": [
    "data[\"Mileage\"] = data[\"Mileage\"].str.rstrip(\" kmpl\")\n",
    "data[\"Mileage\"] = data[\"Mileage\"].str.rstrip(\" km/g\")"
   ]
  },
  {
   "cell_type": "markdown",
   "id": "4b62e01d",
   "metadata": {},
   "source": [
    "#### Engine"
   ]
  },
  {
   "cell_type": "code",
   "execution_count": null,
   "id": "3cf02068",
   "metadata": {},
   "outputs": [],
   "source": [
    "#remove units\n",
    "data[\"Engine\"] = data[\"Engine\"].str.rstrip(\" CC\")\n"
   ]
  },
  {
   "cell_type": "markdown",
   "id": "7b8912db",
   "metadata": {},
   "source": [
    "#### Power"
   ]
  },
  {
   "cell_type": "code",
   "execution_count": null,
   "id": "1adf4774",
   "metadata": {},
   "outputs": [],
   "source": [
    "#remove bhp and replace null with nan\n",
    "data[\"Power\"] = data[\"Power\"].str.rstrip(\" bhp\")\n",
    "data[\"Power\"]= data[\"Power\"].replace(regex=\"null\", value = np.nan)"
   ]
  },
  {
   "cell_type": "code",
   "execution_count": null,
   "id": "e0a933d6",
   "metadata": {},
   "outputs": [],
   "source": [
    "#verify the data\n",
    "num=['Engine','Power','Mileage']\n",
    "data[num].sample(20)"
   ]
  },
  {
   "cell_type": "code",
   "execution_count": null,
   "id": "93991c48",
   "metadata": {},
   "outputs": [],
   "source": [
    "data.info()\n",
    "data.isnull().sum()"
   ]
  },
  {
   "cell_type": "markdown",
   "id": "6b674101",
   "metadata": {},
   "source": [
    "<div class = \"alert alert-block alert-info\"><b>Note:</b> Some values in Power and Mileage as 0.0.</div>"
   ]
  },
  {
   "cell_type": "code",
   "execution_count": null,
   "id": "b1948f82",
   "metadata": {},
   "outputs": [],
   "source": [
    "data.query(\"Power == '0.0'\")['Power'].count()"
   ]
  },
  {
   "cell_type": "code",
   "execution_count": null,
   "id": "c4d9be33",
   "metadata": {},
   "outputs": [],
   "source": [
    "data.query(\"Mileage == '0.0'\")['Mileage'].count()"
   ]
  },
  {
   "cell_type": "code",
   "execution_count": null,
   "id": "08ea0123",
   "metadata": {},
   "outputs": [],
   "source": [
    "data.query(\"Mileage == '0.0'\")['Mileage']"
   ]
  },
  {
   "cell_type": "markdown",
   "id": "f4a927dd",
   "metadata": {},
   "source": [
    "### Converting null(0.0) observations to *NaN* \n",
    "*** "
   ]
  },
  {
   "cell_type": "code",
   "execution_count": null,
   "id": "13767829",
   "metadata": {},
   "outputs": [],
   "source": [
    "data.loc[data[\"Mileage\"]=='0.0','Mileage']=np.nan"
   ]
  },
  {
   "cell_type": "code",
   "execution_count": null,
   "id": "93c2f849",
   "metadata": {},
   "outputs": [],
   "source": [
    "data.loc[data[\"Engine\"]=='0.0','Engine'].count()"
   ]
  },
  {
   "cell_type": "code",
   "execution_count": null,
   "id": "fe8120bf",
   "metadata": {},
   "outputs": [],
   "source": [
    "data[num].nunique()"
   ]
  },
  {
   "cell_type": "code",
   "execution_count": null,
   "id": "0e7334ee",
   "metadata": {},
   "outputs": [],
   "source": [
    "data[num].isnull().sum()"
   ]
  },
  {
   "cell_type": "markdown",
   "id": "ace8c30f",
   "metadata": {},
   "source": [
    "<div class = \"alert alert-block alert-info\">\n",
    "    <b>Comments:</b>\n",
    "    There are 46 missing values in Engine, 175 in Power,83 in Mileage.\n",
    "    </div>\n"
   ]
  },
  {
   "cell_type": "markdown",
   "id": "d3fc2944",
   "metadata": {},
   "source": [
    "<a id=\"section_ID\"></a>\n",
    "### Processing Seats"
   ]
  },
  {
   "cell_type": "code",
   "execution_count": null,
   "id": "bb873030",
   "metadata": {},
   "outputs": [],
   "source": [
    "data.query(\"Seats == 0.0\")['Seats'].count()"
   ]
  },
  {
   "cell_type": "code",
   "execution_count": null,
   "id": "f31df26d",
   "metadata": {},
   "outputs": [],
   "source": [
    "data.query(\"Seats == 0.0\")['Seats']"
   ]
  },
  {
   "cell_type": "code",
   "execution_count": null,
   "id": "0dfcdbe8",
   "metadata": {},
   "outputs": [],
   "source": [
    "#seats cannot be 0 so changing it to nan and will be handled in missing value\n",
    "data.loc[3999,'Seats'] =np.nan\n",
    "# data.loc[data['Seats'] == 0.0] =np.nan"
   ]
  },
  {
   "cell_type": "code",
   "execution_count": null,
   "id": "39f925ba",
   "metadata": {},
   "outputs": [],
   "source": [
    "data.head()"
   ]
  },
  {
   "cell_type": "markdown",
   "id": "c2c85862",
   "metadata": {},
   "source": [
    "### Processing New Price\n",
    "- We know that New_Price is the price of a new car of the same model in INR Lakhs.(1 Lakh = 100, 000)\n",
    "- This column clearly has a lot of missing values. We will impute the missing values later. For now we will only extract the numeric values from this column."
   ]
  },
  {
   "cell_type": "code",
   "execution_count": null,
   "id": "98da430d",
   "metadata": {
    "scrolled": false
   },
   "outputs": [],
   "source": [
    "data['unit'] = data['New_Price'].str.split().str.get(1)\n",
    "data['New_Price'] = data['New_Price'].str.split().str.get(0)\n",
    "\n",
    "data.head()"
   ]
  },
  {
   "cell_type": "code",
   "execution_count": null,
   "id": "eeba3a0c",
   "metadata": {},
   "outputs": [],
   "source": [
    "data[data['unit']=='Lakh'].shape"
   ]
  },
  {
   "cell_type": "code",
   "execution_count": null,
   "id": "741ab3c2",
   "metadata": {},
   "outputs": [],
   "source": [
    "data[data['unit']=='Cr'].shape"
   ]
  },
  {
   "cell_type": "code",
   "execution_count": null,
   "id": "92a57a33",
   "metadata": {},
   "outputs": [],
   "source": [
    "data[data['unit']=='NaN'].shape"
   ]
  },
  {
   "cell_type": "code",
   "execution_count": null,
   "id": "aa1a65b3",
   "metadata": {},
   "outputs": [],
   "source": [
    "data[data['unit']=='Cr']['New_Price'].head(10)\n",
    "# data[data['unit']=='Lakh']['New_Price'].head(10)"
   ]
  },
  {
   "cell_type": "code",
   "execution_count": null,
   "id": "3e382f70",
   "metadata": {},
   "outputs": [],
   "source": [
    "data[data['unit']=='Cr'].index"
   ]
  },
  {
   "cell_type": "code",
   "execution_count": null,
   "id": "5d763028",
   "metadata": {},
   "outputs": [],
   "source": [
    "for i in data[data['unit']=='Cr'].index:\n",
    "    data['New_Price'][i] =  np.round(100*float(data['New_Price'][i]),2)\n",
    "    print(data['New_Price'][i])"
   ]
  },
  {
   "cell_type": "code",
   "execution_count": null,
   "id": "4a5e8a28",
   "metadata": {},
   "outputs": [],
   "source": [
    "# data.sample(100)"
   ]
  },
  {
   "cell_type": "markdown",
   "id": "2e9dd4ad",
   "metadata": {},
   "source": [
    "***"
   ]
  },
  {
   "cell_type": "markdown",
   "id": "55fb3816",
   "metadata": {},
   "source": [
    "<a id=\"section_ID\"></a>\n",
    "### Processing Name column to obtain *Brand* and *Model*\n",
    "Brands do play an important role in Car selection and Prices. Let’s split the name and introduce new variables “Brand” and “Model”"
   ]
  },
  {
   "cell_type": "code",
   "execution_count": null,
   "id": "a4e78aee",
   "metadata": {},
   "outputs": [],
   "source": [
    "#dropping rows with name as null\n",
    "# cars['Name'] = cars.dropna(subset=['Name'])"
   ]
  },
  {
   "cell_type": "code",
   "execution_count": null,
   "id": "c409149d",
   "metadata": {},
   "outputs": [],
   "source": [
    "#As mentioned in dataset car name has Brand and model so extracting it ,This can help to fill missing values of price column as brand \n",
    "data['Brand'] = data['Name'].str.split(' ').str[0] #Separating Brand name from the Name\n",
    "data['Model'] = data['Name'].str.split(' ').str[1] + data['Name'].str.split(' ').str[2]"
   ]
  },
  {
   "cell_type": "code",
   "execution_count": null,
   "id": "54761720",
   "metadata": {},
   "outputs": [],
   "source": [
    "# data['Brand'] = data.Name.str.split().str.get(0)\n",
    "# data['Model'] = data.Name.str.split().str.get(1) + data.Name.str.split().str.get(2)\n",
    "data[['Name','Brand','Model']]"
   ]
  },
  {
   "cell_type": "code",
   "execution_count": null,
   "id": "8a6fcf70",
   "metadata": {},
   "outputs": [],
   "source": []
  },
  {
   "cell_type": "markdown",
   "id": "8c24c5eb",
   "metadata": {},
   "source": [
    "<a id = \"feature-creation\"></a>\n",
    "## Feature Creation\n",
    "[back to contents](#contents)"
   ]
  },
  {
   "cell_type": "markdown",
   "id": "5354266f",
   "metadata": {},
   "source": [
    "### Processing Year to obtain age of car"
   ]
  },
  {
   "cell_type": "markdown",
   "id": "76989e06",
   "metadata": {},
   "source": [
    "-\tthe column “Year” shows the manufacturing year of the car."
   ]
  },
  {
   "cell_type": "code",
   "execution_count": null,
   "id": "133a0647",
   "metadata": {},
   "outputs": [],
   "source": [
    "data['Current_year']=2023\n",
    "data['Ageofcars']=data['Current_year']-data['Year']\n",
    "data.drop('Current_year',axis=1,inplace=True)\n",
    "data.head()"
   ]
  },
  {
   "cell_type": "code",
   "execution_count": null,
   "id": "df962b97",
   "metadata": {},
   "outputs": [],
   "source": []
  },
  {
   "cell_type": "markdown",
   "id": "482a2dda",
   "metadata": {},
   "source": [
    "***\n",
    "***"
   ]
  },
  {
   "cell_type": "markdown",
   "id": "86107948",
   "metadata": {},
   "source": [
    "<a id = \"data-cleaning\"></a>\n",
    "## Further approaches of data cleaning\n",
    "- dropping redundant rows/columns\n",
    "- changing datatypes\n",
    "- Rename variables/values\n",
    "\n",
    "<br>[back to content](#contents)"
   ]
  },
  {
   "cell_type": "markdown",
   "id": "28e2861a",
   "metadata": {},
   "source": [
    "<a id=\"changing-datatypes\"></a>\n",
    "### Converting Datatypes\n",
    "[back to contents](#contents)"
   ]
  },
  {
   "cell_type": "code",
   "execution_count": null,
   "id": "29d8cb4c",
   "metadata": {
    "scrolled": false
   },
   "outputs": [],
   "source": [
    "# #converting object data type to category data type\n",
    "# data[\"Fuel_Type\"] = data[\"Fuel_Type\"].astype(\"category\")\n",
    "# data[\"Transmission\"] = data[\"Transmission\"].astype(\"category\")\n",
    "# data[\"Owner_Type\"] = data[\"Owner_Type\"].astype(\"category\")\n",
    "# #converting Continuous datatype  \n",
    "data[\"Mileage\"] = data[\"Mileage\"].astype(float)\n",
    "data[\"Power\"] = data[\"Power\"].astype(float)\n",
    "data[\"Engine\"]=data[\"Engine\"].astype(float)\n",
    "data.head()"
   ]
  },
  {
   "cell_type": "code",
   "execution_count": null,
   "id": "f7c664da",
   "metadata": {},
   "outputs": [],
   "source": [
    "# data.info()"
   ]
  },
  {
   "cell_type": "code",
   "execution_count": null,
   "id": "1128dcc5",
   "metadata": {},
   "outputs": [],
   "source": [
    "data['New_Price'] = data['New_Price'].astype(float)\n"
   ]
  },
  {
   "cell_type": "code",
   "execution_count": null,
   "id": "650a5591",
   "metadata": {},
   "outputs": [],
   "source": [
    "# data.info()"
   ]
  },
  {
   "cell_type": "code",
   "execution_count": null,
   "id": "681bb8c3",
   "metadata": {},
   "outputs": [],
   "source": [
    "data.drop('unit',axis=1,inplace=True)"
   ]
  },
  {
   "cell_type": "code",
   "execution_count": null,
   "id": "f942e351",
   "metadata": {},
   "outputs": [],
   "source": [
    "data.head()"
   ]
  },
  {
   "cell_type": "markdown",
   "id": "047f6ef5",
   "metadata": {},
   "source": [
    "***"
   ]
  },
  {
   "cell_type": "markdown",
   "id": "e1ebe2e8",
   "metadata": {},
   "source": [
    "<a id=\"rename-variables\"></a>\n",
    "### Renaming\n",
    "-\tSome names of the variables are not relevant and not easy to understand. Some data may have data entry errors, and some variables may need data type conversion. \n",
    "-\tThe brand name ‘Isuzu’ ‘ISUZU’ and ‘Mini’ and ‘Land’ looks incorrect. This needs to be corrected\n",
    "\n",
    "<br>[back to contents](#contents)"
   ]
  },
  {
   "cell_type": "code",
   "execution_count": null,
   "id": "91d54876",
   "metadata": {},
   "outputs": [],
   "source": [
    "print(data.Brand.unique())\n",
    "print(data.Brand.nunique())"
   ]
  },
  {
   "cell_type": "code",
   "execution_count": null,
   "id": "b1d29094",
   "metadata": {},
   "outputs": [],
   "source": [
    "searchfor = ['Isuzu' ,'ISUZU','Mini','Land']\n",
    "data[data.Brand.str.contains('|'.join(searchfor))].head(5)"
   ]
  },
  {
   "cell_type": "code",
   "execution_count": null,
   "id": "b62dc944",
   "metadata": {},
   "outputs": [],
   "source": [
    "data[\"Brand\"].replace({\"ISUZU\": \"Isuzu\", \"Mini\": \"Mini Cooper\",\"Land\":\"Land Rover\"}, inplace=True)"
   ]
  },
  {
   "cell_type": "code",
   "execution_count": null,
   "id": "a3191df8",
   "metadata": {},
   "outputs": [],
   "source": [
    "data.Brand.unique()"
   ]
  },
  {
   "cell_type": "code",
   "execution_count": null,
   "id": "cc46ebb2",
   "metadata": {},
   "outputs": [],
   "source": [
    "# #changing brandnames\n",
    "# data.loc[data.Brand == 'ISUZU','Brand']='Isuzu'\n",
    "# data.loc[data.Brand=='Mini','Brand']='Mini Cooper'\n",
    "# data.loc[data.Brand=='Land','Brand']='Land Rover'\n",
    "# #data['Brand']=data[\"Brand\"].astype(\"category\")"
   ]
  },
  {
   "cell_type": "code",
   "execution_count": null,
   "id": "f2aede4d",
   "metadata": {},
   "outputs": [],
   "source": [
    "data.groupby(data.Brand).size().sort_values(ascending =False)"
   ]
  },
  {
   "cell_type": "markdown",
   "id": "202e6eeb",
   "metadata": {},
   "source": [
    "<div class = \"alert alert-block alert-info\">There are 32 unique Brands in the dataset.Maruti brand is most available for purchase/Sold followed by Hyundai.</div> "
   ]
  },
  {
   "cell_type": "markdown",
   "id": "330580ab",
   "metadata": {},
   "source": [
    "***"
   ]
  },
  {
   "cell_type": "markdown",
   "id": "547841e2",
   "metadata": {},
   "source": [
    "<a id = \"dropping-redundant-information\"></a>\n",
    "### Dropping Redundant Information\n",
    "- Some columns or variables can be dropped if they do not add value to our analysis.\n",
    "- In our dataset, the column S.No have only ID values, assuming they don’t have any predictive power to predict the dependent variable.\n",
    "\n",
    "<br>[back to contents](#contents)"
   ]
  },
  {
   "cell_type": "code",
   "execution_count": null,
   "id": "25152851",
   "metadata": {},
   "outputs": [],
   "source": [
    "# Remove S.No. column from data\n",
    "data = data.drop(['S.No.'], axis = 1)\n",
    "data.info()"
   ]
  },
  {
   "cell_type": "markdown",
   "id": "99f9e4be",
   "metadata": {},
   "source": [
    "**Cooments:** We start our Feature Engineering as we need to add some columns required for analysis.\n",
    "***"
   ]
  },
  {
   "cell_type": "markdown",
   "id": "e59b78e5",
   "metadata": {},
   "source": [
    "***"
   ]
  },
  {
   "cell_type": "markdown",
   "id": "7778e550",
   "metadata": {},
   "source": [
    "<a id = \"feature-scalling\"></a>\n",
    "## Feature Scalling\n",
    "- MinMaxScaler: - https://scikit-learn.org/stable/modules/generated/sklearn.preprocessing.MinMaxScaler.html\n",
    "- StandardScaler:  https://scikit-learn.org/stable/modules/generated/sklearn.preprocessing.StandardScaler.html\n",
    "- Log transformation\n",
    "\n",
    "<br>[back to contents](#contents)"
   ]
  },
  {
   "cell_type": "code",
   "execution_count": null,
   "id": "e4648e53",
   "metadata": {},
   "outputs": [],
   "source": []
  },
  {
   "cell_type": "code",
   "execution_count": null,
   "id": "fab4c749",
   "metadata": {},
   "outputs": [],
   "source": []
  },
  {
   "cell_type": "code",
   "execution_count": null,
   "id": "817e26aa",
   "metadata": {},
   "outputs": [],
   "source": []
  },
  {
   "cell_type": "markdown",
   "id": "444095f0",
   "metadata": {},
   "source": [
    "***\n",
    "***"
   ]
  },
  {
   "cell_type": "markdown",
   "id": "42f1101a",
   "metadata": {},
   "source": [
    "<a id = \"visualization\"></a>\n",
    "### Visualization\n",
    "[back to contents](#contents)"
   ]
  },
  {
   "cell_type": "markdown",
   "id": "212f06b1",
   "metadata": {},
   "source": [
    "-\tCategorical variables can be visualized using a Count plot, Bar Chart, Pie Plot, etc.\n",
    "-\tNumerical Variables can be visualized using Histogram, Box Plot, Density Plot, etc.\n",
    "-\tIn our example, we have done a Univariate analysis using Histogram and  Box Plot for continuous Variables.\n",
    "-\tIn the below fig, a histogram and box plot is used to show the pattern of the variables, as some variables have skewness and outliers.\n"
   ]
  },
  {
   "cell_type": "code",
   "execution_count": null,
   "id": "e7d517ae",
   "metadata": {},
   "outputs": [],
   "source": [
    "#Before we do EDA, lets separate Numerical and categorical variables for easy analysis\n",
    "\n",
    "cat_cols=data.select_dtypes(include=['object']).columns\n",
    "num_cols = data.select_dtypes(include=np.number).columns.tolist()\n",
    "print(\"Categorical Variables:\")\n",
    "print(cat_cols)\n",
    "print(\"Numerical Variables:\")\n",
    "print(num_cols)"
   ]
  },
  {
   "cell_type": "markdown",
   "id": "ca1b7b0b",
   "metadata": {},
   "source": [
    "### Univariate Analysis\n",
    "-\tPrice and Kilometers Driven are right skewed for this data to be transformed, and all outliers will be handled during imputation\n",
    "-\tcategorical variables are being visualized using a count plot. Categorical variables provide the pattern of factors influencing car price\n"
   ]
  },
  {
   "cell_type": "code",
   "execution_count": null,
   "id": "c8a354ba",
   "metadata": {},
   "outputs": [],
   "source": [
    "print('Skewness :', data['Price'].skew())"
   ]
  },
  {
   "cell_type": "code",
   "execution_count": null,
   "id": "903f5f3b",
   "metadata": {},
   "outputs": [],
   "source": [
    "plt.figure(figsize = (15, 4))\n",
    "data['Price'].hist(grid=False)\n",
    "plt.ylabel('count')\n",
    "plt.show()"
   ]
  },
  {
   "cell_type": "markdown",
   "id": "ec7208bc",
   "metadata": {},
   "source": [
    "<a id = \"histogram\"></a>\n",
    "### Histogram\n",
    "[back to contents](#contents)"
   ]
  },
  {
   "cell_type": "markdown",
   "id": "ee995504",
   "metadata": {},
   "source": [
    "<a id = \"boxplot\"></a>\n",
    "### boxplot\n",
    "[back to contents](#contents)"
   ]
  },
  {
   "cell_type": "code",
   "execution_count": null,
   "id": "58937a4b",
   "metadata": {},
   "outputs": [],
   "source": [
    "plt.figure(figsize = (15, 4))\n",
    "sns.boxplot(x=data['Price'])\n",
    "plt.show()"
   ]
  },
  {
   "cell_type": "code",
   "execution_count": null,
   "id": "f6801d04",
   "metadata": {},
   "outputs": [],
   "source": [
    "plt.figure(figsize = (15, 4))\n",
    "plt.subplot(1, 2, 1)\n",
    "data['Price'].hist(grid=False)\n",
    "plt.ylabel('count')\n",
    "plt.subplot(1, 2, 2)\n",
    "sns.boxplot(x=data['Price'])\n",
    "plt.show()"
   ]
  },
  {
   "cell_type": "markdown",
   "id": "afa786b6",
   "metadata": {},
   "source": [
    "##### Histogram and boxplot for all continuous variables using subplot"
   ]
  },
  {
   "cell_type": "code",
   "execution_count": null,
   "id": "fe50e4f2",
   "metadata": {
    "scrolled": true
   },
   "outputs": [],
   "source": [
    "for col in num_cols:\n",
    "    print(col)\n",
    "    print('Skew :', round(data[col].skew(), 2))\n",
    "    plt.figure(figsize = (15, 4))\n",
    "    plt.subplot(1, 2, 1)\n",
    "    data[col].hist(grid=False)\n",
    "    plt.ylabel('count')\n",
    "    plt.subplot(1, 2, 2)\n",
    "    sns.boxplot(x=data[col])\n",
    "    plt.show()"
   ]
  },
  {
   "cell_type": "markdown",
   "id": "0daebe40",
   "metadata": {},
   "source": [
    "<a id = \"barplot\"></a>\n",
    "### Bar Plot\n",
    "[back to contents](#contents)"
   ]
  },
  {
   "cell_type": "code",
   "execution_count": null,
   "id": "f9b2f114",
   "metadata": {},
   "outputs": [],
   "source": [
    "plt.figure(figsize = (15, 4))\n",
    "\n",
    "sns.countplot( x = 'Fuel_Type', data = data, color = 'blue', \n",
    "              order = data['Fuel_Type'].value_counts().index);\n"
   ]
  },
  {
   "cell_type": "code",
   "execution_count": null,
   "id": "106ebfb0",
   "metadata": {},
   "outputs": [],
   "source": [
    "fig, axes = plt.subplots(3, 2, figsize = (18, 18))\n",
    "fig.suptitle('Bar plot for all categorical variables in the dataset')\n",
    "sns.countplot(ax = axes[0, 0], x = 'Fuel_Type', data = data, color = 'blue', \n",
    "              order = data['Fuel_Type'].value_counts().index);\n",
    "sns.countplot(ax = axes[0, 1], x = 'Transmission', data = data, color = 'blue', \n",
    "              order = data['Transmission'].value_counts().index);\n",
    "sns.countplot(ax = axes[1, 0], x = 'Owner_Type', data = data, color = 'blue', \n",
    "              order = data['Owner_Type'].value_counts().index);\n",
    "sns.countplot(ax = axes[1, 1], x = 'Location', data = data, color = 'blue', \n",
    "              order = data['Location'].value_counts().index);\n",
    "sns.countplot(ax = axes[2, 0], x = 'Brand', data = data, color = 'blue', \n",
    "              order = data['Brand'].head(20).value_counts().index);\n",
    "sns.countplot(ax = axes[2, 1], x = 'Model', data = data, color = 'blue', \n",
    "              order = data['Model'].head(20).value_counts().index);\n",
    "axes[1][1].tick_params(labelrotation=45);\n",
    "axes[2][0].tick_params(labelrotation=90);\n",
    "axes[2][1].tick_params(labelrotation=90);\n"
   ]
  },
  {
   "cell_type": "markdown",
   "id": "87b85fd5",
   "metadata": {},
   "source": [
    "<div class = \"alert alert-block alert-info\"><b>Comments</b></div>\t\n",
    "From the count plot, we can have below observations\n",
    "\n",
    "-\tMumbai has the highest number of cars available for purchase, followed by Hyderabad and Coimbatore \n",
    "- ~53% of cars have fuel type as Diesel this shows diesel cars provide higher performance \n",
    "- ~72% of cars have manual transmission \n",
    "- ~82 % of cars are First owned cars. \n",
    "- This shows most of the buyers prefer to purchase first-owner cars ~20% of cars belong to the brand Maruti followed by 19% of cars belonging to Hyundai WagonR ranks first among all models which are available for purchase\n"
   ]
  },
  {
   "cell_type": "markdown",
   "id": "37a3fe2b",
   "metadata": {},
   "source": [
    "### Bivariate Analysis\n",
    "-\tBivariate Analysis helps to understand how variables are related to each other and the relationship between dependent and independent variables present in the dataset.\n",
    "-\tFor Numerical variables, Pair plots and Scatter plots are widely been used to do Bivariate Analysis.\n",
    "-\tA Stacked bar chart can be used for categorical variables if the output variable is a classifier. Bar plots can be used if the output variable is continuous\n",
    "-\tIn our example, a pair plot has been used to show the relationship between two Categorical variables."
   ]
  },
  {
   "cell_type": "markdown",
   "id": "6d2d348d",
   "metadata": {},
   "source": [
    "<div class = \"alert alert-block alert-warning\"><b> Need Preprocessing Again! Data Transformation</b></div>\n",
    "\n",
    "- Before we proceed to Bi-variate Analysis, Univariate analysis demonstrated the data pattern as some variables to be transformed.\n",
    "- Price and Kilometer-Driven variables are highly skewed and on a larger scale. Let’s do log transformation.\n",
    "- Log transformation can help in normalization, so this variable can maintain standard scale with other variables:"
   ]
  },
  {
   "cell_type": "markdown",
   "id": "2bc57eac",
   "metadata": {},
   "source": [
    "https://numpy.org/doc/stable/reference/generated/numpy.log.html"
   ]
  },
  {
   "cell_type": "code",
   "execution_count": null,
   "id": "e983e303",
   "metadata": {},
   "outputs": [],
   "source": [
    "data['log_price']=np.log(data['Price'])"
   ]
  },
  {
   "cell_type": "code",
   "execution_count": null,
   "id": "02d227c2",
   "metadata": {},
   "outputs": [],
   "source": [
    "# data.head()"
   ]
  },
  {
   "cell_type": "code",
   "execution_count": null,
   "id": "b36c366b",
   "metadata": {
    "scrolled": true
   },
   "outputs": [],
   "source": [
    "data[\"Kilometers_Driven_log\"]=np.log(data[\"Kilometers_Driven\"])\n",
    "#Log transformation of the feature 'Kilometers_Driven'\n",
    "sns.distplot(data[\"Kilometers_Driven_log\"], axlabel=\"Kilometers_Driven_log\");\n"
   ]
  },
  {
   "cell_type": "code",
   "execution_count": null,
   "id": "ce13ef8a",
   "metadata": {},
   "outputs": [],
   "source": [
    "plt.figure(figsize=(13,17))\n",
    "sns.pairplot(data=data.drop(['Kilometers_Driven','Price'],axis=1))\n",
    "plt.show()"
   ]
  },
  {
   "cell_type": "markdown",
   "id": "7ba8fc0e",
   "metadata": {},
   "source": [
    "### Pair Plot provides following insights:\n",
    "-\tThe variable Year has a positive correlation with price and mileage\n",
    "-\tA year has a Negative correlation with kilometers-Driven\n",
    "-\tMileage is negatively correlated with Power\n",
    "-\tAs power increases, mileage decreases\n",
    "-\tCar with recent make is higher at prices. As the age of the car increases price decreases\n",
    "-\tEngine and Power increase, and the price of the car increases\n",
    "-\tA bar plot can be used to show the relationship between Categorical variables and continuous variables "
   ]
  },
  {
   "cell_type": "code",
   "execution_count": null,
   "id": "8e1b792c",
   "metadata": {},
   "outputs": [],
   "source": [
    "data.columns"
   ]
  },
  {
   "cell_type": "code",
   "execution_count": null,
   "id": "0ad2ad2e",
   "metadata": {},
   "outputs": [],
   "source": [
    "data['Price_log'] = np.log(data['Price'])"
   ]
  },
  {
   "cell_type": "code",
   "execution_count": null,
   "id": "318c98d4",
   "metadata": {},
   "outputs": [],
   "source": [
    "fig, axarr = plt.subplots(4, 2, figsize=(12, 18))\n",
    "data.groupby('Location')['Price_log'].mean().sort_values(ascending=False).plot.bar(ax=axarr[0][0], fontsize=12)\n",
    "axarr[0][0].set_title(\"Location Vs Price\", fontsize=18)\n",
    "data.groupby('Transmission')['Price_log'].mean().sort_values(ascending=False).plot.bar(ax=axarr[0][1], fontsize=12)\n",
    "axarr[0][1].set_title(\"Transmission Vs Price\", fontsize=18)\n",
    "data.groupby('Fuel_Type')['Price_log'].mean().sort_values(ascending=False).plot.bar(ax=axarr[1][0], fontsize=12)\n",
    "axarr[1][0].set_title(\"Fuel_Type Vs Price\", fontsize=18)\n",
    "data.groupby('Owner_Type')['Price_log'].mean().sort_values(ascending=False).plot.bar(ax=axarr[1][1], fontsize=12)\n",
    "axarr[1][1].set_title(\"Owner_Type Vs Price\", fontsize=18)\n",
    "data.groupby('Brand')['Price_log'].mean().sort_values(ascending=False).head(10).plot.bar(ax=axarr[2][0], fontsize=12)\n",
    "axarr[2][0].set_title(\"Brand Vs Price\", fontsize=18)\n",
    "data.groupby('Model')['Price_log'].mean().sort_values(ascending=False).head(10).plot.bar(ax=axarr[2][1], fontsize=12)\n",
    "axarr[2][1].set_title(\"Model Vs Price\", fontsize=18)\n",
    "data.groupby('Seats')['Price_log'].mean().sort_values(ascending=False).plot.bar(ax=axarr[3][0], fontsize=12)\n",
    "axarr[3][0].set_title(\"Seats Vs Price\", fontsize=18)\n",
    "data.groupby('Ageofcars')['Price_log'].mean().sort_values(ascending=False).plot.bar(ax=axarr[3][1], fontsize=12)\n",
    "axarr[3][1].set_title(\"Ageofcars Vs Price\", fontsize=18)\n",
    "plt.subplots_adjust(hspace=1.0)\n",
    "plt.subplots_adjust(wspace=.5)\n",
    "sns.despine()"
   ]
  },
  {
   "cell_type": "markdown",
   "id": "6a0f0e33",
   "metadata": {},
   "source": [
    "<div class = \"alert alert-block alert-info\"><b>Comments:</b></div>\n",
    "\n",
    "-\tThe price of cars is high in Coimbatore and less price in Kolkata and Jaipur\n",
    "-\tAutomatic cars have more price than manual cars.\n",
    "-\tDiesel and Electric cars have almost the same price, which is maximum, and LPG cars have the lowest price\n",
    "-\tFirst-owner cars are higher in price, followed by a second\n",
    "-\tThe third owner’s price is lesser than the Fourth and above\n",
    "-\tLamborghini brand is the highest in price\n",
    "-\tGallardocoupe Model is the highest in price\n",
    "-\t2 Seater has the highest price followed by 7 Seater\n",
    "-\tThe latest model cars are high in price"
   ]
  },
  {
   "cell_type": "code",
   "execution_count": null,
   "id": "55ab681e",
   "metadata": {},
   "outputs": [],
   "source": []
  },
  {
   "cell_type": "markdown",
   "id": "895a8c96",
   "metadata": {},
   "source": [
    "### Multivariate Analysis\n",
    "-\tMultivariate analysis is useful methods to determine relationships and analyze patterns for any dataset. \n",
    "-\tHeat Map gives the correlation between the variables, whether it has a positive or negative correlation. "
   ]
  },
  {
   "cell_type": "code",
   "execution_count": null,
   "id": "4746dba4",
   "metadata": {},
   "outputs": [],
   "source": [
    "data.drop(['Kilometers_Driven','Price'],axis=1, inplace = True)"
   ]
  },
  {
   "cell_type": "code",
   "execution_count": null,
   "id": "a2e7605b",
   "metadata": {},
   "outputs": [],
   "source": [
    "plt.figure(figsize=(12, 7))\n",
    "sns.heatmap(data.corr(), annot = True, vmin = -1, vmax = 1)\n",
    "plt.show()\n"
   ]
  },
  {
   "cell_type": "markdown",
   "id": "7cb55d1e",
   "metadata": {},
   "source": [
    "<div class = \"alert alert-block alert-info\"><b> Comments: </b> From the Heat map, we can infer the following</div>\n",
    "\n",
    "-\tThe engine has a strong positive correlation to Power 0.86\n",
    "-\tPrice has a positive correlation to Engine 0.69 as well Power 0.77\n",
    "-\tMileage has correlated to Engine, Power, and Price negatively\n",
    "-\tPrice is moderately positive in correlation to year.\n",
    "-\tKilometer driven has a negative correlation to year not much impact on the price\n",
    "-\tCar age has a negative correlation with Price\n",
    "-\tcar Age is positively correlated to Kilometers-Driven as the Age of the car increases; then the kilometer will also increase of car has a negative correlation with Mileage this makes sense\n"
   ]
  },
  {
   "cell_type": "markdown",
   "id": "2cd5f99d",
   "metadata": {},
   "source": [
    "***"
   ]
  },
  {
   "cell_type": "markdown",
   "id": "dc93df6e",
   "metadata": {},
   "source": [
    "<a id = \"dealing-with-outliers\"></a>\n",
    "### Dealing with Outliers\n",
    "- https://www.analyticsvidhya.com/blog/2021/05/detecting-and-treating-outliers-treating-the-odd-one-out/\n",
    "\n",
    "[back to contents](#contents)"
   ]
  },
  {
   "cell_type": "markdown",
   "id": "86d280eb",
   "metadata": {},
   "source": [
    "### Outlier detection\n",
    "- Boxplots\n",
    "- Z-score\n",
    "- Inter Quantile Range(IQR)"
   ]
  },
  {
   "attachments": {
    "image-2.png": {
     "image/png": "[encoded data removed]"
    },
    "image.png": {
     "image/png": "[encoded data removed]"
    }
   },
   "cell_type": "markdown",
   "id": "0106b51b",
   "metadata": {},
   "source": [
    "![image.png](attachment:image.png), ![image-2.png](attachment:image-2.png)"
   ]
  },
  {
   "cell_type": "code",
   "execution_count": null,
   "id": "4cad1286",
   "metadata": {},
   "outputs": [],
   "source": []
  },
  {
   "cell_type": "markdown",
   "id": "f6c53bd7",
   "metadata": {},
   "source": [
    "### Treatment of outlier\n",
    "- Trimming or removing\n",
    "- Quantile based flooring and capping\n",
    "- Imputation"
   ]
  },
  {
   "cell_type": "code",
   "execution_count": null,
   "id": "8653a069",
   "metadata": {},
   "outputs": [],
   "source": []
  },
  {
   "cell_type": "markdown",
   "id": "018815ce",
   "metadata": {},
   "source": [
    "***"
   ]
  },
  {
   "cell_type": "markdown",
   "id": "69b695a2",
   "metadata": {},
   "source": [
    "<div class = \"alert alert-block alert-success\"><b> Overall Comments:</b>\n",
    "Through EDA, we got useful insights, and below are the factors influencing the price of the car and a few takeaways:\n",
    "\n",
    "-\tMost of the customers prefer 2 Seat cars hence the price of the 2-seat cars is higher than other cars.\n",
    "-\tThe price of the car decreases as the Age of the car increases.\n",
    "-\tCustomers prefer to purchase the First owner rather than the Second or Third.\n",
    "-\tDue to increased Fuel price, the customer prefers to purchase an Electric vehicle.\n",
    "-\tAutomatic Transmission is easier than Manual.\n",
    "</div>\n",
    "\n",
    "This way, we perform EDA on the datasets to explore the data and extract all possible insights, which can help in model building and better decision making.\n",
    "<br>**However, this was only an overview of how EDA works; you can go deeper into it and attempt the stages on larger datasets.**"
   ]
  },
  {
   "cell_type": "markdown",
   "id": "89e940a2",
   "metadata": {},
   "source": [
    "### Save the preprocessed data file as csv"
   ]
  },
  {
   "cell_type": "code",
   "execution_count": null,
   "id": "9b539119",
   "metadata": {},
   "outputs": [],
   "source": [
    "import pandas as pd\n",
    "data.to_csv('data_processed.csv')\n",
    "# https://pandas.pydata.org/docs/reference/api/pandas.DataFrame.to_csv.html"
   ]
  },
  {
   "cell_type": "markdown",
   "id": "23a36f82",
   "metadata": {},
   "source": [
    "***"
   ]
  },
  {
   "cell_type": "markdown",
   "id": "bfffa676",
   "metadata": {},
   "source": [
    "<div class = \"alert alert-block alert-danger\"><b> Why Exploratory Data Analysis?</b></div>\n",
    "\n",
    "-\tExploratory Data Analysis refers to the crucial process of performing initial investigations on data to discover patterns to check assumptions with the help of summary statistics and graphical representations.\n",
    "-\tEDA can be leveraged to check for outliers, patterns, and trends in the given data.\n",
    "-\tEDA helps to find meaningful patterns in data.\n",
    "-\tEDA provides in-depth insights into the data sets to solve our business problems.\n",
    "-\tEDA gives a clue to impute missing values in the dataset "
   ]
  },
  {
   "cell_type": "markdown",
   "id": "018d9508",
   "metadata": {},
   "source": [
    "# Thank You.."
   ]
  }
 ],
 "metadata": {
  "kernelspec": {
   "display_name": "Python 3 (ipykernel)",
   "language": "python",
   "name": "python3"
  },
  "language_info": {
   "codemirror_mode": {
    "name": "ipython",
    "version": 3
   },
   "file_extension": ".py",
   "mimetype": "text/x-python",
   "name": "python",
   "nbconvert_exporter": "python",
   "pygments_lexer": "ipython3",
   "version": "3.11.4"
  }
 },
 "nbformat": 4,
 "nbformat_minor": 5
}
